{
  "nbformat": 4,
  "nbformat_minor": 0,
  "metadata": {
    "colab": {
      "provenance": [],
      "toc_visible": true
    },
    "kernelspec": {
      "name": "python3",
      "display_name": "Python 3"
    },
    "language_info": {
      "name": "python"
    }
  },
  "cells": [
    {
      "cell_type": "markdown",
      "source": [
        "#Setup PySpark\n",
        "\n",
        "- Dwa obrazy:\n",
        "\n",
        "    - starszy (sprawdzony) https://hub.docker.com/r/jupyter/all-spark-notebook\n",
        "\n",
        "    - nowszy https://quay.io/repository/jupyter/all-spark-notebook\n",
        "\n",
        "\n",
        "- Dokumentacja https://jupyter-docker-stacks.readthedocs.io/en/latest/\n"
      ],
      "metadata": {
        "id": "hEJwsyVwd9ik"
      }
    },
    {
      "cell_type": "markdown",
      "source": [
        "Konfiguruje obraz `jupyter/all-spark-notebook` z Docker Desktop."
      ],
      "metadata": {
        "id": "k2FHfq0XF1P_"
      }
    },
    {
      "cell_type": "code",
      "execution_count": null,
      "metadata": {
        "id": "R0sf0nsNd7Zy"
      },
      "outputs": [],
      "source": [
        "docker pull jupyter/all-spark-notebook\n",
        "/home/jovyan/work\n",
        "\n",
        "spark # container name\n",
        "9999 # host port\n",
        "/Users/p/Documents/VSC/spark # host path\n",
        "/home/jovyan/work # container path\n",
        "\n",
        "http://127.0.0.1:8888/lab?token=0e05af83108d7d839021000fccf0b1c44b771f45f8798521"
      ]
    },
    {
      "cell_type": "markdown",
      "source": [
        "Port 8888 mam zajęty i zmieniam go na 9999"
      ],
      "metadata": {
        "id": "DMB_0bJIFUdK"
      }
    },
    {
      "cell_type": "code",
      "source": [
        "spark % lsof -i :9999\n",
        "\n",
        "COMMAND     PID USER   FD   TYPE             DEVICE SIZE/OFF NODE NAME\n",
        "Google      882    p   49u  IPv4 0x3215e7dddaa12ed4      0t0  TCP localhost:53106->localhost:distinct (CLOSE_WAIT)\n",
        "com.docke 35795    p   85u  IPv6 0xc43f96cc701bc1c8      0t0  TCP *:distinct (LISTEN)"
      ],
      "metadata": {
        "id": "WOVxeSTqgjeX"
      },
      "execution_count": null,
      "outputs": []
    },
    {
      "cell_type": "markdown",
      "source": [
        "Usuwam programy pracujący na porcie 9999"
      ],
      "metadata": {
        "id": "Fc1u58yYFbeR"
      }
    },
    {
      "cell_type": "code",
      "source": [
        "kill -9 35795\n",
        "kill -9 882"
      ],
      "metadata": {
        "id": "TrkYAVmvglwV"
      },
      "execution_count": null,
      "outputs": []
    },
    {
      "cell_type": "code",
      "source": [
        "docker stop $(docker ps -q)"
      ],
      "metadata": {
        "id": "WUVfP5xCkL2w"
      },
      "execution_count": null,
      "outputs": []
    },
    {
      "cell_type": "markdown",
      "source": [
        "##Start conteiners"
      ],
      "metadata": {
        "id": "tv6vq-k9Kdkf"
      }
    },
    {
      "cell_type": "code",
      "source": [
        "docker run -p 9999:8888 jupyter/all-spark-notebook"
      ],
      "metadata": {
        "id": "NeMcUBFAhN4A"
      },
      "execution_count": null,
      "outputs": []
    },
    {
      "cell_type": "code",
      "source": [
        "    To access the server, open this file in a browser:\n",
        "        file:///home/jovyan/.local/share/jupyter/runtime/jpserver-7-open.html\n",
        "    Or copy and paste one of these URLs:\n",
        "        http://fdf2b7776270:8888/lab?token=0b315d7c0c7567bac315c0a5c72f50042ec78c07054bf4f9\n",
        "        http://127.0.0.1:8888/lab?token=0b315d7c0c7567bac315c0a5c72f50042ec78c07054bf4f9"
      ],
      "metadata": {
        "id": "WkApYivRFHXV"
      },
      "execution_count": null,
      "outputs": []
    },
    {
      "cell_type": "markdown",
      "source": [
        "Wchodzę na URL: http://127.0.0.1:8888/lab?token=0b315d7c0c7567bac315c0a5c72f50042ec78c07054bf4f9 i zmieniam to na: http://127.0.0.1:9999/lab?token=0b315d7c0c7567bac315c0a5c72f50042ec78c07054bf4f9"
      ],
      "metadata": {
        "id": "RCgr77dVFKLy"
      }
    },
    {
      "cell_type": "markdown",
      "source": [
        "#GIT"
      ],
      "metadata": {
        "id": "6UpteLJyJ-oe"
      }
    },
    {
      "cell_type": "code",
      "source": [
        "mkdir PySpark\n",
        "cd PySpark"
      ],
      "metadata": {
        "id": "ju2zQHOeKYcj"
      },
      "execution_count": null,
      "outputs": []
    },
    {
      "cell_type": "code",
      "source": [
        "echo \"# PySpark\" >> README.md\n",
        "git init\n",
        "git add README.md\n",
        "git commit -m \"first commit\"\n",
        "git branch -M main\n",
        "git remote add origin https://github.com/url-github/PySpark.git\n",
        "git push -u origin main"
      ],
      "metadata": {
        "id": "mS3nGIPYJ_1v"
      },
      "execution_count": null,
      "outputs": []
    }
  ]
}