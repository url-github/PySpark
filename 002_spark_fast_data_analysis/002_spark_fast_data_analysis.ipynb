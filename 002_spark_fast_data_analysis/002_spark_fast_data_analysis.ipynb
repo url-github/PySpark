{
 "cells": [
  {
   "cell_type": "markdown",
   "id": "0b763ed0-9d8f-4eba-9932-18f8a8095fd1",
   "metadata": {},
   "source": [
    "# 2.Pobieranie Apache Spark i ropoczęcie pracy"
   ]
  },
  {
   "cell_type": "code",
   "execution_count": 4,
   "id": "0f1bac67-57ad-41db-a1b1-4663ce41406e",
   "metadata": {},
   "outputs": [],
   "source": [
    "from pyspark.sql import SparkSession, Row\n",
    "from pyspark.sql.types import StructType, StructField, StringType, IntegerType, ArrayType, MapType, DateType, TimestampType\n",
    "from pyspark.sql.functions import (\n",
    "    col, size, lit, explode, \n",
    "    concat, concat_ws, substring, \n",
    "    datediff, date_add, date_sub,\n",
    "    year, month, dayofmonth, dayofweek, dayofyear, weekofyear, \n",
    "    hour, minute, second,\n",
    "    count, min, max, avg, sum, udf, when\n",
    ")\n",
    "from datetime import datetime\n",
    "\n",
    "spark = SparkSession.builder.appName(\"spark\").getOrCreate()"
   ]
  },
  {
   "cell_type": "code",
   "execution_count": 6,
   "id": "8abf98f0-73d7-465e-9a4b-84fa089932dc",
   "metadata": {},
   "outputs": [
    {
     "name": "stdout",
     "output_type": "stream",
     "text": [
      "+-------------------------------------------------------------------------------+\n",
      "|value                                                                          |\n",
      "+-------------------------------------------------------------------------------+\n",
      "|English short name lower case,Alpha-2 code,Alpha-3 code,Numeric code,ISO 3166-2|\n",
      "|Afghanistan,AF,AFG,004,ISO 3166-2:AF                                           |\n",
      "|Åland Islands,AX,ALA,248,ISO 3166-2:AX                                         |\n",
      "|Albania,AL,ALB,008,ISO 3166-2:AL                                               |\n",
      "|Algeria,DZ,DZA,012,ISO 3166-2:DZ                                               |\n",
      "|American Samoa,AS,ASM,016,ISO 3166-2:AS                                        |\n",
      "|Andorra,AD,AND,020,ISO 3166-2:AD                                               |\n",
      "|Angola,AO,AGO,024,ISO 3166-2:AO                                                |\n",
      "|Anguilla,AI,AIA,660,ISO 3166-2:AI                                              |\n",
      "|Antarctica,AQ,ATA,010,ISO 3166-2:AQ                                            |\n",
      "+-------------------------------------------------------------------------------+\n",
      "only showing top 10 rows\n",
      "\n"
     ]
    }
   ],
   "source": [
    "strings = spark.read.text(\"data/wikipedia-iso-country-codes.csv\")\n",
    "strings.show(10, truncate=False)"
   ]
  },
  {
   "cell_type": "code",
   "execution_count": null,
   "id": "ea46aec8-bada-4717-a85a-e94cd2f06f13",
   "metadata": {},
   "outputs": [],
   "source": []
  }
 ],
 "metadata": {
  "kernelspec": {
   "display_name": "Python 3 (ipykernel)",
   "language": "python",
   "name": "python3"
  },
  "language_info": {
   "codemirror_mode": {
    "name": "ipython",
    "version": 3
   },
   "file_extension": ".py",
   "mimetype": "text/x-python",
   "name": "python",
   "nbconvert_exporter": "python",
   "pygments_lexer": "ipython3",
   "version": "3.11.6"
  }
 },
 "nbformat": 4,
 "nbformat_minor": 5
}
