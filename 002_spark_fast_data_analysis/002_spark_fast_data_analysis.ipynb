{
  "cells": [
    {
      "cell_type": "markdown",
      "source": [
        "#Materiały\n",
        "\n",
        "https://github.com/databricks/LearningSparkV2"
      ],
      "metadata": {
        "id": "vkFiA1tUSOSA"
      },
      "id": "vkFiA1tUSOSA"
    },
    {
      "cell_type": "markdown",
      "source": [
        "#Setup"
      ],
      "metadata": {
        "id": "BiFxxg1Yh4DQ"
      },
      "id": "BiFxxg1Yh4DQ"
    },
    {
      "cell_type": "code",
      "source": [
        "pip install pyspark"
      ],
      "metadata": {
        "colab": {
          "base_uri": "https://localhost:8080/"
        },
        "collapsed": true,
        "id": "qwmZ_wXDh64U",
        "outputId": "7e020ec3-25be-4ac3-bad4-45faccc310aa"
      },
      "id": "qwmZ_wXDh64U",
      "execution_count": null,
      "outputs": [
        {
          "output_type": "stream",
          "name": "stdout",
          "text": [
            "Collecting pyspark\n",
            "  Downloading pyspark-3.5.3.tar.gz (317.3 MB)\n",
            "\u001b[2K     \u001b[90m━━━━━━━━━━━━━━━━━━━━━━━━━━━━━━━━━━━━━━━━\u001b[0m \u001b[32m317.3/317.3 MB\u001b[0m \u001b[31m4.5 MB/s\u001b[0m eta \u001b[36m0:00:00\u001b[0m\n",
            "\u001b[?25h  Preparing metadata (setup.py) ... \u001b[?25l\u001b[?25hdone\n",
            "Requirement already satisfied: py4j==0.10.9.7 in /usr/local/lib/python3.10/dist-packages (from pyspark) (0.10.9.7)\n",
            "Building wheels for collected packages: pyspark\n",
            "  Building wheel for pyspark (setup.py) ... \u001b[?25l\u001b[?25hdone\n",
            "  Created wheel for pyspark: filename=pyspark-3.5.3-py2.py3-none-any.whl size=317840625 sha256=607fa99283f8c7181e00023c81f7a37f5acc982afc87031dfd848190fc8b03bb\n",
            "  Stored in directory: /root/.cache/pip/wheels/1b/3a/92/28b93e2fbfdbb07509ca4d6f50c5e407f48dce4ddbda69a4ab\n",
            "Successfully built pyspark\n",
            "Installing collected packages: pyspark\n",
            "Successfully installed pyspark-3.5.3\n"
          ]
        }
      ]
    },
    {
      "cell_type": "code",
      "execution_count": null,
      "id": "0f1bac67-57ad-41db-a1b1-4663ce41406e",
      "metadata": {
        "id": "0f1bac67-57ad-41db-a1b1-4663ce41406e"
      },
      "outputs": [],
      "source": [
        "from pyspark.sql import SparkSession, Row\n",
        "from pyspark.sql.types import StructType, StructField, StringType, IntegerType, ArrayType, MapType, DateType, TimestampType\n",
        "from pyspark.sql.functions import (\n",
        "    col, size, lit, explode,\n",
        "    concat, concat_ws, substring,\n",
        "    datediff, date_add, date_sub, date_format,\n",
        "    year, month, dayofmonth, dayofweek, dayofyear, weekofyear,\n",
        "    hour, minute, second, to_timestamp,\n",
        "    count, countDistinct, min, max, avg, sum, udf, when,\n",
        "    desc, asc\n",
        "\n",
        ")\n",
        "\n",
        "# import pyspark.sql.functions as F\n",
        "\n",
        "from datetime import datetime"
      ]
    },
    {
      "cell_type": "code",
      "source": [
        "spark = SparkSession.builder.appName(\"a\").getOrCreate()"
      ],
      "metadata": {
        "id": "D48ALWfxH7Oy"
      },
      "id": "D48ALWfxH7Oy",
      "execution_count": 5,
      "outputs": []
    },
    {
      "cell_type": "code",
      "source": [
        "spark"
      ],
      "metadata": {
        "colab": {
          "base_uri": "https://localhost:8080/",
          "height": 221
        },
        "id": "I0MVTIXjLECq",
        "outputId": "a6ad8709-80f9-4bc3-99bc-ab660b42ff08"
      },
      "id": "I0MVTIXjLECq",
      "execution_count": 6,
      "outputs": [
        {
          "output_type": "execute_result",
          "data": {
            "text/plain": [
              "<pyspark.sql.session.SparkSession at 0x79062817eb60>"
            ],
            "text/html": [
              "\n",
              "            <div>\n",
              "                <p><b>SparkSession - in-memory</b></p>\n",
              "                \n",
              "        <div>\n",
              "            <p><b>SparkContext</b></p>\n",
              "\n",
              "            <p><a href=\"http://2e5f2f7ecb09:4040\">Spark UI</a></p>\n",
              "\n",
              "            <dl>\n",
              "              <dt>Version</dt>\n",
              "                <dd><code>v3.5.3</code></dd>\n",
              "              <dt>Master</dt>\n",
              "                <dd><code>local[*]</code></dd>\n",
              "              <dt>AppName</dt>\n",
              "                <dd><code>a</code></dd>\n",
              "            </dl>\n",
              "        </div>\n",
              "        \n",
              "            </div>\n",
              "        "
            ]
          },
          "metadata": {},
          "execution_count": 6
        }
      ]
    },
    {
      "cell_type": "markdown",
      "source": [
        "#002A. Zliczanie cukierków M&M's"
      ],
      "metadata": {
        "id": "S1fWEAj09TkD"
      },
      "id": "S1fWEAj09TkD"
    },
    {
      "cell_type": "markdown",
      "source": [
        "###002A_gen_mnm_dataset.py"
      ],
      "metadata": {
        "id": "ejIhn1oh5yNq"
      },
      "id": "ejIhn1oh5yNq"
    },
    {
      "cell_type": "code",
      "source": [
        "import sys\n",
        "import random\n",
        "import csv\n",
        "\n",
        "def get_random_choice(lst):\n",
        "  return random.choice(lst)\n",
        "\n",
        "if __name__ == \"__main__\":\n",
        "    if len(sys.argv) != 2:\n",
        "        print(\"Usage: gen_mnm_dataset entries\", file=sys.stderr)\n",
        "        sys.exit(-1)\n",
        "\n",
        "    states = [\"CA\", \"WA\", \"TX\", \"NV\", \"CO\", \"OR\", \"AZ\", \"WY\", \"NM\", \"UT\"]\n",
        "    colors = [\"Brown\", \"Blue\", \"Orange\", \"Yellow\", \"Green\", \"Red\"]\n",
        "    fieldnames = ['State', 'Color', 'Count']\n",
        "\n",
        "\n",
        "    entries = int(sys.argv[1])\n",
        "    dataset_fn = \"mnm_dataset.csv\"\n",
        "\n",
        "    with open(dataset_fn, mode='w') as dataset_file:\n",
        "        dataset_writer = csv.writer(dataset_file, delimiter=',', quotechar='\"', quoting=csv.QUOTE_MINIMAL)\n",
        "        dataset_writer.writerow(fieldnames)\n",
        "        for i in range(1, entries):\n",
        "            dataset_writer.writerow([get_random_choice(states), get_random_choice(colors), random.randint(10, 100)])\n",
        "    print(\"Wrote %d lines in %s file\" % (entries, dataset_fn))"
      ],
      "metadata": {
        "colab": {
          "base_uri": "https://localhost:8080/",
          "height": 144
        },
        "collapsed": true,
        "id": "hFM6SKhm459T",
        "outputId": "959e1eba-1c7e-4e6f-c2da-a77bd07c6c25"
      },
      "id": "hFM6SKhm459T",
      "execution_count": null,
      "outputs": [
        {
          "output_type": "stream",
          "name": "stderr",
          "text": [
            "Usage: gen_mnm_dataset entries\n"
          ]
        },
        {
          "output_type": "error",
          "ename": "SystemExit",
          "evalue": "-1",
          "traceback": [
            "An exception has occurred, use %tb to see the full traceback.\n",
            "\u001b[0;31mSystemExit\u001b[0m\u001b[0;31m:\u001b[0m -1\n"
          ]
        },
        {
          "output_type": "stream",
          "name": "stderr",
          "text": [
            "/usr/local/lib/python3.10/dist-packages/IPython/core/interactiveshell.py:3561: UserWarning: To exit: use 'exit', 'quit', or Ctrl-D.\n",
            "  warn(\"To exit: use 'exit', 'quit', or Ctrl-D.\", stacklevel=1)\n"
          ]
        }
      ]
    },
    {
      "cell_type": "code",
      "source": [
        "# python3 002A_gen_mnm_dataset.py 1000 # 002A_gen_mnm_dataset.py pierwszy argv + 1000 drugi argv"
      ],
      "metadata": {
        "id": "NSaO-p2O5DRR"
      },
      "id": "NSaO-p2O5DRR",
      "execution_count": null,
      "outputs": []
    },
    {
      "cell_type": "markdown",
      "source": [
        "### 002A_gen_mnm_dataset.py (Colab)"
      ],
      "metadata": {
        "id": "f4HoxvB450dX"
      },
      "id": "f4HoxvB450dX"
    },
    {
      "cell_type": "code",
      "source": [
        "import random\n",
        "import csv\n",
        "\n",
        "def get_random_choice(lst):\n",
        "    return random.choice(lst)\n",
        "\n",
        "if __name__ == \"__main__\":\n",
        "    entries = 100000\n",
        "\n",
        "    states = [\"CA\", \"WA\", \"TX\", \"NV\", \"CO\", \"OR\", \"AZ\", \"WY\", \"NM\", \"UT\"]\n",
        "    colors = [\"Brown\", \"Blue\", \"Orange\", \"Yellow\", \"Green\", \"Red\"]\n",
        "    fieldnames = ['State', 'Color', 'Count']\n",
        "\n",
        "    dataset_fn = \"mnm_dataset.csv\"\n",
        "\n",
        "    with open(dataset_fn, mode='w') as dataset_file:\n",
        "        dataset_writer = csv.writer(dataset_file, delimiter=',', quotechar='\"', quoting=csv.QUOTE_MINIMAL)\n",
        "        dataset_writer.writerow(fieldnames)\n",
        "        for i in range(1, entries):\n",
        "            dataset_writer.writerow([get_random_choice(states), get_random_choice(colors), random.randint(10, 100)])\n",
        "    print(\"Wrote %d lines in %s file\" % (entries, dataset_fn))"
      ],
      "metadata": {
        "id": "3xUoN3Lr4-EY",
        "colab": {
          "base_uri": "https://localhost:8080/"
        },
        "outputId": "1ea1953e-d742-4191-e9ac-14726562dea8"
      },
      "id": "3xUoN3Lr4-EY",
      "execution_count": null,
      "outputs": [
        {
          "output_type": "stream",
          "name": "stdout",
          "text": [
            "Wrote 100000 lines in mnm_dataset.csv file\n"
          ]
        }
      ]
    },
    {
      "cell_type": "markdown",
      "source": [
        "###test_agg.py\n"
      ],
      "metadata": {
        "id": "ZT7bKGdaIwDR"
      },
      "id": "ZT7bKGdaIwDR"
    },
    {
      "cell_type": "code",
      "source": [
        "from __future__ import print_function\n",
        "\n",
        "import sys\n",
        "\n",
        "from pyspark.sql import SparkSession\n",
        "\n",
        "if __name__ == \"__main__\":\n",
        "    if len(sys.argv) != 2:\n",
        "        print(\"Usage: mnmcount <file>\", file=sys.stderr)\n",
        "        sys.exit(-1)\n",
        "\n",
        "    spark = (SparkSession\n",
        "        .builder\n",
        "        .appName(\"PythonMnMCount\")\n",
        "        .getOrCreate())\n",
        "    # get the M&M data set file name\n",
        "    mnm_file = sys.argv[1]\n",
        "    # read the file into a Spark DataFrame\n",
        "    mnm_df = (spark.read.format(\"csv\")\n",
        "                .option(\"header\", \"true\")\n",
        "                .option(\"inferSchema\", \"true\")\n",
        "                .load(mnm_file))\n",
        "    mnm_df.show(n=10, truncate=False)\n",
        "    # aggregate count of all colors and groupBy state and color\n",
        "    # orderBy descending order\n",
        "    count_mnm_df = (mnm_df.select(\"State\", \"Color\", \"Count\")\n",
        "                    .groupBy(\"State\", \"Color\")\n",
        "                    .sum(\"Count\")\n",
        "                    .orderBy(\"sum(Count)\", ascending=False))\n",
        "\n",
        "    count_mnm_df.show()"
      ],
      "metadata": {
        "id": "JoZ1msWyH__N"
      },
      "id": "JoZ1msWyH__N",
      "execution_count": null,
      "outputs": []
    },
    {
      "cell_type": "code",
      "source": [
        "# python3 test_agg.py /content/mnm_dataset.csv"
      ],
      "metadata": {
        "id": "ytuUdK5IMjm3"
      },
      "id": "ytuUdK5IMjm3",
      "execution_count": null,
      "outputs": []
    },
    {
      "cell_type": "markdown",
      "source": [
        "###test_agg.py (Colab)"
      ],
      "metadata": {
        "id": "7YYNfDHHI4L9"
      },
      "id": "7YYNfDHHI4L9"
    },
    {
      "cell_type": "code",
      "source": [
        "from pyspark.sql import SparkSession\n",
        "\n",
        "spark = (SparkSession\n",
        "         .builder\n",
        "         .appName(\"a\")\n",
        "         .getOrCreate())\n",
        "\n",
        "mnm_file = \"/content/mnm_dataset.csv\"\n",
        "\n",
        "mnm_df = (spark.read.format(\"csv\")\n",
        "          .option(\"header\", \"true\")\n",
        "          .option(\"inferSchema\", \"true\")  # Automatycznie rozpoznaj typy danych\n",
        "          .load(mnm_file))\n",
        "\n",
        "mnm_df.show(n=10, truncate=False)\n",
        "mnm_df.printSchema()\n",
        "\n",
        "count_mnm_df = (mnm_df.select(\"State\", \"Color\", \"Count\")\n",
        "                .groupBy(\"State\", \"Color\")\n",
        "                .sum(\"Count\")\n",
        "                .orderBy(\"sum(Count)\", ascending=False))\n",
        "\n",
        "count_mnm_df.show(n=30)"
      ],
      "metadata": {
        "colab": {
          "base_uri": "https://localhost:8080/"
        },
        "id": "SGpJ-qboI5g6",
        "outputId": "db95b9ee-3687-49ee-c230-366b5e94fdb0"
      },
      "id": "SGpJ-qboI5g6",
      "execution_count": null,
      "outputs": [
        {
          "output_type": "stream",
          "name": "stdout",
          "text": [
            "+-----+------+-----+\n",
            "|State|Color |Count|\n",
            "+-----+------+-----+\n",
            "|NV   |Red   |21   |\n",
            "|CO   |Orange|86   |\n",
            "|TX   |Yellow|54   |\n",
            "|NV   |Yellow|72   |\n",
            "|WA   |Brown |68   |\n",
            "|OR   |Blue  |64   |\n",
            "|NV   |Yellow|44   |\n",
            "|OR   |Yellow|32   |\n",
            "|CO   |Red   |10   |\n",
            "|OR   |Yellow|95   |\n",
            "+-----+------+-----+\n",
            "only showing top 10 rows\n",
            "\n",
            "root\n",
            " |-- State: string (nullable = true)\n",
            " |-- Color: string (nullable = true)\n",
            " |-- Count: integer (nullable = true)\n",
            "\n",
            "+-----+------+----------+\n",
            "|State| Color|sum(Count)|\n",
            "+-----+------+----------+\n",
            "|   UT|   Red|     96570|\n",
            "|   AZ|Yellow|     96194|\n",
            "|   UT|Orange|     96132|\n",
            "|   TX|Orange|     96117|\n",
            "|   WA| Brown|     95920|\n",
            "|   OR|  Blue|     95539|\n",
            "|   TX| Green|     94796|\n",
            "|   CO|   Red|     94338|\n",
            "|   UT| Green|     94166|\n",
            "|   CA| Green|     93947|\n",
            "|   TX|Yellow|     93745|\n",
            "|   NM| Green|     93594|\n",
            "|   CO| Brown|     93503|\n",
            "|   NM|   Red|     93367|\n",
            "|   OR|Yellow|     93257|\n",
            "|   CA|Yellow|     93079|\n",
            "|   WY| Brown|     93050|\n",
            "|   WY|   Red|     92869|\n",
            "|   OR|   Red|     92838|\n",
            "|   CA|  Blue|     92670|\n",
            "|   OR| Brown|     92659|\n",
            "|   OR|Orange|     92626|\n",
            "|   NV| Green|     92563|\n",
            "|   CA| Brown|     92545|\n",
            "|   AZ|   Red|     92476|\n",
            "|   NV|Orange|     92440|\n",
            "|   WA|Orange|     92210|\n",
            "|   NV|  Blue|     92119|\n",
            "|   WY| Green|     92034|\n",
            "|   WA|   Red|     91990|\n",
            "+-----+------+----------+\n",
            "only showing top 30 rows\n",
            "\n"
          ]
        }
      ]
    },
    {
      "cell_type": "markdown",
      "source": [
        "###mnmcount.py (Colab)"
      ],
      "metadata": {
        "id": "nsI_VcLvYIXF"
      },
      "id": "nsI_VcLvYIXF"
    },
    {
      "cell_type": "code",
      "source": [
        "from __future__ import print_function\n",
        "import sys\n",
        "from pyspark.sql import SparkSession\n",
        "\n",
        "spark = (SparkSession\n",
        "    .builder\n",
        "    .appName(\"PythonMnMCount\")\n",
        "    .getOrCreate())\n",
        "\n",
        "mnm_file = \"/content/mnm_dataset.csv\"\n",
        "\n",
        "mnm_df = (spark.read.format(\"csv\")\n",
        "            .option(\"header\", \"true\")\n",
        "            .option(\"inferSchema\", \"true\")\n",
        "            .load(mnm_file))\n",
        "\n",
        "mnm_df.show(n=5, truncate=False)\n",
        "\n",
        "count_mnm_df = (mnm_df.select(\"State\", \"Color\", \"Count\")\n",
        "                .groupBy(\"State\", \"Color\")\n",
        "                .sum(\"Count\")\n",
        "                .orderBy(\"sum(Count)\", ascending=False))\n",
        "\n",
        "count_mnm_df.show(n=30, truncate=False)\n",
        "print(\"Total Rows = %d\" % (count_mnm_df.count()))\n",
        "\n",
        "ca_count_mnm_df = (mnm_df.select(\"*\")\n",
        "                   .where(mnm_df.State == 'CA')\n",
        "                   .groupBy(\"State\", \"Color\")\n",
        "                   .sum(\"Count\")\n",
        "                   .orderBy(\"sum(Count)\", ascending=False))\n",
        "\n",
        "ca_count_mnm_df.show(n=10, truncate=False)"
      ],
      "metadata": {
        "colab": {
          "base_uri": "https://localhost:8080/"
        },
        "id": "z0EgXchSJ32u",
        "outputId": "ec9afb5a-1248-4478-aa93-920a9ad1cac7"
      },
      "id": "z0EgXchSJ32u",
      "execution_count": null,
      "outputs": [
        {
          "output_type": "stream",
          "name": "stdout",
          "text": [
            "+-----+------+-----+\n",
            "|State|Color |Count|\n",
            "+-----+------+-----+\n",
            "|NV   |Red   |21   |\n",
            "|CO   |Orange|86   |\n",
            "|TX   |Yellow|54   |\n",
            "|NV   |Yellow|72   |\n",
            "|WA   |Brown |68   |\n",
            "+-----+------+-----+\n",
            "only showing top 5 rows\n",
            "\n",
            "+-----+------+----------+\n",
            "|State|Color |sum(Count)|\n",
            "+-----+------+----------+\n",
            "|UT   |Red   |96570     |\n",
            "|AZ   |Yellow|96194     |\n",
            "|UT   |Orange|96132     |\n",
            "|TX   |Orange|96117     |\n",
            "|WA   |Brown |95920     |\n",
            "|OR   |Blue  |95539     |\n",
            "|TX   |Green |94796     |\n",
            "|CO   |Red   |94338     |\n",
            "|UT   |Green |94166     |\n",
            "|CA   |Green |93947     |\n",
            "|TX   |Yellow|93745     |\n",
            "|NM   |Green |93594     |\n",
            "|CO   |Brown |93503     |\n",
            "|NM   |Red   |93367     |\n",
            "|OR   |Yellow|93257     |\n",
            "|CA   |Yellow|93079     |\n",
            "|WY   |Brown |93050     |\n",
            "|WY   |Red   |92869     |\n",
            "|OR   |Red   |92838     |\n",
            "|CA   |Blue  |92670     |\n",
            "|OR   |Brown |92659     |\n",
            "|OR   |Orange|92626     |\n",
            "|NV   |Green |92563     |\n",
            "|CA   |Brown |92545     |\n",
            "|AZ   |Red   |92476     |\n",
            "|NV   |Orange|92440     |\n",
            "|WA   |Orange|92210     |\n",
            "|NV   |Blue  |92119     |\n",
            "|WY   |Green |92034     |\n",
            "|WA   |Red   |91990     |\n",
            "+-----+------+----------+\n",
            "only showing top 30 rows\n",
            "\n",
            "Total Rows = 60\n",
            "+-----+------+----------+\n",
            "|State|Color |sum(Count)|\n",
            "+-----+------+----------+\n",
            "|CA   |Green |93947     |\n",
            "|CA   |Yellow|93079     |\n",
            "|CA   |Blue  |92670     |\n",
            "|CA   |Brown |92545     |\n",
            "|CA   |Red   |91398     |\n",
            "|CA   |Orange|89196     |\n",
            "+-----+------+----------+\n",
            "\n"
          ]
        }
      ]
    },
    {
      "cell_type": "markdown",
      "source": [
        "#002B. API Strukturalne : DataFrame (Fire)"
      ],
      "metadata": {
        "id": "HKr5seLA1VbI"
      },
      "id": "HKr5seLA1VbI"
    },
    {
      "cell_type": "markdown",
      "source": [
        "###002B_example-3_6.py"
      ],
      "metadata": {
        "id": "ojUAiaFiajoZ"
      },
      "id": "ojUAiaFiajoZ"
    },
    {
      "cell_type": "code",
      "source": [
        "from pyspark.sql.types import *\n",
        "from pyspark.sql import SparkSession\n",
        "from pyspark.sql.functions import *\n",
        "\n",
        "schema = StructType([\n",
        "   StructField(\"Id\", IntegerType(), False),\n",
        "   StructField(\"First\", StringType(), False),\n",
        "   StructField(\"Last\", StringType(), False),\n",
        "   StructField(\"Url\", StringType(), False),\n",
        "   StructField(\"Published\", StringType(), False),\n",
        "   StructField(\"Hits\", IntegerType(), False),\n",
        "   StructField(\"Campaigns\", ArrayType(StringType()), False)])\n",
        "\n",
        "data = [[1, \"Jules\", \"Damji\", \"https://tinyurl.1\", \"1/4/2016\", 4535, [\"twitter\", \"LinkedIn\"]],\n",
        "       [2, \"Brooke\",\"Wenig\",\"https://tinyurl.2\", \"5/5/2018\", 8908, [\"twitter\", \"LinkedIn\"]],\n",
        "       [3, \"Denny\", \"Lee\", \"https://tinyurl.3\",\"6/7/2019\",7659, [\"web\", \"twitter\", \"FB\", \"LinkedIn\"]],\n",
        "       [4, \"Tathagata\", \"Das\",\"https://tinyurl.4\", \"5/12/2018\", 10568, [\"twitter\", \"FB\"]],\n",
        "       [5, \"Matei\",\"Zaharia\", \"https://tinyurl.5\", \"5/14/2014\", 40578, [\"web\", \"twitter\", \"FB\", \"LinkedIn\"]],\n",
        "       [6, \"Reynold\", \"Xin\", \"https://tinyurl.6\", \"3/2/2015\", 25568, [\"twitter\", \"LinkedIn\"]]\n",
        "      ]\n",
        "\n",
        "if __name__ == \"__main__\":\n",
        "\n",
        "   spark = (SparkSession\n",
        "       .builder\n",
        "       .appName(\"a\")\n",
        "       .getOrCreate())\n",
        "\n",
        "   blogs_df = spark.createDataFrame(data, schema)\n",
        "   blogs_df.show(truncate=False)\n",
        "   print()\n",
        "\n",
        "   blogs_df.printSchema()\n",
        "\n",
        "    # expr() (expression) pozwala pisać wyrażenia SQL-owe w PySpark. W tym przypadku wyrażenie SQL to po prostu kolumna „Hits”.\n",
        "   blogs_df.select(expr(\"Hits\") * 2).show(2)\n",
        "   blogs_df.select(col(\"Hits\") * 2).show(2)\n",
        "    # Ponownie używamy funkcji expr(), jednak tutaj całe wyrażenie „Hits * 2” jest traktowane jako wyrażenie SQL-owe.\n",
        "   blogs_df.select(expr(\"Hits * 2\")).show(2)\n",
        "\n",
        "   blogs_df.withColumn(\"Big Hitters\", (expr(\"Hits > 10000\"))).show(truncate=False)\n",
        "   blogs_df.printSchema()"
      ],
      "metadata": {
        "colab": {
          "base_uri": "https://localhost:8080/"
        },
        "id": "MrUKwuszhNsb",
        "outputId": "b31ab7f7-b51d-48ef-85c0-f50e9bc38e11"
      },
      "id": "MrUKwuszhNsb",
      "execution_count": null,
      "outputs": [
        {
          "output_type": "stream",
          "name": "stdout",
          "text": [
            "+---+---------+-------+-----------------+---------+-----+----------------------------+\n",
            "|Id |First    |Last   |Url              |Published|Hits |Campaigns                   |\n",
            "+---+---------+-------+-----------------+---------+-----+----------------------------+\n",
            "|1  |Jules    |Damji  |https://tinyurl.1|1/4/2016 |4535 |[twitter, LinkedIn]         |\n",
            "|2  |Brooke   |Wenig  |https://tinyurl.2|5/5/2018 |8908 |[twitter, LinkedIn]         |\n",
            "|3  |Denny    |Lee    |https://tinyurl.3|6/7/2019 |7659 |[web, twitter, FB, LinkedIn]|\n",
            "|4  |Tathagata|Das    |https://tinyurl.4|5/12/2018|10568|[twitter, FB]               |\n",
            "|5  |Matei    |Zaharia|https://tinyurl.5|5/14/2014|40578|[web, twitter, FB, LinkedIn]|\n",
            "|6  |Reynold  |Xin    |https://tinyurl.6|3/2/2015 |25568|[twitter, LinkedIn]         |\n",
            "+---+---------+-------+-----------------+---------+-----+----------------------------+\n",
            "\n",
            "\n",
            "root\n",
            " |-- Id: integer (nullable = false)\n",
            " |-- First: string (nullable = false)\n",
            " |-- Last: string (nullable = false)\n",
            " |-- Url: string (nullable = false)\n",
            " |-- Published: string (nullable = false)\n",
            " |-- Hits: integer (nullable = false)\n",
            " |-- Campaigns: array (nullable = false)\n",
            " |    |-- element: string (containsNull = true)\n",
            "\n",
            "+----------+\n",
            "|(Hits * 2)|\n",
            "+----------+\n",
            "|      9070|\n",
            "|     17816|\n",
            "+----------+\n",
            "only showing top 2 rows\n",
            "\n",
            "+----------+\n",
            "|(Hits * 2)|\n",
            "+----------+\n",
            "|      9070|\n",
            "|     17816|\n",
            "+----------+\n",
            "only showing top 2 rows\n",
            "\n",
            "+----------+\n",
            "|(Hits * 2)|\n",
            "+----------+\n",
            "|      9070|\n",
            "|     17816|\n",
            "+----------+\n",
            "only showing top 2 rows\n",
            "\n",
            "+---+---------+-------+-----------------+---------+-----+----------------------------+-----------+\n",
            "|Id |First    |Last   |Url              |Published|Hits |Campaigns                   |Big Hitters|\n",
            "+---+---------+-------+-----------------+---------+-----+----------------------------+-----------+\n",
            "|1  |Jules    |Damji  |https://tinyurl.1|1/4/2016 |4535 |[twitter, LinkedIn]         |false      |\n",
            "|2  |Brooke   |Wenig  |https://tinyurl.2|5/5/2018 |8908 |[twitter, LinkedIn]         |false      |\n",
            "|3  |Denny    |Lee    |https://tinyurl.3|6/7/2019 |7659 |[web, twitter, FB, LinkedIn]|false      |\n",
            "|4  |Tathagata|Das    |https://tinyurl.4|5/12/2018|10568|[twitter, FB]               |true       |\n",
            "|5  |Matei    |Zaharia|https://tinyurl.5|5/14/2014|40578|[web, twitter, FB, LinkedIn]|true       |\n",
            "|6  |Reynold  |Xin    |https://tinyurl.6|3/2/2015 |25568|[twitter, LinkedIn]         |true       |\n",
            "+---+---------+-------+-----------------+---------+-----+----------------------------+-----------+\n",
            "\n",
            "root\n",
            " |-- Id: integer (nullable = false)\n",
            " |-- First: string (nullable = false)\n",
            " |-- Last: string (nullable = false)\n",
            " |-- Url: string (nullable = false)\n",
            " |-- Published: string (nullable = false)\n",
            " |-- Hits: integer (nullable = false)\n",
            " |-- Campaigns: array (nullable = false)\n",
            " |    |-- element: string (containsNull = true)\n",
            "\n"
          ]
        }
      ]
    },
    {
      "cell_type": "markdown",
      "source": [
        "###002B_json_example-3_6.py"
      ],
      "metadata": {
        "id": "y4P-vgj6fsd0"
      },
      "id": "y4P-vgj6fsd0"
    },
    {
      "cell_type": "code",
      "source": [
        "from pyspark.sql.types import *\n",
        "from pyspark.sql.functions import *\n",
        "\n",
        "schema = StructType([\n",
        "   StructField(\"Id\", IntegerType(), False),\n",
        "   StructField(\"First\", StringType(), False),\n",
        "   StructField(\"Last\", StringType(), False),\n",
        "   StructField(\"Url\", StringType(), False),\n",
        "   StructField(\"Published\", StringType(), False),\n",
        "   StructField(\"Hits\", IntegerType(), False),\n",
        "   StructField(\"Campaigns\", ArrayType(StringType()), False)])\n",
        "\n",
        "if __name__ == \"__main__\":\n",
        "\n",
        "   spark = (SparkSession\n",
        "       .builder\n",
        "       .appName(\"JSONDataExample\")\n",
        "       .getOrCreate())\n",
        "\n",
        "   json_file = \"/content/002B_blogs.json\"\n",
        "\n",
        "   blogs_df = spark.read.schema(schema).json(json_file)\n",
        "\n",
        "   blogs_df.show(truncate=False)\n",
        "   print()\n",
        "\n",
        "   blogs_df.printSchema()\n",
        "\n",
        "   blogs_df.select(expr(\"Hits\") * 2).show(2)\n",
        "   blogs_df.select(col(\"Hits\") * 2).show(2)\n",
        "   blogs_df.select(expr(\"Hits * 2\")).show(2)\n",
        "\n",
        "   blogs_df.withColumn(\"Big Hitters\", expr(\"Hits > 10000\")).show(truncate=False)\n",
        "\n",
        "   blogs_df.printSchema()"
      ],
      "metadata": {
        "colab": {
          "base_uri": "https://localhost:8080/"
        },
        "id": "-BZ80-RIdau5",
        "outputId": "3f9f17ba-b0fd-4262-ccc3-8faafcac420c"
      },
      "id": "-BZ80-RIdau5",
      "execution_count": null,
      "outputs": [
        {
          "output_type": "stream",
          "name": "stdout",
          "text": [
            "+---+---------+-------+-----------------+---------+-----+----------------------------+\n",
            "|Id |First    |Last   |Url              |Published|Hits |Campaigns                   |\n",
            "+---+---------+-------+-----------------+---------+-----+----------------------------+\n",
            "|1  |Jules    |Damji  |https://tinyurl.1|1/4/2016 |4535 |[twitter, LinkedIn]         |\n",
            "|2  |Brooke   |Wenig  |https://tinyurl.2|5/5/2018 |8908 |[twitter, LinkedIn]         |\n",
            "|3  |Denny    |Lee    |https://tinyurl.3|6/7/2019 |7659 |[web, twitter, FB, LinkedIn]|\n",
            "|4  |Tathagata|Das    |https://tinyurl.4|5/12/2018|10568|[twitter, FB]               |\n",
            "|5  |Matei    |Zaharia|https://tinyurl.5|5/14/2014|40578|[web, twitter, FB, LinkedIn]|\n",
            "|6  |Reynold  |Xin    |https://tinyurl.6|3/2/2015 |25568|[twitter, LinkedIn]         |\n",
            "+---+---------+-------+-----------------+---------+-----+----------------------------+\n",
            "\n",
            "\n",
            "root\n",
            " |-- Id: integer (nullable = true)\n",
            " |-- First: string (nullable = true)\n",
            " |-- Last: string (nullable = true)\n",
            " |-- Url: string (nullable = true)\n",
            " |-- Published: string (nullable = true)\n",
            " |-- Hits: integer (nullable = true)\n",
            " |-- Campaigns: array (nullable = true)\n",
            " |    |-- element: string (containsNull = true)\n",
            "\n",
            "+----------+\n",
            "|(Hits * 2)|\n",
            "+----------+\n",
            "|      9070|\n",
            "|     17816|\n",
            "+----------+\n",
            "only showing top 2 rows\n",
            "\n",
            "+----------+\n",
            "|(Hits * 2)|\n",
            "+----------+\n",
            "|      9070|\n",
            "|     17816|\n",
            "+----------+\n",
            "only showing top 2 rows\n",
            "\n",
            "+----------+\n",
            "|(Hits * 2)|\n",
            "+----------+\n",
            "|      9070|\n",
            "|     17816|\n",
            "+----------+\n",
            "only showing top 2 rows\n",
            "\n",
            "+---+---------+-------+-----------------+---------+-----+----------------------------+-----------+\n",
            "|Id |First    |Last   |Url              |Published|Hits |Campaigns                   |Big Hitters|\n",
            "+---+---------+-------+-----------------+---------+-----+----------------------------+-----------+\n",
            "|1  |Jules    |Damji  |https://tinyurl.1|1/4/2016 |4535 |[twitter, LinkedIn]         |false      |\n",
            "|2  |Brooke   |Wenig  |https://tinyurl.2|5/5/2018 |8908 |[twitter, LinkedIn]         |false      |\n",
            "|3  |Denny    |Lee    |https://tinyurl.3|6/7/2019 |7659 |[web, twitter, FB, LinkedIn]|false      |\n",
            "|4  |Tathagata|Das    |https://tinyurl.4|5/12/2018|10568|[twitter, FB]               |true       |\n",
            "|5  |Matei    |Zaharia|https://tinyurl.5|5/14/2014|40578|[web, twitter, FB, LinkedIn]|true       |\n",
            "|6  |Reynold  |Xin    |https://tinyurl.6|3/2/2015 |25568|[twitter, LinkedIn]         |true       |\n",
            "+---+---------+-------+-----------------+---------+-----+----------------------------+-----------+\n",
            "\n",
            "root\n",
            " |-- Id: integer (nullable = true)\n",
            " |-- First: string (nullable = true)\n",
            " |-- Last: string (nullable = true)\n",
            " |-- Url: string (nullable = true)\n",
            " |-- Published: string (nullable = true)\n",
            " |-- Hits: integer (nullable = true)\n",
            " |-- Campaigns: array (nullable = true)\n",
            " |    |-- element: string (containsNull = true)\n",
            "\n"
          ]
        }
      ]
    },
    {
      "cell_type": "code",
      "source": [
        "# Sortowanie wynikowego DataFrame po kolumnie \"Id\" w kolejności rosnącej\n",
        "blogs_df.orderBy(\"Id\").show(truncate=False)\n",
        "\n",
        "# Lub można również użyć funkcji sort() (jest to równoważne)\n",
        "blogs_df.sort(\"Id\").show(truncate=False)\n",
        "\n",
        "# Sortowanie w kolejności malejącej\n",
        "blogs_df.orderBy(col(\"Id\").desc()).show(truncate=False)"
      ],
      "metadata": {
        "colab": {
          "base_uri": "https://localhost:8080/"
        },
        "id": "js-uAh3nsyIj",
        "outputId": "575dbec6-030e-4022-94bd-eff64c2d4f03"
      },
      "id": "js-uAh3nsyIj",
      "execution_count": null,
      "outputs": [
        {
          "output_type": "stream",
          "name": "stdout",
          "text": [
            "+---+---------+-------+-----------------+---------+-----+----------------------------+\n",
            "|Id |First    |Last   |Url              |Published|Hits |Campaigns                   |\n",
            "+---+---------+-------+-----------------+---------+-----+----------------------------+\n",
            "|1  |Jules    |Damji  |https://tinyurl.1|1/4/2016 |4535 |[twitter, LinkedIn]         |\n",
            "|2  |Brooke   |Wenig  |https://tinyurl.2|5/5/2018 |8908 |[twitter, LinkedIn]         |\n",
            "|3  |Denny    |Lee    |https://tinyurl.3|6/7/2019 |7659 |[web, twitter, FB, LinkedIn]|\n",
            "|4  |Tathagata|Das    |https://tinyurl.4|5/12/2018|10568|[twitter, FB]               |\n",
            "|5  |Matei    |Zaharia|https://tinyurl.5|5/14/2014|40578|[web, twitter, FB, LinkedIn]|\n",
            "|6  |Reynold  |Xin    |https://tinyurl.6|3/2/2015 |25568|[twitter, LinkedIn]         |\n",
            "+---+---------+-------+-----------------+---------+-----+----------------------------+\n",
            "\n",
            "+---+---------+-------+-----------------+---------+-----+----------------------------+\n",
            "|Id |First    |Last   |Url              |Published|Hits |Campaigns                   |\n",
            "+---+---------+-------+-----------------+---------+-----+----------------------------+\n",
            "|1  |Jules    |Damji  |https://tinyurl.1|1/4/2016 |4535 |[twitter, LinkedIn]         |\n",
            "|2  |Brooke   |Wenig  |https://tinyurl.2|5/5/2018 |8908 |[twitter, LinkedIn]         |\n",
            "|3  |Denny    |Lee    |https://tinyurl.3|6/7/2019 |7659 |[web, twitter, FB, LinkedIn]|\n",
            "|4  |Tathagata|Das    |https://tinyurl.4|5/12/2018|10568|[twitter, FB]               |\n",
            "|5  |Matei    |Zaharia|https://tinyurl.5|5/14/2014|40578|[web, twitter, FB, LinkedIn]|\n",
            "|6  |Reynold  |Xin    |https://tinyurl.6|3/2/2015 |25568|[twitter, LinkedIn]         |\n",
            "+---+---------+-------+-----------------+---------+-----+----------------------------+\n",
            "\n",
            "+---+---------+-------+-----------------+---------+-----+----------------------------+\n",
            "|Id |First    |Last   |Url              |Published|Hits |Campaigns                   |\n",
            "+---+---------+-------+-----------------+---------+-----+----------------------------+\n",
            "|6  |Reynold  |Xin    |https://tinyurl.6|3/2/2015 |25568|[twitter, LinkedIn]         |\n",
            "|5  |Matei    |Zaharia|https://tinyurl.5|5/14/2014|40578|[web, twitter, FB, LinkedIn]|\n",
            "|4  |Tathagata|Das    |https://tinyurl.4|5/12/2018|10568|[twitter, FB]               |\n",
            "|3  |Denny    |Lee    |https://tinyurl.3|6/7/2019 |7659 |[web, twitter, FB, LinkedIn]|\n",
            "|2  |Brooke   |Wenig  |https://tinyurl.2|5/5/2018 |8908 |[twitter, LinkedIn]         |\n",
            "|1  |Jules    |Damji  |https://tinyurl.1|1/4/2016 |4535 |[twitter, LinkedIn]         |\n",
            "+---+---------+-------+-----------------+---------+-----+----------------------------+\n",
            "\n"
          ]
        }
      ]
    },
    {
      "cell_type": "code",
      "source": [
        "from pyspark.sql import Row\n",
        "from pyspark.sql.types import *\n",
        "\n",
        "spark = (SparkSession\n",
        "        .builder\n",
        "\t.appName(\"Authors\")\n",
        "\t.getOrCreate())\n",
        "\n",
        "schema = StructType([\n",
        "\tStructField(\"Author\" , StringType(), False),\n",
        "\tStructField(\"State\", StringType(), False)])\n",
        "\n",
        "rows = [Row(\"Matei Zaharia\", \"CA\"), Row(\"Reynold Xin\", \"CA\")]\n",
        "authors_df = spark.createDataFrame(rows, schema)\n",
        "authors_df.show()"
      ],
      "metadata": {
        "colab": {
          "base_uri": "https://localhost:8080/"
        },
        "id": "4KeIJ4R6kMxd",
        "outputId": "1dd8ec2d-9e51-4f24-ecb9-c6ed69f9565c"
      },
      "id": "4KeIJ4R6kMxd",
      "execution_count": null,
      "outputs": [
        {
          "output_type": "stream",
          "name": "stdout",
          "text": [
            "+-------------+-----+\n",
            "|       Author|State|\n",
            "+-------------+-----+\n",
            "|Matei Zaharia|   CA|\n",
            "|  Reynold Xin|   CA|\n",
            "+-------------+-----+\n",
            "\n"
          ]
        }
      ]
    },
    {
      "cell_type": "markdown",
      "source": [
        "###002B_sf-fire-calls.py"
      ],
      "metadata": {
        "id": "n-9UZc1uyEvd"
      },
      "id": "n-9UZc1uyEvd"
    },
    {
      "cell_type": "code",
      "source": [
        "from pyspark.sql import SparkSession\n",
        "from pyspark.sql.types import *\n",
        "\n",
        "schema = StructType([\n",
        "    StructField(\"CallNumber\", IntegerType(), False),\n",
        "    StructField(\"UnitID\", StringType(), False),\n",
        "    StructField(\"IncidentNumber\", IntegerType(), False),\n",
        "    StructField(\"CallType\", StringType(), True),\n",
        "    StructField(\"CallDate\", StringType(), True),\n",
        "    StructField(\"WatchDate\", StringType(), True),\n",
        "    StructField(\"CallFinalDisposition\", StringType(), True),\n",
        "    StructField(\"AvailableDtTm\", StringType(), True),\n",
        "    StructField(\"Address\", StringType(), True),\n",
        "    StructField(\"City\", StringType(), True),\n",
        "    StructField(\"Zipcode\", IntegerType(), True),\n",
        "    StructField(\"Battalion\", StringType(), True),\n",
        "    StructField(\"StationArea\", StringType(), True),\n",
        "    StructField(\"Box\", StringType(), True),\n",
        "    StructField(\"OriginalPriority\", IntegerType(), True),\n",
        "    StructField(\"Priority\", IntegerType(), True),\n",
        "    StructField(\"FinalPriority\", IntegerType(), True),\n",
        "    StructField(\"ALSUnit\", BooleanType(), True),\n",
        "    StructField(\"CallTypeGroup\", StringType(), True),\n",
        "    StructField(\"NumAlarms\", IntegerType(), True),\n",
        "    StructField(\"UnitType\", StringType(), True),\n",
        "    StructField(\"UnitSequenceInCallDispatch\", IntegerType(), True),\n",
        "    StructField(\"FirePreventionDistrict\", IntegerType(), True),\n",
        "    StructField(\"SupervisorDistrict\", IntegerType(), True),\n",
        "    StructField(\"Neighborhood\", StringType(), True),\n",
        "    StructField(\"Location\", StringType(), True),\n",
        "    StructField(\"RowID\", StringType(), True),\n",
        "    StructField(\"Delay\", FloatType(), True)\n",
        "])\n",
        "\n",
        "spark = SparkSession.builder.appName(\"FireCalls\").getOrCreate()\n",
        "\n",
        "file_path = \"/content/002B_sf-fire-calls.csv\"\n",
        "fire_df = spark.read.csv(file_path, header=True, schema=schema)\n",
        "\n",
        "fire_df.show(5, truncate=False)\n",
        "\n",
        "fire_df.printSchema()"
      ],
      "metadata": {
        "colab": {
          "base_uri": "https://localhost:8080/"
        },
        "id": "LhwEVE8Sx74b",
        "outputId": "3c8c6288-5c4b-4fe2-9722-208d53f2508c"
      },
      "id": "LhwEVE8Sx74b",
      "execution_count": null,
      "outputs": [
        {
          "output_type": "stream",
          "name": "stdout",
          "text": [
            "+----------+------+--------------+----------------+----------+----------+--------------------+----------------------+---------------------------+----+-------+---------+-----------+----+----------------+--------+-------------+-------+-------------+---------+--------+--------------------------+----------------------+------------------+---------------------+-------------------------------------+-------------+---------+\n",
            "|CallNumber|UnitID|IncidentNumber|CallType        |CallDate  |WatchDate |CallFinalDisposition|AvailableDtTm         |Address                    |City|Zipcode|Battalion|StationArea|Box |OriginalPriority|Priority|FinalPriority|ALSUnit|CallTypeGroup|NumAlarms|UnitType|UnitSequenceInCallDispatch|FirePreventionDistrict|SupervisorDistrict|Neighborhood         |Location                             |RowID        |Delay    |\n",
            "+----------+------+--------------+----------------+----------+----------+--------------------+----------------------+---------------------------+----+-------+---------+-----------+----+----------------+--------+-------------+-------+-------------+---------+--------+--------------------------+----------------------+------------------+---------------------+-------------------------------------+-------------+---------+\n",
            "|20110016  |T13   |2003235       |Structure Fire  |01/11/2002|01/10/2002|Other               |01/11/2002 01:51:44 AM|2000 Block of CALIFORNIA ST|SF  |94109  |B04      |38         |3362|3               |3       |3            |false  |NULL         |1        |TRUCK   |2                         |4                     |5                 |Pacific Heights      |(37.7895840679362, -122.428071912459)|020110016-T13|2.95     |\n",
            "|20110022  |M17   |2003241       |Medical Incident|01/11/2002|01/10/2002|Other               |01/11/2002 03:01:18 AM|0 Block of SILVERVIEW DR   |SF  |94124  |B10      |42         |6495|3               |3       |3            |true   |NULL         |1        |MEDIC   |1                         |10                    |10                |Bayview Hunters Point|(37.7337623673897, -122.396113802632)|020110022-M17|4.7      |\n",
            "|20110023  |M41   |2003242       |Medical Incident|01/11/2002|01/10/2002|Other               |01/11/2002 02:39:50 AM|MARKET ST/MCALLISTER ST    |SF  |94102  |B03      |01         |1455|3               |3       |3            |true   |NULL         |1        |MEDIC   |2                         |3                     |6                 |Tenderloin           |(37.7811772186856, -122.411699931232)|020110023-M41|2.4333334|\n",
            "|20110032  |E11   |2003250       |Vehicle Fire    |01/11/2002|01/10/2002|Other               |01/11/2002 04:16:46 AM|APPLETON AV/MISSION ST     |SF  |94110  |B06      |32         |5626|3               |3       |3            |false  |NULL         |1        |ENGINE  |1                         |6                     |9                 |Bernal Heights       |(37.7388432849018, -122.423948785199)|020110032-E11|1.5      |\n",
            "|20110043  |B04   |2003259       |Alarms          |01/11/2002|01/10/2002|Other               |01/11/2002 06:01:58 AM|1400 Block of SUTTER ST    |SF  |94109  |B04      |03         |3223|3               |3       |3            |false  |NULL         |1        |CHIEF   |2                         |4                     |2                 |Western Addition     |(37.7872890372638, -122.424236212664)|020110043-B04|3.4833333|\n",
            "+----------+------+--------------+----------------+----------+----------+--------------------+----------------------+---------------------------+----+-------+---------+-----------+----+----------------+--------+-------------+-------+-------------+---------+--------+--------------------------+----------------------+------------------+---------------------+-------------------------------------+-------------+---------+\n",
            "only showing top 5 rows\n",
            "\n",
            "root\n",
            " |-- CallNumber: integer (nullable = true)\n",
            " |-- UnitID: string (nullable = true)\n",
            " |-- IncidentNumber: integer (nullable = true)\n",
            " |-- CallType: string (nullable = true)\n",
            " |-- CallDate: string (nullable = true)\n",
            " |-- WatchDate: string (nullable = true)\n",
            " |-- CallFinalDisposition: string (nullable = true)\n",
            " |-- AvailableDtTm: string (nullable = true)\n",
            " |-- Address: string (nullable = true)\n",
            " |-- City: string (nullable = true)\n",
            " |-- Zipcode: integer (nullable = true)\n",
            " |-- Battalion: string (nullable = true)\n",
            " |-- StationArea: string (nullable = true)\n",
            " |-- Box: string (nullable = true)\n",
            " |-- OriginalPriority: integer (nullable = true)\n",
            " |-- Priority: integer (nullable = true)\n",
            " |-- FinalPriority: integer (nullable = true)\n",
            " |-- ALSUnit: boolean (nullable = true)\n",
            " |-- CallTypeGroup: string (nullable = true)\n",
            " |-- NumAlarms: integer (nullable = true)\n",
            " |-- UnitType: string (nullable = true)\n",
            " |-- UnitSequenceInCallDispatch: integer (nullable = true)\n",
            " |-- FirePreventionDistrict: integer (nullable = true)\n",
            " |-- SupervisorDistrict: integer (nullable = true)\n",
            " |-- Neighborhood: string (nullable = true)\n",
            " |-- Location: string (nullable = true)\n",
            " |-- RowID: string (nullable = true)\n",
            " |-- Delay: float (nullable = true)\n",
            "\n"
          ]
        }
      ]
    },
    {
      "cell_type": "code",
      "source": [
        "output_path = \"/content/parquet\"\n",
        "\n",
        "fire_df.write.parquet(output_path)"
      ],
      "metadata": {
        "id": "0UXJpAh30M-w"
      },
      "id": "0UXJpAh30M-w",
      "execution_count": null,
      "outputs": []
    },
    {
      "cell_type": "code",
      "source": [
        "few_fire_df = (fire_df\n",
        "    .select(\"IncidentNumber\", \"AvailableDtTm\", \"CallType\")\n",
        "    .where(col(\"CallType\") != \"Medical Incident\"))\n",
        "\n",
        "few_fire_df.show(5, truncate=False)"
      ],
      "metadata": {
        "colab": {
          "base_uri": "https://localhost:8080/"
        },
        "id": "UixOkTgI5piT",
        "outputId": "9d6f2046-5325-4671-bf4c-5a3334432c1a"
      },
      "id": "UixOkTgI5piT",
      "execution_count": null,
      "outputs": [
        {
          "output_type": "stream",
          "name": "stdout",
          "text": [
            "+--------------+----------------------+--------------+\n",
            "|IncidentNumber|AvailableDtTm         |CallType      |\n",
            "+--------------+----------------------+--------------+\n",
            "|2003235       |01/11/2002 01:51:44 AM|Structure Fire|\n",
            "|2003250       |01/11/2002 04:16:46 AM|Vehicle Fire  |\n",
            "|2003259       |01/11/2002 06:01:58 AM|Alarms        |\n",
            "|2003279       |01/11/2002 08:03:26 AM|Structure Fire|\n",
            "|2003301       |01/11/2002 09:46:44 AM|Alarms        |\n",
            "+--------------+----------------------+--------------+\n",
            "only showing top 5 rows\n",
            "\n"
          ]
        }
      ]
    },
    {
      "cell_type": "code",
      "source": [
        "# method chaining\n",
        "\n",
        "(fire_df\n",
        "    .select(\"CallType\")\n",
        "    .where(col(\"CallType\").isNotNull())\n",
        "    .agg(countDistinct(\"CallType\").alias(\"DistinctCallTypes\"))\n",
        "    .show())"
      ],
      "metadata": {
        "colab": {
          "base_uri": "https://localhost:8080/"
        },
        "id": "zFl5BwPe9Jec",
        "outputId": "efc269dd-f292-44c5-dbcf-b57c7a7e6237"
      },
      "id": "zFl5BwPe9Jec",
      "execution_count": null,
      "outputs": [
        {
          "output_type": "stream",
          "name": "stdout",
          "text": [
            "+-----------------+\n",
            "|DistinctCallTypes|\n",
            "+-----------------+\n",
            "|               30|\n",
            "+-----------------+\n",
            "\n"
          ]
        }
      ]
    },
    {
      "cell_type": "code",
      "source": [
        "fire_df.select(\"CallType\") \\\n",
        "    .where(col(\"CallType\").isNotNull()) \\\n",
        "    .agg(countDistinct(\"CallType\") \\\n",
        "    .alias(\"DistinctCallTypes\")) \\\n",
        "    .show()"
      ],
      "metadata": {
        "colab": {
          "base_uri": "https://localhost:8080/"
        },
        "id": "OHIGYNJB9_rP",
        "outputId": "b20b8874-328a-4fb9-dfdd-808a6a202eec"
      },
      "id": "OHIGYNJB9_rP",
      "execution_count": null,
      "outputs": [
        {
          "output_type": "stream",
          "name": "stdout",
          "text": [
            "+-----------------+\n",
            "|DistinctCallTypes|\n",
            "+-----------------+\n",
            "|               30|\n",
            "+-----------------+\n",
            "\n"
          ]
        }
      ]
    },
    {
      "cell_type": "code",
      "source": [
        "(fire_df\n",
        "      .select(\"CallType\")\n",
        "      .where(col(\"CallType\").isNotNull())\n",
        "      .distinct()\n",
        "      .show(10, False)\n",
        ")"
      ],
      "metadata": {
        "colab": {
          "base_uri": "https://localhost:8080/"
        },
        "id": "25zubKIWD-ti",
        "outputId": "d455b4cc-b76a-489b-adfb-86a9bc6d49f7"
      },
      "id": "25zubKIWD-ti",
      "execution_count": null,
      "outputs": [
        {
          "output_type": "stream",
          "name": "stdout",
          "text": [
            "+-----------------------------------+\n",
            "|CallType                           |\n",
            "+-----------------------------------+\n",
            "|Elevator / Escalator Rescue        |\n",
            "|Marine Fire                        |\n",
            "|Aircraft Emergency                 |\n",
            "|Confined Space / Structure Collapse|\n",
            "|Administrative                     |\n",
            "|Alarms                             |\n",
            "|Odor (Strange / Unknown)           |\n",
            "|Citizen Assist / Service Call      |\n",
            "|HazMat                             |\n",
            "|Watercraft in Distress             |\n",
            "+-----------------------------------+\n",
            "only showing top 10 rows\n",
            "\n"
          ]
        }
      ]
    },
    {
      "cell_type": "code",
      "source": [
        "new_fire_df = fire_df.withColumnRenamed(\"Delay\", \"ResponseDelayedinMins\")\n",
        "\n",
        "(new_fire_df\n",
        "    .select(\"ResponseDelayedinMins\")\n",
        "    .where(col(\"ResponseDelayedinMins\") > 5)\n",
        "    .orderBy(col(\"ResponseDelayedinMins\").desc())\n",
        "    .show(10, False)\n",
        ")"
      ],
      "metadata": {
        "colab": {
          "base_uri": "https://localhost:8080/"
        },
        "id": "_lxUrhKQF8h7",
        "outputId": "621c161c-406a-4442-91ae-c706e80651f7"
      },
      "id": "_lxUrhKQF8h7",
      "execution_count": null,
      "outputs": [
        {
          "output_type": "stream",
          "name": "stdout",
          "text": [
            "+---------------------+\n",
            "|ResponseDelayedinMins|\n",
            "+---------------------+\n",
            "|1844.55              |\n",
            "|1370.2333            |\n",
            "|949.11664            |\n",
            "|931.45               |\n",
            "|751.93335            |\n",
            "|734.05               |\n",
            "|721.4                |\n",
            "|628.61664            |\n",
            "|535.93335            |\n",
            "|491.26666            |\n",
            "+---------------------+\n",
            "only showing top 10 rows\n",
            "\n"
          ]
        }
      ]
    },
    {
      "cell_type": "code",
      "source": [
        "fire_ts_df = (new_fire_df\n",
        "      .withColumn(\"IncidentDate\", to_timestamp(col(\"CallDate\"), \"MM/dd/yyyy\"))\n",
        "      .drop(\"CallDate\")\n",
        "      .withColumn(\"OnWatchDate\", to_timestamp(col(\"WatchDate\"), \"MM/dd/yyyy\"))\n",
        "      .drop(\"WatchDate\")\n",
        "      .withColumn(\"AvailableDtTS\", to_timestamp(col(\"AvailableDtTm\"), \"MM/dd/yyyy hh:mm:ss a\"))\n",
        "      .drop(\"AvailableDtTm\"))\n",
        "\n",
        "(fire_ts_df\n",
        "    .select(\"IncidentDate\", \"OnWatchDate\", \"AvailableDtTS\")\n",
        "    .show(5, False))\n",
        "\n",
        "fire_ts_df.printSchema()"
      ],
      "metadata": {
        "colab": {
          "base_uri": "https://localhost:8080/"
        },
        "id": "Q3Gn0Lo0HiPK",
        "outputId": "79286749-82ee-4a2e-b07e-9cad4a989ebc"
      },
      "id": "Q3Gn0Lo0HiPK",
      "execution_count": null,
      "outputs": [
        {
          "output_type": "stream",
          "name": "stdout",
          "text": [
            "+-------------------+-------------------+-------------------+\n",
            "|IncidentDate       |OnWatchDate        |AvailableDtTS      |\n",
            "+-------------------+-------------------+-------------------+\n",
            "|2002-01-11 00:00:00|2002-01-10 00:00:00|2002-01-11 01:51:44|\n",
            "|2002-01-11 00:00:00|2002-01-10 00:00:00|2002-01-11 03:01:18|\n",
            "|2002-01-11 00:00:00|2002-01-10 00:00:00|2002-01-11 02:39:50|\n",
            "|2002-01-11 00:00:00|2002-01-10 00:00:00|2002-01-11 04:16:46|\n",
            "|2002-01-11 00:00:00|2002-01-10 00:00:00|2002-01-11 06:01:58|\n",
            "+-------------------+-------------------+-------------------+\n",
            "only showing top 5 rows\n",
            "\n",
            "root\n",
            " |-- CallNumber: integer (nullable = true)\n",
            " |-- UnitID: string (nullable = true)\n",
            " |-- IncidentNumber: integer (nullable = true)\n",
            " |-- CallType: string (nullable = true)\n",
            " |-- CallFinalDisposition: string (nullable = true)\n",
            " |-- Address: string (nullable = true)\n",
            " |-- City: string (nullable = true)\n",
            " |-- Zipcode: integer (nullable = true)\n",
            " |-- Battalion: string (nullable = true)\n",
            " |-- StationArea: string (nullable = true)\n",
            " |-- Box: string (nullable = true)\n",
            " |-- OriginalPriority: integer (nullable = true)\n",
            " |-- Priority: integer (nullable = true)\n",
            " |-- FinalPriority: integer (nullable = true)\n",
            " |-- ALSUnit: boolean (nullable = true)\n",
            " |-- CallTypeGroup: string (nullable = true)\n",
            " |-- NumAlarms: integer (nullable = true)\n",
            " |-- UnitType: string (nullable = true)\n",
            " |-- UnitSequenceInCallDispatch: integer (nullable = true)\n",
            " |-- FirePreventionDistrict: integer (nullable = true)\n",
            " |-- SupervisorDistrict: integer (nullable = true)\n",
            " |-- Neighborhood: string (nullable = true)\n",
            " |-- Location: string (nullable = true)\n",
            " |-- RowID: string (nullable = true)\n",
            " |-- ResponseDelayedinMins: float (nullable = true)\n",
            " |-- IncidentDate: timestamp (nullable = true)\n",
            " |-- OnWatchDate: timestamp (nullable = true)\n",
            " |-- AvailableDtTS: timestamp (nullable = true)\n",
            "\n"
          ]
        }
      ]
    },
    {
      "cell_type": "code",
      "source": [
        "(fire_ts_df\n",
        "    .select(year('IncidentDate').alias('Year'))\n",
        "    .distinct()\n",
        "    .orderBy('Year')\n",
        "    .show())"
      ],
      "metadata": {
        "colab": {
          "base_uri": "https://localhost:8080/"
        },
        "id": "k5h_5Fhup2vg",
        "outputId": "d08341c9-072e-441d-9d65-a3ec2543bac5"
      },
      "id": "k5h_5Fhup2vg",
      "execution_count": null,
      "outputs": [
        {
          "output_type": "stream",
          "name": "stdout",
          "text": [
            "+----+\n",
            "|Year|\n",
            "+----+\n",
            "|2000|\n",
            "|2001|\n",
            "|2002|\n",
            "|2003|\n",
            "|2004|\n",
            "|2005|\n",
            "|2006|\n",
            "|2007|\n",
            "|2008|\n",
            "|2009|\n",
            "|2010|\n",
            "|2011|\n",
            "|2012|\n",
            "|2013|\n",
            "|2014|\n",
            "|2015|\n",
            "|2016|\n",
            "|2017|\n",
            "|2018|\n",
            "+----+\n",
            "\n"
          ]
        }
      ]
    },
    {
      "cell_type": "code",
      "source": [
        "(fire_ts_df\n",
        "    .select(\"CallType\")\n",
        "    .where(col(\"CallType\").isNotNull())\n",
        "    .groupBy(\"CallType\")\n",
        "    .count()\n",
        "    .orderBy(\"count\", ascending=False)\n",
        "    .show(n=10, truncate=False))"
      ],
      "metadata": {
        "colab": {
          "base_uri": "https://localhost:8080/"
        },
        "id": "1ddQNPP7rV-4",
        "outputId": "9e8d6e44-18cf-4068-c2e4-c4b70fe4d52e"
      },
      "id": "1ddQNPP7rV-4",
      "execution_count": null,
      "outputs": [
        {
          "output_type": "stream",
          "name": "stdout",
          "text": [
            "+-------------------------------+------+\n",
            "|CallType                       |count |\n",
            "+-------------------------------+------+\n",
            "|Medical Incident               |113794|\n",
            "|Structure Fire                 |23319 |\n",
            "|Alarms                         |19406 |\n",
            "|Traffic Collision              |7013  |\n",
            "|Citizen Assist / Service Call  |2524  |\n",
            "|Other                          |2166  |\n",
            "|Outside Fire                   |2094  |\n",
            "|Vehicle Fire                   |854   |\n",
            "|Gas Leak (Natural and LP Gases)|764   |\n",
            "|Water Rescue                   |755   |\n",
            "+-------------------------------+------+\n",
            "only showing top 10 rows\n",
            "\n"
          ]
        }
      ]
    },
    {
      "cell_type": "code",
      "source": [
        "(fire_ts_df\n",
        "    .select(\n",
        "        sum(\"NumAlarms\"),\n",
        "        avg(\"ResponseDelayedinMins\"),\n",
        "        min(\"ResponseDelayedinMins\"),\n",
        "        max(\"ResponseDelayedinMins\")\n",
        "    )\n",
        "    .show())"
      ],
      "metadata": {
        "colab": {
          "base_uri": "https://localhost:8080/"
        },
        "id": "HJy9bAU51IFb",
        "outputId": "8ac236b2-94cf-49a5-a8b1-75c41d6a3e3a"
      },
      "id": "HJy9bAU51IFb",
      "execution_count": null,
      "outputs": [
        {
          "output_type": "stream",
          "name": "stdout",
          "text": [
            "+--------------+--------------------------+--------------------------+--------------------------+\n",
            "|sum(NumAlarms)|avg(ResponseDelayedinMins)|min(ResponseDelayedinMins)|max(ResponseDelayedinMins)|\n",
            "+--------------+--------------------------+--------------------------+--------------------------+\n",
            "|        176170|         3.892364154521585|               0.016666668|                   1844.55|\n",
            "+--------------+--------------------------+--------------------------+--------------------------+\n",
            "\n"
          ]
        }
      ]
    },
    {
      "cell_type": "code",
      "source": [
        "fire_ts_df.explain(True)"
      ],
      "metadata": {
        "colab": {
          "base_uri": "https://localhost:8080/"
        },
        "id": "PyacV70fLkB8",
        "outputId": "7e93d550-023f-4036-b8e1-432974c4093b"
      },
      "id": "PyacV70fLkB8",
      "execution_count": null,
      "outputs": [
        {
          "output_type": "stream",
          "name": "stdout",
          "text": [
            "== Parsed Logical Plan ==\n",
            "Project [CallNumber#0, UnitID#1, IncidentNumber#2, CallType#3, CallFinalDisposition#6, Address#8, City#9, Zipcode#10, Battalion#11, StationArea#12, Box#13, OriginalPriority#14, Priority#15, FinalPriority#16, ALSUnit#17, CallTypeGroup#18, NumAlarms#19, UnitType#20, UnitSequenceInCallDispatch#21, FirePreventionDistrict#22, SupervisorDistrict#23, Neighborhood#24, Location#25, RowID#26, ... 4 more fields]\n",
            "+- Project [CallNumber#0, UnitID#1, IncidentNumber#2, CallType#3, CallFinalDisposition#6, AvailableDtTm#7, Address#8, City#9, Zipcode#10, Battalion#11, StationArea#12, Box#13, OriginalPriority#14, Priority#15, FinalPriority#16, ALSUnit#17, CallTypeGroup#18, NumAlarms#19, UnitType#20, UnitSequenceInCallDispatch#21, FirePreventionDistrict#22, SupervisorDistrict#23, Neighborhood#24, Location#25, ... 5 more fields]\n",
            "   +- Project [CallNumber#0, UnitID#1, IncidentNumber#2, CallType#3, CallFinalDisposition#6, AvailableDtTm#7, Address#8, City#9, Zipcode#10, Battalion#11, StationArea#12, Box#13, OriginalPriority#14, Priority#15, FinalPriority#16, ALSUnit#17, CallTypeGroup#18, NumAlarms#19, UnitType#20, UnitSequenceInCallDispatch#21, FirePreventionDistrict#22, SupervisorDistrict#23, Neighborhood#24, Location#25, ... 4 more fields]\n",
            "      +- Project [CallNumber#0, UnitID#1, IncidentNumber#2, CallType#3, WatchDate#5, CallFinalDisposition#6, AvailableDtTm#7, Address#8, City#9, Zipcode#10, Battalion#11, StationArea#12, Box#13, OriginalPriority#14, Priority#15, FinalPriority#16, ALSUnit#17, CallTypeGroup#18, NumAlarms#19, UnitType#20, UnitSequenceInCallDispatch#21, FirePreventionDistrict#22, SupervisorDistrict#23, Neighborhood#24, ... 5 more fields]\n",
            "         +- Project [CallNumber#0, UnitID#1, IncidentNumber#2, CallType#3, WatchDate#5, CallFinalDisposition#6, AvailableDtTm#7, Address#8, City#9, Zipcode#10, Battalion#11, StationArea#12, Box#13, OriginalPriority#14, Priority#15, FinalPriority#16, ALSUnit#17, CallTypeGroup#18, NumAlarms#19, UnitType#20, UnitSequenceInCallDispatch#21, FirePreventionDistrict#22, SupervisorDistrict#23, Neighborhood#24, ... 4 more fields]\n",
            "            +- Project [CallNumber#0, UnitID#1, IncidentNumber#2, CallType#3, CallDate#4, WatchDate#5, CallFinalDisposition#6, AvailableDtTm#7, Address#8, City#9, Zipcode#10, Battalion#11, StationArea#12, Box#13, OriginalPriority#14, Priority#15, FinalPriority#16, ALSUnit#17, CallTypeGroup#18, NumAlarms#19, UnitType#20, UnitSequenceInCallDispatch#21, FirePreventionDistrict#22, SupervisorDistrict#23, ... 5 more fields]\n",
            "               +- Project [CallNumber#0, UnitID#1, IncidentNumber#2, CallType#3, CallDate#4, WatchDate#5, CallFinalDisposition#6, AvailableDtTm#7, Address#8, City#9, Zipcode#10, Battalion#11, StationArea#12, Box#13, OriginalPriority#14, Priority#15, FinalPriority#16, ALSUnit#17, CallTypeGroup#18, NumAlarms#19, UnitType#20, UnitSequenceInCallDispatch#21, FirePreventionDistrict#22, SupervisorDistrict#23, ... 4 more fields]\n",
            "                  +- Relation [CallNumber#0,UnitID#1,IncidentNumber#2,CallType#3,CallDate#4,WatchDate#5,CallFinalDisposition#6,AvailableDtTm#7,Address#8,City#9,Zipcode#10,Battalion#11,StationArea#12,Box#13,OriginalPriority#14,Priority#15,FinalPriority#16,ALSUnit#17,CallTypeGroup#18,NumAlarms#19,UnitType#20,UnitSequenceInCallDispatch#21,FirePreventionDistrict#22,SupervisorDistrict#23,... 4 more fields] csv\n",
            "\n",
            "== Analyzed Logical Plan ==\n",
            "CallNumber: int, UnitID: string, IncidentNumber: int, CallType: string, CallFinalDisposition: string, Address: string, City: string, Zipcode: int, Battalion: string, StationArea: string, Box: string, OriginalPriority: int, Priority: int, FinalPriority: int, ALSUnit: boolean, CallTypeGroup: string, NumAlarms: int, UnitType: string, UnitSequenceInCallDispatch: int, FirePreventionDistrict: int, SupervisorDistrict: int, Neighborhood: string, Location: string, RowID: string, ... 4 more fields\n",
            "Project [CallNumber#0, UnitID#1, IncidentNumber#2, CallType#3, CallFinalDisposition#6, Address#8, City#9, Zipcode#10, Battalion#11, StationArea#12, Box#13, OriginalPriority#14, Priority#15, FinalPriority#16, ALSUnit#17, CallTypeGroup#18, NumAlarms#19, UnitType#20, UnitSequenceInCallDispatch#21, FirePreventionDistrict#22, SupervisorDistrict#23, Neighborhood#24, Location#25, RowID#26, ... 4 more fields]\n",
            "+- Project [CallNumber#0, UnitID#1, IncidentNumber#2, CallType#3, CallFinalDisposition#6, AvailableDtTm#7, Address#8, City#9, Zipcode#10, Battalion#11, StationArea#12, Box#13, OriginalPriority#14, Priority#15, FinalPriority#16, ALSUnit#17, CallTypeGroup#18, NumAlarms#19, UnitType#20, UnitSequenceInCallDispatch#21, FirePreventionDistrict#22, SupervisorDistrict#23, Neighborhood#24, Location#25, ... 5 more fields]\n",
            "   +- Project [CallNumber#0, UnitID#1, IncidentNumber#2, CallType#3, CallFinalDisposition#6, AvailableDtTm#7, Address#8, City#9, Zipcode#10, Battalion#11, StationArea#12, Box#13, OriginalPriority#14, Priority#15, FinalPriority#16, ALSUnit#17, CallTypeGroup#18, NumAlarms#19, UnitType#20, UnitSequenceInCallDispatch#21, FirePreventionDistrict#22, SupervisorDistrict#23, Neighborhood#24, Location#25, ... 4 more fields]\n",
            "      +- Project [CallNumber#0, UnitID#1, IncidentNumber#2, CallType#3, WatchDate#5, CallFinalDisposition#6, AvailableDtTm#7, Address#8, City#9, Zipcode#10, Battalion#11, StationArea#12, Box#13, OriginalPriority#14, Priority#15, FinalPriority#16, ALSUnit#17, CallTypeGroup#18, NumAlarms#19, UnitType#20, UnitSequenceInCallDispatch#21, FirePreventionDistrict#22, SupervisorDistrict#23, Neighborhood#24, ... 5 more fields]\n",
            "         +- Project [CallNumber#0, UnitID#1, IncidentNumber#2, CallType#3, WatchDate#5, CallFinalDisposition#6, AvailableDtTm#7, Address#8, City#9, Zipcode#10, Battalion#11, StationArea#12, Box#13, OriginalPriority#14, Priority#15, FinalPriority#16, ALSUnit#17, CallTypeGroup#18, NumAlarms#19, UnitType#20, UnitSequenceInCallDispatch#21, FirePreventionDistrict#22, SupervisorDistrict#23, Neighborhood#24, ... 4 more fields]\n",
            "            +- Project [CallNumber#0, UnitID#1, IncidentNumber#2, CallType#3, CallDate#4, WatchDate#5, CallFinalDisposition#6, AvailableDtTm#7, Address#8, City#9, Zipcode#10, Battalion#11, StationArea#12, Box#13, OriginalPriority#14, Priority#15, FinalPriority#16, ALSUnit#17, CallTypeGroup#18, NumAlarms#19, UnitType#20, UnitSequenceInCallDispatch#21, FirePreventionDistrict#22, SupervisorDistrict#23, ... 5 more fields]\n",
            "               +- Project [CallNumber#0, UnitID#1, IncidentNumber#2, CallType#3, CallDate#4, WatchDate#5, CallFinalDisposition#6, AvailableDtTm#7, Address#8, City#9, Zipcode#10, Battalion#11, StationArea#12, Box#13, OriginalPriority#14, Priority#15, FinalPriority#16, ALSUnit#17, CallTypeGroup#18, NumAlarms#19, UnitType#20, UnitSequenceInCallDispatch#21, FirePreventionDistrict#22, SupervisorDistrict#23, ... 4 more fields]\n",
            "                  +- Relation [CallNumber#0,UnitID#1,IncidentNumber#2,CallType#3,CallDate#4,WatchDate#5,CallFinalDisposition#6,AvailableDtTm#7,Address#8,City#9,Zipcode#10,Battalion#11,StationArea#12,Box#13,OriginalPriority#14,Priority#15,FinalPriority#16,ALSUnit#17,CallTypeGroup#18,NumAlarms#19,UnitType#20,UnitSequenceInCallDispatch#21,FirePreventionDistrict#22,SupervisorDistrict#23,... 4 more fields] csv\n",
            "\n",
            "== Optimized Logical Plan ==\n",
            "Project [CallNumber#0, UnitID#1, IncidentNumber#2, CallType#3, CallFinalDisposition#6, Address#8, City#9, Zipcode#10, Battalion#11, StationArea#12, Box#13, OriginalPriority#14, Priority#15, FinalPriority#16, ALSUnit#17, CallTypeGroup#18, NumAlarms#19, UnitType#20, UnitSequenceInCallDispatch#21, FirePreventionDistrict#22, SupervisorDistrict#23, Neighborhood#24, Location#25, RowID#26, ... 4 more fields]\n",
            "+- Relation [CallNumber#0,UnitID#1,IncidentNumber#2,CallType#3,CallDate#4,WatchDate#5,CallFinalDisposition#6,AvailableDtTm#7,Address#8,City#9,Zipcode#10,Battalion#11,StationArea#12,Box#13,OriginalPriority#14,Priority#15,FinalPriority#16,ALSUnit#17,CallTypeGroup#18,NumAlarms#19,UnitType#20,UnitSequenceInCallDispatch#21,FirePreventionDistrict#22,SupervisorDistrict#23,... 4 more fields] csv\n",
            "\n",
            "== Physical Plan ==\n",
            "*(1) Project [CallNumber#0, UnitID#1, IncidentNumber#2, CallType#3, CallFinalDisposition#6, Address#8, City#9, Zipcode#10, Battalion#11, StationArea#12, Box#13, OriginalPriority#14, Priority#15, FinalPriority#16, ALSUnit#17, CallTypeGroup#18, NumAlarms#19, UnitType#20, UnitSequenceInCallDispatch#21, FirePreventionDistrict#22, SupervisorDistrict#23, Neighborhood#24, Location#25, RowID#26, ... 4 more fields]\n",
            "+- FileScan csv [CallNumber#0,UnitID#1,IncidentNumber#2,CallType#3,CallDate#4,WatchDate#5,CallFinalDisposition#6,AvailableDtTm#7,Address#8,City#9,Zipcode#10,Battalion#11,StationArea#12,Box#13,OriginalPriority#14,Priority#15,FinalPriority#16,ALSUnit#17,CallTypeGroup#18,NumAlarms#19,UnitType#20,UnitSequenceInCallDispatch#21,FirePreventionDistrict#22,SupervisorDistrict#23,... 4 more fields] Batched: false, DataFilters: [], Format: CSV, Location: InMemoryFileIndex(1 paths)[file:/content/002B_sf-fire-calls.csv], PartitionFilters: [], PushedFilters: [], ReadSchema: struct<CallNumber:int,UnitID:string,IncidentNumber:int,CallType:string,CallDate:string,WatchDate:...\n",
            "\n"
          ]
        }
      ]
    },
    {
      "cell_type": "code",
      "source": [
        "from pyspark.sql import Row\n",
        "\n",
        "row = Row(350, True, \"Learning Spark 2E\", None)\n",
        "\n",
        "print(row[0])\n",
        "print(row[1])\n",
        "print(row[2])\n",
        "print(row[3])"
      ],
      "metadata": {
        "colab": {
          "base_uri": "https://localhost:8080/"
        },
        "id": "mDZoFX231MDa",
        "outputId": "a147f232-8113-4cd6-c8b9-0b8dd31a7311"
      },
      "id": "mDZoFX231MDa",
      "execution_count": null,
      "outputs": [
        {
          "output_type": "stream",
          "name": "stdout",
          "text": [
            "350\n",
            "True\n",
            "Learning Spark 2E\n",
            "None\n"
          ]
        }
      ]
    },
    {
      "cell_type": "markdown",
      "source": [
        "#002C. Spark SQL (departuredelays)"
      ],
      "metadata": {
        "id": "tW46nS6QOLPw"
      },
      "id": "tW46nS6QOLPw"
    },
    {
      "cell_type": "code",
      "source": [
        "spark = (SparkSession\n",
        "         .builder\n",
        "         .appName(\"SparkSchemaExample\")\n",
        "         .getOrCreate())\n",
        "\n",
        "schema = \"`date` STRING, `delay` INT, `distance` INT, `origin` STRING, `destination` STRING\"\n",
        "\n",
        "csv_file = \"/content/002C_departuredelays.csv\"\n",
        "\n",
        "df = (spark.read.format(\"csv\")\n",
        "      .option(\"header\", \"true\")\n",
        "      .schema(schema)\n",
        "      .load(csv_file))\n",
        "\n",
        "df.show(5)"
      ],
      "metadata": {
        "colab": {
          "base_uri": "https://localhost:8080/"
        },
        "id": "a-SRzQpLfPDi",
        "outputId": "c9663df6-2e86-4224-96b1-c26af4c6472a"
      },
      "id": "a-SRzQpLfPDi",
      "execution_count": null,
      "outputs": [
        {
          "output_type": "stream",
          "name": "stdout",
          "text": [
            "+--------+-----+--------+------+-----------+\n",
            "|    date|delay|distance|origin|destination|\n",
            "+--------+-----+--------+------+-----------+\n",
            "|01011245|    6|     602|   ABE|        ATL|\n",
            "|01020600|   -8|     369|   ABE|        DTW|\n",
            "|01021245|   -2|     602|   ABE|        ATL|\n",
            "|01020605|   -4|     602|   ABE|        ATL|\n",
            "|01031245|   -4|     602|   ABE|        ATL|\n",
            "+--------+-----+--------+------+-----------+\n",
            "only showing top 5 rows\n",
            "\n"
          ]
        }
      ]
    },
    {
      "cell_type": "code",
      "source": [
        "spark = (SparkSession\n",
        "         .builder\n",
        "         .appName(\"SparkSQLExampleApp\")\n",
        "         .getOrCreate())\n",
        "\n",
        "csv_file = \"/content/002C_departuredelays.csv\"\n",
        "\n",
        "df = (spark.read.format(\"csv\")\n",
        "      .option(\"inferSchema\", \"true\")\n",
        "      .option(\"header\", \"true\")\n",
        "      .load(csv_file))\n",
        "\n",
        "df.createOrReplaceTempView(\"us_delay_flights_tbl\")\n",
        "\n",
        "result_df = spark.sql(\"SELECT * FROM us_delay_flights_tbl WHERE delay > 1000\")\n",
        "\n",
        "result_df.show()"
      ],
      "metadata": {
        "colab": {
          "base_uri": "https://localhost:8080/"
        },
        "id": "-s8C7iwN618u",
        "outputId": "2bb7182c-aa4d-4fb1-f3a1-264772f86f72"
      },
      "id": "-s8C7iwN618u",
      "execution_count": null,
      "outputs": [
        {
          "output_type": "stream",
          "name": "stdout",
          "text": [
            "+-------+-----+--------+------+-----------+\n",
            "|   date|delay|distance|origin|destination|\n",
            "+-------+-----+--------+------+-----------+\n",
            "|1042359| 1033|    2090|   ANC|        DEN|\n",
            "|1180805| 1560|     548|   BNA|        DFW|\n",
            "|1101330| 1180|     822|   BOS|        ATL|\n",
            "|1211400| 1288|    1057|   BWI|        DFW|\n",
            "|1011915| 1191|     565|   CLT|        MIA|\n",
            "|1051805| 1461|    1734|   CMH|        LAX|\n",
            "|1021720| 1321|     705|   CVG|        DFW|\n",
            "|1011155| 1174|     557|   DEN|        DFW|\n",
            "|1062145| 1054|     549|   DTW|        BOS|\n",
            "|1300725| 1482|     626|   EGE|        DFW|\n",
            "|1300915| 1500|    1517|   EGE|        JFK|\n",
            "|1041440| 1159|     589|   GUC|        DFW|\n",
            "|1311800| 1004|    3288|   HNL|        DFW|\n",
            "|1210725| 1444|    1018|   IAD|        DFW|\n",
            "|1301345| 1170|    1518|   LAS|        ATL|\n",
            "|1011700| 1017|     887|   MSP|        LGA|\n",
            "|1150715| 1496|    1033|   ONT|        DFW|\n",
            "|1071715| 1149|    1040|   ORD|        MIA|\n",
            "|1181225| 1151|     994|   PBI|        ORD|\n",
            "|1141620| 1177|    1132|   PHL|        DFW|\n",
            "+-------+-----+--------+------+-----------+\n",
            "only showing top 20 rows\n",
            "\n"
          ]
        }
      ]
    },
    {
      "cell_type": "code",
      "source": [
        "result_df.printSchema()"
      ],
      "metadata": {
        "colab": {
          "base_uri": "https://localhost:8080/"
        },
        "id": "K9huZfC7nakm",
        "outputId": "ca932c6a-68bc-4552-a6a8-088e95bcaffe"
      },
      "id": "K9huZfC7nakm",
      "execution_count": null,
      "outputs": [
        {
          "output_type": "stream",
          "name": "stdout",
          "text": [
            "root\n",
            " |-- date: integer (nullable = true)\n",
            " |-- delay: integer (nullable = true)\n",
            " |-- distance: integer (nullable = true)\n",
            " |-- origin: string (nullable = true)\n",
            " |-- destination: string (nullable = true)\n",
            "\n"
          ]
        }
      ]
    },
    {
      "cell_type": "markdown",
      "source": [
        "###Spark SQL vs API DataFrame"
      ],
      "metadata": {
        "id": "w2nKdssuq9R0"
      },
      "id": "w2nKdssuq9R0"
    },
    {
      "cell_type": "code",
      "source": [
        "spark.sql(\"\"\"\n",
        "    SELECT distance, origin, destination\n",
        "    FROM us_delay_flights_tbl\n",
        "    WHERE distance > 1000\n",
        "    ORDER BY distance DESC\n",
        "\"\"\").show(10)"
      ],
      "metadata": {
        "colab": {
          "base_uri": "https://localhost:8080/"
        },
        "id": "W3bnQVROgRDW",
        "outputId": "5abfc21f-5c04-4be1-ab9e-0d0c4fe97b2c"
      },
      "id": "W3bnQVROgRDW",
      "execution_count": null,
      "outputs": [
        {
          "output_type": "stream",
          "name": "stdout",
          "text": [
            "+--------+------+-----------+\n",
            "|distance|origin|destination|\n",
            "+--------+------+-----------+\n",
            "|    4330|   HNL|        JFK|\n",
            "|    4330|   HNL|        JFK|\n",
            "|    4330|   HNL|        JFK|\n",
            "|    4330|   HNL|        JFK|\n",
            "|    4330|   HNL|        JFK|\n",
            "|    4330|   HNL|        JFK|\n",
            "|    4330|   HNL|        JFK|\n",
            "|    4330|   HNL|        JFK|\n",
            "|    4330|   HNL|        JFK|\n",
            "|    4330|   HNL|        JFK|\n",
            "+--------+------+-----------+\n",
            "only showing top 10 rows\n",
            "\n"
          ]
        }
      ]
    },
    {
      "cell_type": "code",
      "source": [
        "(df.select(\"distance\", \"origin\", \"destination\")\n",
        "   .where(col(\"distance\") > 1000)\n",
        "   .orderBy(desc(\"distance\"))\n",
        "   .show(10))"
      ],
      "metadata": {
        "colab": {
          "base_uri": "https://localhost:8080/"
        },
        "id": "9f5ZZUWbrFQq",
        "outputId": "d73b41f9-6e87-4e9c-a8f2-1a810347de4f"
      },
      "id": "9f5ZZUWbrFQq",
      "execution_count": null,
      "outputs": [
        {
          "output_type": "stream",
          "name": "stdout",
          "text": [
            "+--------+------+-----------+\n",
            "|distance|origin|destination|\n",
            "+--------+------+-----------+\n",
            "|    4330|   HNL|        JFK|\n",
            "|    4330|   HNL|        JFK|\n",
            "|    4330|   HNL|        JFK|\n",
            "|    4330|   HNL|        JFK|\n",
            "|    4330|   HNL|        JFK|\n",
            "|    4330|   HNL|        JFK|\n",
            "|    4330|   HNL|        JFK|\n",
            "|    4330|   HNL|        JFK|\n",
            "|    4330|   HNL|        JFK|\n",
            "|    4330|   HNL|        JFK|\n",
            "+--------+------+-----------+\n",
            "only showing top 10 rows\n",
            "\n"
          ]
        }
      ]
    },
    {
      "cell_type": "code",
      "source": [
        "(df.select(\"distance\", \"origin\", \"destination\")\n",
        "   .where(\"distance > 1000\")\n",
        "   .orderBy(\"distance\", ascending=False)\n",
        "   .show(10))"
      ],
      "metadata": {
        "colab": {
          "base_uri": "https://localhost:8080/"
        },
        "id": "1EfTWTpRreDz",
        "outputId": "3e70e7d6-df64-4ad3-e85d-786c6b415771"
      },
      "id": "1EfTWTpRreDz",
      "execution_count": null,
      "outputs": [
        {
          "output_type": "stream",
          "name": "stdout",
          "text": [
            "+--------+------+-----------+\n",
            "|distance|origin|destination|\n",
            "+--------+------+-----------+\n",
            "|    4330|   HNL|        JFK|\n",
            "|    4330|   HNL|        JFK|\n",
            "|    4330|   HNL|        JFK|\n",
            "|    4330|   HNL|        JFK|\n",
            "|    4330|   HNL|        JFK|\n",
            "|    4330|   HNL|        JFK|\n",
            "|    4330|   HNL|        JFK|\n",
            "|    4330|   HNL|        JFK|\n",
            "|    4330|   HNL|        JFK|\n",
            "|    4330|   HNL|        JFK|\n",
            "+--------+------+-----------+\n",
            "only showing top 10 rows\n",
            "\n"
          ]
        }
      ]
    },
    {
      "cell_type": "code",
      "source": [
        "spark.sql(\"\"\"\n",
        "    SELECT date, delay, origin, destination\n",
        "    FROM us_delay_flights_tbl\n",
        "    WHERE delay > 120 AND origin = 'SFO' AND destination = 'ORD'\n",
        "    ORDER BY delay DESC\n",
        "\"\"\").show(10)"
      ],
      "metadata": {
        "colab": {
          "base_uri": "https://localhost:8080/"
        },
        "id": "O_orFFG3jIpL",
        "outputId": "eac86c6f-ca5e-4c21-de1c-ddbc25d3bfb5"
      },
      "id": "O_orFFG3jIpL",
      "execution_count": null,
      "outputs": [
        {
          "output_type": "stream",
          "name": "stdout",
          "text": [
            "+-------+-----+------+-----------+\n",
            "|   date|delay|origin|destination|\n",
            "+-------+-----+------+-----------+\n",
            "|2190925| 1638|   SFO|        ORD|\n",
            "|1031755|  396|   SFO|        ORD|\n",
            "|1022330|  326|   SFO|        ORD|\n",
            "|1051205|  320|   SFO|        ORD|\n",
            "|1190925|  297|   SFO|        ORD|\n",
            "|2171115|  296|   SFO|        ORD|\n",
            "|1071040|  279|   SFO|        ORD|\n",
            "|1051550|  274|   SFO|        ORD|\n",
            "|3120730|  266|   SFO|        ORD|\n",
            "|1261104|  258|   SFO|        ORD|\n",
            "+-------+-----+------+-----------+\n",
            "only showing top 10 rows\n",
            "\n"
          ]
        }
      ]
    },
    {
      "cell_type": "code",
      "source": [
        "formatted_df = spark.sql(\"\"\"\n",
        "    SELECT\n",
        "        date,\n",
        "        delay,\n",
        "        origin,\n",
        "        destination,\n",
        "        -- Przekształcenie liczby na string, wypełnienie zerami z lewej strony do 8 znaków, a następnie konwersja na timestamp\n",
        "        date_format(to_timestamp(lpad(date, 8, '0'), 'MMddHHmm'), 'MM-dd hh:mm a') AS formatted_date\n",
        "    FROM us_delay_flights_tbl\n",
        "    WHERE delay > 120 AND origin = 'SFO' AND destination = 'ORD'\n",
        "    ORDER BY delay DESC\n",
        "\"\"\")\n",
        "\n",
        "# Wyświetlenie wyników\n",
        "formatted_df.select(\"formatted_date\", \"delay\", \"origin\", \"destination\").show(10, truncate=False)"
      ],
      "metadata": {
        "colab": {
          "base_uri": "https://localhost:8080/"
        },
        "id": "i5d6BMQ9lPzf",
        "outputId": "008f4d5d-4e80-4af0-f3c6-d6873a52f99c"
      },
      "id": "i5d6BMQ9lPzf",
      "execution_count": null,
      "outputs": [
        {
          "output_type": "stream",
          "name": "stdout",
          "text": [
            "+--------------+-----+------+-----------+\n",
            "|formatted_date|delay|origin|destination|\n",
            "+--------------+-----+------+-----------+\n",
            "|02-19 09:25 AM|1638 |SFO   |ORD        |\n",
            "|01-03 05:55 PM|396  |SFO   |ORD        |\n",
            "|01-02 11:30 PM|326  |SFO   |ORD        |\n",
            "|01-05 12:05 PM|320  |SFO   |ORD        |\n",
            "|01-19 09:25 AM|297  |SFO   |ORD        |\n",
            "|02-17 11:15 AM|296  |SFO   |ORD        |\n",
            "|01-07 10:40 AM|279  |SFO   |ORD        |\n",
            "|01-05 03:50 PM|274  |SFO   |ORD        |\n",
            "|03-12 07:30 AM|266  |SFO   |ORD        |\n",
            "|01-26 11:04 AM|258  |SFO   |ORD        |\n",
            "+--------------+-----+------+-----------+\n",
            "only showing top 10 rows\n",
            "\n"
          ]
        }
      ]
    },
    {
      "cell_type": "code",
      "source": [
        "spark.sql(\"\"\"\n",
        "    SELECT\n",
        "        delay,\n",
        "        origin,\n",
        "        destination,\n",
        "        CASE\n",
        "            WHEN delay > 360 THEN 'Very Long Delays'\n",
        "            WHEN delay >= 120 AND delay <= 360 THEN 'Long Delays'\n",
        "            WHEN delay >= 60 AND delay < 120 THEN 'Short Delays'\n",
        "            WHEN delay > 0 AND delay < 60 THEN 'Tolerable Delays'\n",
        "            WHEN delay = 0 THEN 'No Delays'\n",
        "            ELSE 'Early'\n",
        "        END AS Flight_Delays\n",
        "    FROM us_delay_flights_tbl\n",
        "    ORDER BY origin, delay DESC\n",
        "\"\"\").show(10)"
      ],
      "metadata": {
        "colab": {
          "base_uri": "https://localhost:8080/"
        },
        "id": "L1PK_F_Un3_0",
        "outputId": "b0074ba8-d6a9-4b09-e41a-420d8e2348d5"
      },
      "id": "L1PK_F_Un3_0",
      "execution_count": null,
      "outputs": [
        {
          "output_type": "stream",
          "name": "stdout",
          "text": [
            "+-----+------+-----------+-------------+\n",
            "|delay|origin|destination|Flight_Delays|\n",
            "+-----+------+-----------+-------------+\n",
            "|  333|   ABE|        ATL|  Long Delays|\n",
            "|  305|   ABE|        ATL|  Long Delays|\n",
            "|  275|   ABE|        ATL|  Long Delays|\n",
            "|  257|   ABE|        ATL|  Long Delays|\n",
            "|  247|   ABE|        DTW|  Long Delays|\n",
            "|  247|   ABE|        ATL|  Long Delays|\n",
            "|  219|   ABE|        ORD|  Long Delays|\n",
            "|  211|   ABE|        ATL|  Long Delays|\n",
            "|  197|   ABE|        DTW|  Long Delays|\n",
            "|  192|   ABE|        ORD|  Long Delays|\n",
            "+-----+------+-----------+-------------+\n",
            "only showing top 10 rows\n",
            "\n"
          ]
        }
      ]
    },
    {
      "cell_type": "markdown",
      "source": [
        "###Utworzenie bazy danych"
      ],
      "metadata": {
        "id": "_-ePqg80yfqG"
      },
      "id": "_-ePqg80yfqG"
    },
    {
      "cell_type": "code",
      "source": [
        "spark.sql(\"CREATE DATABASE learn_spark_db\")\n",
        "spark.sql(\"USE learn_spark_db\")"
      ],
      "metadata": {
        "colab": {
          "base_uri": "https://localhost:8080/"
        },
        "id": "-kKlUa88ytu3",
        "outputId": "55eb93b7-1102-4bb3-f9f9-a48010811ea1"
      },
      "id": "-kKlUa88ytu3",
      "execution_count": null,
      "outputs": [
        {
          "output_type": "execute_result",
          "data": {
            "text/plain": [
              "DataFrame[]"
            ]
          },
          "metadata": {},
          "execution_count": 47
        }
      ]
    },
    {
      "cell_type": "markdown",
      "source": [
        "####Utworzenie tabeli niezarządzanej\n",
        "\n",
        "Natomiast w przypadku tabeli niezarządzanej Spark zarządza jedynie metadanymi, a ja — danymi."
      ],
      "metadata": {
        "id": "FAXdyz2zyW6s"
      },
      "id": "FAXdyz2zyW6s"
    },
    {
      "cell_type": "code",
      "source": [
        "spark.sql(\"\"\"\n",
        "    CREATE TABLE unmanaged_us_delay_flights_tbl(\n",
        "        date STRING,\n",
        "        delay INT,\n",
        "        distance INT,\n",
        "        origin STRING,\n",
        "        destination STRING\n",
        "    )\n",
        "    USING csv\n",
        "    OPTIONS (PATH '/content/002C_departuredelays.csv')\n",
        "\"\"\")"
      ],
      "metadata": {
        "colab": {
          "base_uri": "https://localhost:8080/"
        },
        "id": "kfhrkBZk6Ikx",
        "outputId": "a51f25ad-dfe6-4046-b906-a09a5cbd03c3"
      },
      "id": "kfhrkBZk6Ikx",
      "execution_count": null,
      "outputs": [
        {
          "output_type": "execute_result",
          "data": {
            "text/plain": [
              "DataFrame[]"
            ]
          },
          "metadata": {},
          "execution_count": 59
        }
      ]
    },
    {
      "cell_type": "code",
      "source": [
        "(df\n",
        "    .write\n",
        "    .option(\"path\", \"/content/unmanaged\")\n",
        "    .saveAsTable(\"unmanaged_us_delay_flights_tbl_df\"))"
      ],
      "metadata": {
        "id": "5ySnWbyi7IvH"
      },
      "id": "5ySnWbyi7IvH",
      "execution_count": null,
      "outputs": []
    },
    {
      "cell_type": "markdown",
      "source": [
        "####Utworzenie tabeli zarządzanej\n",
        "\n",
        "W przypadku tabeli zarządzanej framework zarządza metadanymi i danymi znajdującymi się w pliku magazynu danych. Może to być lokalny system plików, HDFS lub obiekt magazynu danych, takiego jak Amazon S3 lub Azure Blob."
      ],
      "metadata": {
        "id": "bI3IJQqiyaub"
      },
      "id": "bI3IJQqiyaub"
    },
    {
      "cell_type": "code",
      "source": [
        "spark.sql(\"CREATE TABLE managed_us_delay_flights_tbl (date STRING, delay INT, distance INT, origin STRING, destination STRING)\")"
      ],
      "metadata": {
        "id": "MOxwmowWzo6h"
      },
      "id": "MOxwmowWzo6h",
      "execution_count": null,
      "outputs": []
    },
    {
      "cell_type": "code",
      "source": [
        "csv_file = \"/content/002C_departuredelays.csv\"\n",
        "\n",
        "schema=\"date STRING, delay INT, distance INT, origin STRING, destination STRING\"\n",
        "\n",
        "flights_df = spark.read.csv(csv_file, schema=schema)\n",
        "\n",
        "flights_df.write.saveAsTable(\"managed_us_delay_flights_tbl\")\n",
        "\n",
        "# /content/spark-warehouse/learn_spark_db.db/managed_us_delay_flights_tbl/part-00001-3f9b8262-8cf0-48a3-b35a-3e0257f14acb-c000.snappy.parquet"
      ],
      "metadata": {
        "id": "ljWPtFYkz7zC"
      },
      "id": "ljWPtFYkz7zC",
      "execution_count": null,
      "outputs": []
    },
    {
      "cell_type": "markdown",
      "source": [
        "###Tworzenie widoku\n",
        "\n",
        "Widoki można podzielić na globalne (dostępne we wszystkich egzemplarzach SparkSession w danym klastrze) oraz mające zasięg sesji (dostępne jedynie dla pojedynczego egzemplarza SparkSession)."
      ],
      "metadata": {
        "id": "9Z5U18ksAQDB"
      },
      "id": "9Z5U18ksAQDB"
    },
    {
      "cell_type": "code",
      "source": [
        "CREATE OR REPLACE GLOBAL TEMP VIEW us_origin_airport_SFO_global_tmp_view AS\n",
        "    SELECT date, delay, origin, destination\n",
        "    FROM us_delay_flights_tbl\n",
        "    WHERE origin = 'SFO';"
      ],
      "metadata": {
        "id": "TEpDnpVBAUs2"
      },
      "id": "TEpDnpVBAUs2",
      "execution_count": null,
      "outputs": []
    },
    {
      "cell_type": "code",
      "source": [
        "CREATE OR REPLACE TEMP VIEW us_origin_airport_JFK_tmp_view AS\n",
        "    SELECT date, delay, origin, destination\n",
        "    FROM us_delay_flights_tbl\n",
        "    WHERE origin = 'JFK';"
      ],
      "metadata": {
        "id": "AW2bxNCyB3QH"
      },
      "id": "AW2bxNCyB3QH",
      "execution_count": null,
      "outputs": []
    },
    {
      "cell_type": "code",
      "source": [
        "df_sfo = spark.sql(\"SELECT date, delay, origin, destination FROM us_delay_flights_tbl WHERE origin = 'SFO'\")"
      ],
      "metadata": {
        "id": "nQ4Ar89PClyo"
      },
      "id": "nQ4Ar89PClyo",
      "execution_count": null,
      "outputs": []
    },
    {
      "cell_type": "code",
      "source": [
        "df_sfo.show(5)"
      ],
      "metadata": {
        "colab": {
          "base_uri": "https://localhost:8080/"
        },
        "id": "80gbWxLECsWS",
        "outputId": "8df82133-2d84-4436-9ae7-9f5e561fd418"
      },
      "id": "80gbWxLECsWS",
      "execution_count": null,
      "outputs": [
        {
          "output_type": "stream",
          "name": "stdout",
          "text": [
            "+-------+-----+------+-----------+\n",
            "|   date|delay|origin|destination|\n",
            "+-------+-----+------+-----------+\n",
            "|1011250|   55|   SFO|        JFK|\n",
            "|1012230|    0|   SFO|        JFK|\n",
            "|1010705|   -7|   SFO|        JFK|\n",
            "|1010620|   -3|   SFO|        MIA|\n",
            "|1010915|   -3|   SFO|        LAX|\n",
            "+-------+-----+------+-----------+\n",
            "only showing top 5 rows\n",
            "\n"
          ]
        }
      ]
    },
    {
      "cell_type": "code",
      "source": [
        "df_jfk = spark.sql(\"SELECT date, delay, origin, destination FROM us_delay_flights_tbl WHERE origin = 'JFK'\")"
      ],
      "metadata": {
        "id": "d2D4PM-vCmUU"
      },
      "id": "d2D4PM-vCmUU",
      "execution_count": null,
      "outputs": []
    },
    {
      "cell_type": "code",
      "source": [
        "df_jfk.show(5)"
      ],
      "metadata": {
        "colab": {
          "base_uri": "https://localhost:8080/"
        },
        "id": "eH2MwYGLC-LW",
        "outputId": "96e6a5d7-534d-4cea-e87a-9759280debe9"
      },
      "id": "eH2MwYGLC-LW",
      "execution_count": null,
      "outputs": [
        {
          "output_type": "stream",
          "name": "stdout",
          "text": [
            "+-------+-----+------+-----------+\n",
            "|   date|delay|origin|destination|\n",
            "+-------+-----+------+-----------+\n",
            "|1010900|   14|   JFK|        LAX|\n",
            "|1011200|   -3|   JFK|        LAX|\n",
            "|1011900|    2|   JFK|        LAX|\n",
            "|1011700|   11|   JFK|        LAS|\n",
            "|1010800|   -1|   JFK|        SFO|\n",
            "+-------+-----+------+-----------+\n",
            "only showing top 5 rows\n",
            "\n"
          ]
        }
      ]
    },
    {
      "cell_type": "markdown",
      "source": [
        "###Wyświetlanie metadanych"
      ],
      "metadata": {
        "id": "Cgs4o1XRFDP_"
      },
      "id": "Cgs4o1XRFDP_"
    },
    {
      "cell_type": "code",
      "source": [
        "spark.catalog.listDatabases()"
      ],
      "metadata": {
        "colab": {
          "base_uri": "https://localhost:8080/"
        },
        "id": "9sLQHL08DAD6",
        "outputId": "3fa4aaf5-1be8-424a-f4f8-1da151b19867"
      },
      "id": "9sLQHL08DAD6",
      "execution_count": null,
      "outputs": [
        {
          "output_type": "execute_result",
          "data": {
            "text/plain": [
              "[Database(name='default', catalog='spark_catalog', description='default database', locationUri='file:/content/spark-warehouse'),\n",
              " Database(name='learn_spark_db', catalog='spark_catalog', description='', locationUri='file:/content/spark-warehouse/learn_spark_db.db')]"
            ]
          },
          "metadata": {},
          "execution_count": 66
        }
      ]
    },
    {
      "cell_type": "code",
      "source": [
        "spark.catalog.listTables()"
      ],
      "metadata": {
        "colab": {
          "base_uri": "https://localhost:8080/"
        },
        "id": "Ab1hU9RCFMCo",
        "outputId": "77dcfc0a-cf50-416c-9e17-fb54691a57c5"
      },
      "id": "Ab1hU9RCFMCo",
      "execution_count": null,
      "outputs": [
        {
          "output_type": "execute_result",
          "data": {
            "text/plain": [
              "[Table(name='managed_us_delay_flights_tbl', catalog='spark_catalog', namespace=['learn_spark_db'], description=None, tableType='MANAGED', isTemporary=False),\n",
              " Table(name='unmanaged_us_delay_flights_tbl', catalog='spark_catalog', namespace=['learn_spark_db'], description=None, tableType='EXTERNAL', isTemporary=False),\n",
              " Table(name='unmanaged_us_delay_flights_tbl_df', catalog='spark_catalog', namespace=['learn_spark_db'], description=None, tableType='EXTERNAL', isTemporary=False),\n",
              " Table(name='us_delay_flights_tbl', catalog='spark_catalog', namespace=['learn_spark_db'], description=None, tableType='EXTERNAL', isTemporary=False),\n",
              " Table(name='us_delay_flights_tbl', catalog=None, namespace=[], description=None, tableType='TEMPORARY', isTemporary=True)]"
            ]
          },
          "metadata": {},
          "execution_count": 67
        }
      ]
    },
    {
      "cell_type": "code",
      "source": [
        "spark.catalog.listColumns(\"us_delay_flights_tbl\")"
      ],
      "metadata": {
        "colab": {
          "base_uri": "https://localhost:8080/"
        },
        "id": "c_plCvkLFgjh",
        "outputId": "f98f68ee-719f-4750-e597-23df89a376e4"
      },
      "id": "c_plCvkLFgjh",
      "execution_count": null,
      "outputs": [
        {
          "output_type": "execute_result",
          "data": {
            "text/plain": [
              "[Column(name='date', description=None, dataType='int', nullable=True, isPartition=False, isBucket=False),\n",
              " Column(name='delay', description=None, dataType='int', nullable=True, isPartition=False, isBucket=False),\n",
              " Column(name='distance', description=None, dataType='int', nullable=True, isPartition=False, isBucket=False),\n",
              " Column(name='origin', description=None, dataType='string', nullable=True, isPartition=False, isBucket=False),\n",
              " Column(name='destination', description=None, dataType='string', nullable=True, isPartition=False, isBucket=False)]"
            ]
          },
          "metadata": {},
          "execution_count": 68
        }
      ]
    },
    {
      "cell_type": "markdown",
      "source": [
        "###Wczytywanie zawartości tabeli do egzemplarza DataFrame"
      ],
      "metadata": {
        "id": "IdK2U_4dL6Iy"
      },
      "id": "IdK2U_4dL6Iy"
    },
    {
      "cell_type": "code",
      "source": [
        "us_flights_df = spark.sql(\"SELECT * FROM us_delay_flights_tbl\")\n",
        "\n",
        "us_flights_df2 = spark.table(\"us_delay_flights_tbl\")"
      ],
      "metadata": {
        "id": "vfO_dB1fF20D"
      },
      "id": "vfO_dB1fF20D",
      "execution_count": null,
      "outputs": []
    },
    {
      "cell_type": "code",
      "source": [
        "us_flights_df2.show(5)"
      ],
      "metadata": {
        "colab": {
          "base_uri": "https://localhost:8080/"
        },
        "id": "gYhVXavaLz7a",
        "outputId": "5b96152a-6e08-43e4-e506-ae42b9f67fcf"
      },
      "id": "gYhVXavaLz7a",
      "execution_count": null,
      "outputs": [
        {
          "output_type": "stream",
          "name": "stdout",
          "text": [
            "+-------+-----+--------+------+-----------+\n",
            "|   date|delay|distance|origin|destination|\n",
            "+-------+-----+--------+------+-----------+\n",
            "|1011245|    6|     602|   ABE|        ATL|\n",
            "|1020600|   -8|     369|   ABE|        DTW|\n",
            "|1021245|   -2|     602|   ABE|        ATL|\n",
            "|1020605|   -4|     602|   ABE|        ATL|\n",
            "|1031245|   -4|     602|   ABE|        ATL|\n",
            "+-------+-----+--------+------+-----------+\n",
            "only showing top 5 rows\n",
            "\n"
          ]
        }
      ]
    },
    {
      "cell_type": "markdown",
      "source": [
        "###Źródła danych dla egzemplarzy DataFrame i tabel SQL"
      ],
      "metadata": {
        "id": "K9iPB_YNQS2g"
      },
      "id": "K9iPB_YNQS2g"
    },
    {
      "cell_type": "markdown",
      "source": [
        "####Parquet"
      ],
      "metadata": {
        "id": "_b3gJesJqOqN"
      },
      "id": "_b3gJesJqOqN"
    },
    {
      "cell_type": "code",
      "source": [
        "file = \"/content/parquet\"\n",
        "\n",
        "df = spark.read.format(\"parquet\").load(file)\n",
        "\n",
        "df.show(5)"
      ],
      "metadata": {
        "colab": {
          "base_uri": "https://localhost:8080/"
        },
        "id": "gw_nFekzL3Yk",
        "outputId": "c14970b8-1443-491f-be57-8a234f4859d8"
      },
      "id": "gw_nFekzL3Yk",
      "execution_count": null,
      "outputs": [
        {
          "output_type": "stream",
          "name": "stdout",
          "text": [
            "+----------+------+--------------+----------------+----------+----------+--------------------+--------------------+--------------------+----+-------+---------+-----------+----+----------------+--------+-------------+-------+-------------+---------+--------+--------------------------+----------------------+------------------+--------------------+--------------------+-------------+---------+\n",
            "|CallNumber|UnitID|IncidentNumber|        CallType|  CallDate| WatchDate|CallFinalDisposition|       AvailableDtTm|             Address|City|Zipcode|Battalion|StationArea| Box|OriginalPriority|Priority|FinalPriority|ALSUnit|CallTypeGroup|NumAlarms|UnitType|UnitSequenceInCallDispatch|FirePreventionDistrict|SupervisorDistrict|        Neighborhood|            Location|        RowID|    Delay|\n",
            "+----------+------+--------------+----------------+----------+----------+--------------------+--------------------+--------------------+----+-------+---------+-----------+----+----------------+--------+-------------+-------+-------------+---------+--------+--------------------------+----------------------+------------------+--------------------+--------------------+-------------+---------+\n",
            "|  20110016|   T13|       2003235|  Structure Fire|01/11/2002|01/10/2002|               Other|01/11/2002 01:51:...|2000 Block of CAL...|  SF|  94109|      B04|         38|3362|               3|       3|            3|  false|         NULL|        1|   TRUCK|                         2|                     4|                 5|     Pacific Heights|(37.7895840679362...|020110016-T13|     2.95|\n",
            "|  20110022|   M17|       2003241|Medical Incident|01/11/2002|01/10/2002|               Other|01/11/2002 03:01:...|0 Block of SILVER...|  SF|  94124|      B10|         42|6495|               3|       3|            3|   true|         NULL|        1|   MEDIC|                         1|                    10|                10|Bayview Hunters P...|(37.7337623673897...|020110022-M17|      4.7|\n",
            "|  20110023|   M41|       2003242|Medical Incident|01/11/2002|01/10/2002|               Other|01/11/2002 02:39:...|MARKET ST/MCALLIS...|  SF|  94102|      B03|         01|1455|               3|       3|            3|   true|         NULL|        1|   MEDIC|                         2|                     3|                 6|          Tenderloin|(37.7811772186856...|020110023-M41|2.4333334|\n",
            "|  20110032|   E11|       2003250|    Vehicle Fire|01/11/2002|01/10/2002|               Other|01/11/2002 04:16:...|APPLETON AV/MISSI...|  SF|  94110|      B06|         32|5626|               3|       3|            3|  false|         NULL|        1|  ENGINE|                         1|                     6|                 9|      Bernal Heights|(37.7388432849018...|020110032-E11|      1.5|\n",
            "|  20110043|   B04|       2003259|          Alarms|01/11/2002|01/10/2002|               Other|01/11/2002 06:01:...|1400 Block of SUT...|  SF|  94109|      B04|         03|3223|               3|       3|            3|  false|         NULL|        1|   CHIEF|                         2|                     4|                 2|    Western Addition|(37.7872890372638...|020110043-B04|3.4833333|\n",
            "+----------+------+--------------+----------------+----------+----------+--------------------+--------------------+--------------------+----+-------+---------+-----------+----+----------------+--------+-------------+-------+-------------+---------+--------+--------------------------+----------------------+------------------+--------------------+--------------------+-------------+---------+\n",
            "only showing top 5 rows\n",
            "\n"
          ]
        }
      ]
    },
    {
      "cell_type": "code",
      "source": [
        "# Tworzenie tymczasowego widoku na podstawie danych z pliku Parquet\n",
        "spark.sql(\"\"\"\n",
        "    CREATE OR REPLACE TEMPORARY VIEW us_delay_flights_tbl\n",
        "    USING parquet\n",
        "    OPTIONS (\n",
        "        path \"/content/parquet\"\n",
        "    )\n",
        "\"\"\")\n",
        "\n",
        "# Wywołanie zapytania SQL do przeglądania danych z tymczasowego widoku\n",
        "spark.sql(\"SELECT * FROM us_delay_flights_tbl\").show(10)"
      ],
      "metadata": {
        "colab": {
          "base_uri": "https://localhost:8080/"
        },
        "id": "9RqB9UlsqEA5",
        "outputId": "fdf20900-456a-4906-d3df-4b8c2a22e233"
      },
      "id": "9RqB9UlsqEA5",
      "execution_count": null,
      "outputs": [
        {
          "output_type": "stream",
          "name": "stdout",
          "text": [
            "+----------+------+--------------+----------------+----------+----------+--------------------+--------------------+--------------------+----+-------+---------+-----------+----+----------------+--------+-------------+-------+-------------+---------+--------+--------------------------+----------------------+------------------+--------------------+--------------------+-------------+---------+\n",
            "|CallNumber|UnitID|IncidentNumber|        CallType|  CallDate| WatchDate|CallFinalDisposition|       AvailableDtTm|             Address|City|Zipcode|Battalion|StationArea| Box|OriginalPriority|Priority|FinalPriority|ALSUnit|CallTypeGroup|NumAlarms|UnitType|UnitSequenceInCallDispatch|FirePreventionDistrict|SupervisorDistrict|        Neighborhood|            Location|        RowID|    Delay|\n",
            "+----------+------+--------------+----------------+----------+----------+--------------------+--------------------+--------------------+----+-------+---------+-----------+----+----------------+--------+-------------+-------+-------------+---------+--------+--------------------------+----------------------+------------------+--------------------+--------------------+-------------+---------+\n",
            "|  20110016|   T13|       2003235|  Structure Fire|01/11/2002|01/10/2002|               Other|01/11/2002 01:51:...|2000 Block of CAL...|  SF|  94109|      B04|         38|3362|               3|       3|            3|  false|         NULL|        1|   TRUCK|                         2|                     4|                 5|     Pacific Heights|(37.7895840679362...|020110016-T13|     2.95|\n",
            "|  20110022|   M17|       2003241|Medical Incident|01/11/2002|01/10/2002|               Other|01/11/2002 03:01:...|0 Block of SILVER...|  SF|  94124|      B10|         42|6495|               3|       3|            3|   true|         NULL|        1|   MEDIC|                         1|                    10|                10|Bayview Hunters P...|(37.7337623673897...|020110022-M17|      4.7|\n",
            "|  20110023|   M41|       2003242|Medical Incident|01/11/2002|01/10/2002|               Other|01/11/2002 02:39:...|MARKET ST/MCALLIS...|  SF|  94102|      B03|         01|1455|               3|       3|            3|   true|         NULL|        1|   MEDIC|                         2|                     3|                 6|          Tenderloin|(37.7811772186856...|020110023-M41|2.4333334|\n",
            "|  20110032|   E11|       2003250|    Vehicle Fire|01/11/2002|01/10/2002|               Other|01/11/2002 04:16:...|APPLETON AV/MISSI...|  SF|  94110|      B06|         32|5626|               3|       3|            3|  false|         NULL|        1|  ENGINE|                         1|                     6|                 9|      Bernal Heights|(37.7388432849018...|020110032-E11|      1.5|\n",
            "|  20110043|   B04|       2003259|          Alarms|01/11/2002|01/10/2002|               Other|01/11/2002 06:01:...|1400 Block of SUT...|  SF|  94109|      B04|         03|3223|               3|       3|            3|  false|         NULL|        1|   CHIEF|                         2|                     4|                 2|    Western Addition|(37.7872890372638...|020110043-B04|3.4833333|\n",
            "|  20110072|   T08|       2003279|  Structure Fire|01/11/2002|01/11/2002|               Other|01/11/2002 08:03:...|  BEALE ST/FOLSOM ST|  SF|  94105|      B03|         35|2122|               3|       3|            3|  false|         NULL|        1|   TRUCK|                         2|                     3|                 6|Financial Distric...|(37.7886866619654...|020110072-T08|     1.75|\n",
            "|  20110125|   E33|       2003301|          Alarms|01/11/2002|01/11/2002|               Other|01/11/2002 09:46:...|0 Block of FARALL...|  SF|  94112|      B09|         33|8324|               3|       3|            3|  false|         NULL|        1|  ENGINE|                         2|                     9|                11|Oceanview/Merced/...|(37.7140353531157...|020110125-E33|2.7166667|\n",
            "|  20110130|   E36|       2003304|          Alarms|01/11/2002|01/11/2002|               Other|01/11/2002 09:58:...|600 Block of POLK ST|  SF|  94102|      B02|         03|3114|               3|       3|            3|  false|         NULL|        1|  ENGINE|                         1|                     2|                 6|          Tenderloin|(37.7826266328595...|020110130-E36|1.7833333|\n",
            "|  20110197|   E05|       2003343|Medical Incident|01/11/2002|01/11/2002|               Other|01/11/2002 12:06:...|1500 Block of WEB...|  SF|  94115|      B04|         05|3513|               3|       3|            3|  false|         NULL|        1|  ENGINE|                         1|                     4|                 5|           Japantown|(37.784958590666,...|020110197-E05|1.5166667|\n",
            "|  20110215|   E06|       2003348|Medical Incident|01/11/2002|01/11/2002|               Other|01/11/2002 01:08:...|DIAMOND ST/MARKET ST|  SF|  94114|      B05|         06|5415|               3|       3|            3|  false|         NULL|        1|  ENGINE|                         1|                     5|                 8| Castro/Upper Market|(37.7618954753708...|020110215-E06|2.7666667|\n",
            "+----------+------+--------------+----------------+----------+----------+--------------------+--------------------+--------------------+----+-------+---------+-----------+----+----------------+--------+-------------+-------+-------------+---------+--------+--------------------------+----------------------+------------------+--------------------+--------------------+-------------+---------+\n",
            "only showing top 10 rows\n",
            "\n"
          ]
        }
      ]
    },
    {
      "cell_type": "code",
      "source": [
        "spark.sql(\"SELECT * FROM us_delay_flights_tbl\").show(5)"
      ],
      "metadata": {
        "colab": {
          "base_uri": "https://localhost:8080/"
        },
        "id": "sT96Q7kKrnjK",
        "outputId": "4541a7fc-7b5e-4dbe-a73b-0ee09c33deef"
      },
      "id": "sT96Q7kKrnjK",
      "execution_count": null,
      "outputs": [
        {
          "output_type": "stream",
          "name": "stdout",
          "text": [
            "+----------+------+--------------+----------------+----------+----------+--------------------+--------------------+--------------------+----+-------+---------+-----------+----+----------------+--------+-------------+-------+-------------+---------+--------+--------------------------+----------------------+------------------+--------------------+--------------------+-------------+---------+\n",
            "|CallNumber|UnitID|IncidentNumber|        CallType|  CallDate| WatchDate|CallFinalDisposition|       AvailableDtTm|             Address|City|Zipcode|Battalion|StationArea| Box|OriginalPriority|Priority|FinalPriority|ALSUnit|CallTypeGroup|NumAlarms|UnitType|UnitSequenceInCallDispatch|FirePreventionDistrict|SupervisorDistrict|        Neighborhood|            Location|        RowID|    Delay|\n",
            "+----------+------+--------------+----------------+----------+----------+--------------------+--------------------+--------------------+----+-------+---------+-----------+----+----------------+--------+-------------+-------+-------------+---------+--------+--------------------------+----------------------+------------------+--------------------+--------------------+-------------+---------+\n",
            "|  20110016|   T13|       2003235|  Structure Fire|01/11/2002|01/10/2002|               Other|01/11/2002 01:51:...|2000 Block of CAL...|  SF|  94109|      B04|         38|3362|               3|       3|            3|  false|         NULL|        1|   TRUCK|                         2|                     4|                 5|     Pacific Heights|(37.7895840679362...|020110016-T13|     2.95|\n",
            "|  20110022|   M17|       2003241|Medical Incident|01/11/2002|01/10/2002|               Other|01/11/2002 03:01:...|0 Block of SILVER...|  SF|  94124|      B10|         42|6495|               3|       3|            3|   true|         NULL|        1|   MEDIC|                         1|                    10|                10|Bayview Hunters P...|(37.7337623673897...|020110022-M17|      4.7|\n",
            "|  20110023|   M41|       2003242|Medical Incident|01/11/2002|01/10/2002|               Other|01/11/2002 02:39:...|MARKET ST/MCALLIS...|  SF|  94102|      B03|         01|1455|               3|       3|            3|   true|         NULL|        1|   MEDIC|                         2|                     3|                 6|          Tenderloin|(37.7811772186856...|020110023-M41|2.4333334|\n",
            "|  20110032|   E11|       2003250|    Vehicle Fire|01/11/2002|01/10/2002|               Other|01/11/2002 04:16:...|APPLETON AV/MISSI...|  SF|  94110|      B06|         32|5626|               3|       3|            3|  false|         NULL|        1|  ENGINE|                         1|                     6|                 9|      Bernal Heights|(37.7388432849018...|020110032-E11|      1.5|\n",
            "|  20110043|   B04|       2003259|          Alarms|01/11/2002|01/10/2002|               Other|01/11/2002 06:01:...|1400 Block of SUT...|  SF|  94109|      B04|         03|3223|               3|       3|            3|  false|         NULL|        1|   CHIEF|                         2|                     4|                 2|    Western Addition|(37.7872890372638...|020110043-B04|3.4833333|\n",
            "+----------+------+--------------+----------------+----------+----------+--------------------+--------------------+--------------------+----+-------+---------+-----------+----+----------------+--------+-------------+-------+-------------+---------+--------+--------------------------+----------------------+------------------+--------------------+--------------------+-------------+---------+\n",
            "only showing top 5 rows\n",
            "\n"
          ]
        }
      ]
    },
    {
      "cell_type": "code",
      "source": [
        "(df.write.format(\"parquet\")\n",
        "    .mode(\"overwrite\")  # Nadpisuje dane, jeśli już istnieją\n",
        "    .option(\"compression\", \"snappy\")  # Ustawia kompresję na Snappy\n",
        "    .save(\"/content/parquet\"))  # Ścieżka, gdzie dane zostaną zapisane"
      ],
      "metadata": {
        "id": "5rSelOSQslB_"
      },
      "id": "5rSelOSQslB_",
      "execution_count": null,
      "outputs": []
    },
    {
      "cell_type": "code",
      "source": [
        "# Zapis DataFrame jako tabeli w Spark SQL\n",
        "(df.write\n",
        "    .mode(\"overwrite\")  # Nadpisuje istniejącą tabelę, jeśli już istnieje\n",
        "    .saveAsTable(\"us_delay_flights_tbl\"))  # Zapisuje dane jako tabelę o nazwie \"us_delay_flights_tbl\""
      ],
      "metadata": {
        "id": "us2X6vEvtjy4"
      },
      "id": "us2X6vEvtjy4",
      "execution_count": null,
      "outputs": []
    },
    {
      "cell_type": "markdown",
      "source": [
        "####JSON"
      ],
      "metadata": {
        "id": "-dkCwjKDyzpg"
      },
      "id": "-dkCwjKDyzpg"
    },
    {
      "cell_type": "code",
      "source": [
        "# Ścieżka do pliku JSON\n",
        "file = \"/content/json/*\"\n",
        "\n",
        "# Odczyt danych z pliku JSON i załadowanie do DataFrame\n",
        "df = spark.read.format(\"json\").load(file)"
      ],
      "metadata": {
        "id": "xox42QUjxGC2"
      },
      "id": "xox42QUjxGC2",
      "execution_count": null,
      "outputs": []
    },
    {
      "cell_type": "code",
      "source": [
        "# Tworzenie lub zastąpienie tymczasowego widoku z użyciem danych JSON\n",
        "\n",
        "%%sql\n",
        "\n",
        "CREATE OR REPLACE TEMPORARY VIEW us_delay_flights_tbl\n",
        "USING json\n",
        "OPTIONS (\n",
        "    path \"/content/json/*\"\n",
        ")"
      ],
      "metadata": {
        "colab": {
          "base_uri": "https://localhost:8080/"
        },
        "collapsed": true,
        "id": "X04S3eU91JRT",
        "outputId": "20590e4f-dd04-429a-c83b-4ed9adb7e9b1"
      },
      "id": "X04S3eU91JRT",
      "execution_count": null,
      "outputs": [
        {
          "output_type": "stream",
          "name": "stderr",
          "text": [
            "UsageError: Cell magic `%%sql` not found.\n"
          ]
        }
      ]
    },
    {
      "cell_type": "code",
      "source": [
        "df.createOrReplaceTempView(\"json\")\n",
        "df.show(10)\n",
        "\n",
        "# Wykonanie zapytania SQL na widoku\n",
        "spark.sql(\"SELECT * FROM json\").show(10)"
      ],
      "metadata": {
        "colab": {
          "base_uri": "https://localhost:8080/"
        },
        "id": "VicCGXea1v11",
        "outputId": "8aaaa1ec-5491-4c07-8bbe-1566adf4094b"
      },
      "id": "VicCGXea1v11",
      "execution_count": null,
      "outputs": [
        {
          "output_type": "stream",
          "name": "stdout",
          "text": [
            "+-----------------+-------------------+-----+\n",
            "|DEST_COUNTRY_NAME|ORIGIN_COUNTRY_NAME|count|\n",
            "+-----------------+-------------------+-----+\n",
            "|    United States|            Romania|   15|\n",
            "|    United States|            Croatia|    1|\n",
            "|    United States|            Ireland|  344|\n",
            "|            Egypt|      United States|   15|\n",
            "|    United States|              India|   62|\n",
            "|    United States|          Singapore|    1|\n",
            "|    United States|            Grenada|   62|\n",
            "|       Costa Rica|      United States|  588|\n",
            "|          Senegal|      United States|   40|\n",
            "|          Moldova|      United States|    1|\n",
            "+-----------------+-------------------+-----+\n",
            "only showing top 10 rows\n",
            "\n",
            "+-----------------+-------------------+-----+\n",
            "|DEST_COUNTRY_NAME|ORIGIN_COUNTRY_NAME|count|\n",
            "+-----------------+-------------------+-----+\n",
            "|    United States|            Romania|   15|\n",
            "|    United States|            Croatia|    1|\n",
            "|    United States|            Ireland|  344|\n",
            "|            Egypt|      United States|   15|\n",
            "|    United States|              India|   62|\n",
            "|    United States|          Singapore|    1|\n",
            "|    United States|            Grenada|   62|\n",
            "|       Costa Rica|      United States|  588|\n",
            "|          Senegal|      United States|   40|\n",
            "|          Moldova|      United States|    1|\n",
            "+-----------------+-------------------+-----+\n",
            "only showing top 10 rows\n",
            "\n"
          ]
        }
      ]
    },
    {
      "cell_type": "code",
      "source": [
        "# Zapisanie DataFrame w formacie JSON z kompresją Snappy\n",
        "df.write.format(\"json\") \\\n",
        "    .mode(\"overwrite\") \\\n",
        "    .option(\"compression\", \"snappy\") \\\n",
        "    .save(\"/content/data/json/df_json\")"
      ],
      "metadata": {
        "id": "66R1m-_V10ix"
      },
      "id": "66R1m-_V10ix",
      "execution_count": null,
      "outputs": []
    },
    {
      "cell_type": "code",
      "source": [
        "!ls /content/data/json/df_json"
      ],
      "metadata": {
        "colab": {
          "base_uri": "https://localhost:8080/"
        },
        "id": "QZXq_mSu3WfY",
        "outputId": "7874038c-1075-4b92-9539-234a7dce1d92"
      },
      "id": "QZXq_mSu3WfY",
      "execution_count": null,
      "outputs": [
        {
          "output_type": "stream",
          "name": "stdout",
          "text": [
            "part-00000-2b0e6f40-2617-4ca5-81e0-c7ab94178522-c000.json.snappy  _SUCCESS\n",
            "part-00001-2b0e6f40-2617-4ca5-81e0-c7ab94178522-c000.json.snappy\n"
          ]
        }
      ]
    },
    {
      "cell_type": "markdown",
      "source": [
        "####CSV"
      ],
      "metadata": {
        "id": "HjzzQevr5jaB"
      },
      "id": "HjzzQevr5jaB"
    },
    {
      "cell_type": "code",
      "source": [
        "file = \"/content/scv*\"\n",
        "\n",
        "schema = \"DEST_COUNTRY_NAME STRING, ORIGIN_COUNTRY_NAME STRING, count INT\"\n",
        "\n",
        "df = (spark.read.format(\"csv\")\n",
        "      .option(\"header\", \"true\")\n",
        "      .schema(schema)\n",
        "      .option(\"mode\", \"FAILFAST\")  # Zakończenie w przypadku błędów\n",
        "      .option(\"nullValue\", \"\")     # Zastąpienie brakujących wartości pustym ciągiem\n",
        "      .load(file))\n",
        "\n",
        "df.show(10)"
      ],
      "metadata": {
        "colab": {
          "base_uri": "https://localhost:8080/"
        },
        "id": "1fwQaF2d379x",
        "outputId": "678c631f-c0c3-44b7-dd0c-4e895e41e699"
      },
      "id": "1fwQaF2d379x",
      "execution_count": null,
      "outputs": [
        {
          "output_type": "stream",
          "name": "stdout",
          "text": [
            "+-----------------+-------------------+-----+\n",
            "|DEST_COUNTRY_NAME|ORIGIN_COUNTRY_NAME|count|\n",
            "+-----------------+-------------------+-----+\n",
            "|    United States|            Romania|    1|\n",
            "|    United States|            Ireland|  264|\n",
            "|    United States|              India|   69|\n",
            "|            Egypt|      United States|   24|\n",
            "|Equatorial Guinea|      United States|    1|\n",
            "|    United States|          Singapore|   25|\n",
            "|    United States|            Grenada|   54|\n",
            "|       Costa Rica|      United States|  477|\n",
            "|          Senegal|      United States|   29|\n",
            "|    United States|   Marshall Islands|   44|\n",
            "+-----------------+-------------------+-----+\n",
            "only showing top 10 rows\n",
            "\n"
          ]
        }
      ]
    },
    {
      "cell_type": "code",
      "source": [
        "# Utworzenie tymczasowego widoku\n",
        "df.createOrReplaceTempView(\"csv\")\n",
        "\n",
        "# Sprawdzenie danych w widoku\n",
        "spark.sql(\"SELECT * FROM csv LIMIT 10\").show()"
      ],
      "metadata": {
        "colab": {
          "base_uri": "https://localhost:8080/"
        },
        "id": "3mAifVuD6rZl",
        "outputId": "daa51c28-ee99-4c00-e7f3-8b98e782bd4e"
      },
      "id": "3mAifVuD6rZl",
      "execution_count": null,
      "outputs": [
        {
          "output_type": "stream",
          "name": "stdout",
          "text": [
            "+-----------------+-------------------+-----+\n",
            "|DEST_COUNTRY_NAME|ORIGIN_COUNTRY_NAME|count|\n",
            "+-----------------+-------------------+-----+\n",
            "|    United States|            Romania|    1|\n",
            "|    United States|            Ireland|  264|\n",
            "|    United States|              India|   69|\n",
            "|            Egypt|      United States|   24|\n",
            "|Equatorial Guinea|      United States|    1|\n",
            "|    United States|          Singapore|   25|\n",
            "|    United States|            Grenada|   54|\n",
            "|       Costa Rica|      United States|  477|\n",
            "|          Senegal|      United States|   29|\n",
            "|    United States|   Marshall Islands|   44|\n",
            "+-----------------+-------------------+-----+\n",
            "\n"
          ]
        }
      ]
    },
    {
      "cell_type": "code",
      "source": [
        "# Zapisanie DataFrame w formacie CSV\n",
        "(df.write.format(\"csv\")\n",
        "    .mode(\"overwrite\")\n",
        "    .option(\"header\", \"true\")\n",
        "    .save(\"/content/scv/df_csv\"))"
      ],
      "metadata": {
        "id": "sZgkq0PN7VWj"
      },
      "id": "sZgkq0PN7VWj",
      "execution_count": null,
      "outputs": []
    },
    {
      "cell_type": "code",
      "source": [
        "!ls /content/scv/df_csv"
      ],
      "metadata": {
        "colab": {
          "base_uri": "https://localhost:8080/"
        },
        "id": "q5rCxSkc9GnS",
        "outputId": "4e26b01a-136d-4aeb-c590-467cbb33d357"
      },
      "id": "q5rCxSkc9GnS",
      "execution_count": null,
      "outputs": [
        {
          "output_type": "stream",
          "name": "stdout",
          "text": [
            "part-00000-7b53ab58-00f8-40f8-8380-0a52a96a21a2-c000.csv  _SUCCESS\n",
            "part-00001-7b53ab58-00f8-40f8-8380-0a52a96a21a2-c000.csv\n"
          ]
        }
      ]
    },
    {
      "cell_type": "markdown",
      "source": [
        "####Avro\n",
        "\n",
        "Jest używany np. przez Apache Kafka do serializacji i deserializacji komunikatów. Format ten posiada wiele zalet, m.in. bezpośrednie mapowanie na JSON, dużą szybkość działania i efektywność. Jego obsługę zapewniono w wielu językach programowania.\n"
      ],
      "metadata": {
        "id": "-exTc14TDHdr"
      },
      "id": "-exTc14TDHdr"
    },
    {
      "cell_type": "code",
      "source": [
        "# df = (spark.read.format(\"avro\")\n",
        "#     .load(\"/content/avro/*\"))\n",
        "\n",
        "# df.show(truncate=False)"
      ],
      "metadata": {
        "id": "EJGj2WD5G0-8",
        "collapsed": true
      },
      "id": "EJGj2WD5G0-8",
      "execution_count": 9,
      "outputs": []
    },
    {
      "cell_type": "code",
      "source": [
        "%%sql\n",
        "\n",
        "CREATE OR REPLACE TEMPORARY VIEW avro\n",
        "USING avro\n",
        "OPTIONS (\n",
        "  path \"/databricks-datasets/learning-spark-v2/flights/summary-data/avro/*\"\n",
        ")"
      ],
      "metadata": {
        "id": "iB2lbfYBLOrR"
      },
      "id": "iB2lbfYBLOrR",
      "execution_count": null,
      "outputs": []
    },
    {
      "cell_type": "code",
      "source": [
        "spark.sql(\"SELECT * FROM avro\").show(truncate=False)"
      ],
      "metadata": {
        "id": "HvCHUdRrMcQX"
      },
      "id": "HvCHUdRrMcQX",
      "execution_count": null,
      "outputs": []
    },
    {
      "cell_type": "code",
      "source": [
        "(df.write\n",
        "  .format(\"avro\")\n",
        "  .mode(\"overwrite\")\n",
        "  .save(\"/tmp/data/avro/df_avro\"))"
      ],
      "metadata": {
        "id": "sI4xIL4LMi4q"
      },
      "id": "sI4xIL4LMi4q",
      "execution_count": null,
      "outputs": []
    },
    {
      "cell_type": "markdown",
      "source": [
        "####ORC"
      ],
      "metadata": {
        "id": "HHzjLS3QOnh5"
      },
      "id": "HHzjLS3QOnh5"
    },
    {
      "cell_type": "code",
      "source": [
        "# /content/part-r-00000-2c4f7d96-e703-4de3-af1b-1441d172c80f.snappy.orc"
      ],
      "metadata": {
        "id": "LQx8BpEAOo6F"
      },
      "id": "LQx8BpEAOo6F",
      "execution_count": null,
      "outputs": []
    },
    {
      "cell_type": "code",
      "source": [
        "file = \"/content/part-r-00000-2c4f7d96-e703-4de3-af1b-1441d172c80f.snappy.orc\"\n",
        "\n",
        "df = spark.read.format(\"orc\").option(\"path\", file).load()\n",
        "\n",
        "df.show(10, False)"
      ],
      "metadata": {
        "colab": {
          "base_uri": "https://localhost:8080/"
        },
        "id": "6ulerslJPgOm",
        "outputId": "e41c30e5-c9ec-4499-c6d8-34d5aea1b23d"
      },
      "id": "6ulerslJPgOm",
      "execution_count": 12,
      "outputs": [
        {
          "output_type": "stream",
          "name": "stdout",
          "text": [
            "+-----------------+-------------------+-----+\n",
            "|DEST_COUNTRY_NAME|ORIGIN_COUNTRY_NAME|count|\n",
            "+-----------------+-------------------+-----+\n",
            "|United States    |Romania            |1    |\n",
            "|United States    |Ireland            |264  |\n",
            "|United States    |India              |69   |\n",
            "|Egypt            |United States      |24   |\n",
            "|Equatorial Guinea|United States      |1    |\n",
            "|United States    |Singapore          |25   |\n",
            "|United States    |Grenada            |54   |\n",
            "|Costa Rica       |United States      |477  |\n",
            "|Senegal          |United States      |29   |\n",
            "|United States    |Marshall Islands   |44   |\n",
            "+-----------------+-------------------+-----+\n",
            "only showing top 10 rows\n",
            "\n"
          ]
        }
      ]
    },
    {
      "cell_type": "code",
      "source": [
        "%%sql\n",
        "\n",
        "CREATE OR REPLACE TEMPORARY VIEW us_delay_flights_tbl\n",
        "USING orc\n",
        "OPTIONS (\n",
        "  path \"/databricks-datasets/learning-spark-v2/flights/summary-data/orc/*\"\n",
        ")"
      ],
      "metadata": {
        "id": "_SFs9l0sPkYX"
      },
      "id": "_SFs9l0sPkYX",
      "execution_count": null,
      "outputs": []
    },
    {
      "cell_type": "code",
      "source": [
        "df.createOrReplaceTempView(\"orc\")"
      ],
      "metadata": {
        "id": "b-oF0ekwQimM"
      },
      "id": "b-oF0ekwQimM",
      "execution_count": 13,
      "outputs": []
    },
    {
      "cell_type": "code",
      "source": [
        "# Wykonanie zapytania SQL na tymczasowym widoku i wyświetlenie wyników\n",
        "spark.sql(\"SELECT * FROM orc\").show(10)"
      ],
      "metadata": {
        "colab": {
          "base_uri": "https://localhost:8080/"
        },
        "id": "XflKqPdzQmT8",
        "outputId": "f63b57fb-44e0-4848-9f11-4850453a108d"
      },
      "id": "XflKqPdzQmT8",
      "execution_count": 14,
      "outputs": [
        {
          "output_type": "stream",
          "name": "stdout",
          "text": [
            "+-----------------+-------------------+-----+\n",
            "|DEST_COUNTRY_NAME|ORIGIN_COUNTRY_NAME|count|\n",
            "+-----------------+-------------------+-----+\n",
            "|    United States|            Romania|    1|\n",
            "|    United States|            Ireland|  264|\n",
            "|    United States|              India|   69|\n",
            "|            Egypt|      United States|   24|\n",
            "|Equatorial Guinea|      United States|    1|\n",
            "|    United States|          Singapore|   25|\n",
            "|    United States|            Grenada|   54|\n",
            "|       Costa Rica|      United States|  477|\n",
            "|          Senegal|      United States|   29|\n",
            "|    United States|   Marshall Islands|   44|\n",
            "+-----------------+-------------------+-----+\n",
            "only showing top 10 rows\n",
            "\n"
          ]
        }
      ]
    },
    {
      "cell_type": "code",
      "source": [
        "(df.write.format(\"orc\")\n",
        "  .mode(\"overwrite\")\n",
        "  .option(\"compression\", \"snappy\")\n",
        "  .save(\"/content/orc/\"))"
      ],
      "metadata": {
        "id": "2-WCyoCwQsRW"
      },
      "id": "2-WCyoCwQsRW",
      "execution_count": 15,
      "outputs": []
    },
    {
      "cell_type": "markdown",
      "source": [
        "####Obrazy"
      ],
      "metadata": {
        "id": "OPZeVX_DRIa-"
      },
      "id": "OPZeVX_DRIa-"
    },
    {
      "cell_type": "code",
      "source": [
        "from pyspark.ml import image\n",
        "\n",
        "image_dir = \"/content/train_images\"\n",
        "images_df = spark.read.format(\"image\").load(image_dir)\n",
        "images_df.printSchema()"
      ],
      "metadata": {
        "colab": {
          "base_uri": "https://localhost:8080/"
        },
        "id": "E91qEBbsQ_2w",
        "outputId": "5389e840-22f3-42f1-be6a-95e5987ac80e"
      },
      "id": "E91qEBbsQ_2w",
      "execution_count": 16,
      "outputs": [
        {
          "output_type": "stream",
          "name": "stdout",
          "text": [
            "root\n",
            " |-- image: struct (nullable = true)\n",
            " |    |-- origin: string (nullable = true)\n",
            " |    |-- height: integer (nullable = true)\n",
            " |    |-- width: integer (nullable = true)\n",
            " |    |-- nChannels: integer (nullable = true)\n",
            " |    |-- mode: integer (nullable = true)\n",
            " |    |-- data: binary (nullable = true)\n",
            " |-- label: integer (nullable = true)\n",
            "\n"
          ]
        }
      ]
    },
    {
      "cell_type": "markdown",
      "source": [
        "####Pliki binarne"
      ],
      "metadata": {
        "id": "pQRFhnyGTPrv"
      },
      "id": "pQRFhnyGTPrv"
    },
    {
      "cell_type": "code",
      "source": [],
      "metadata": {
        "id": "-qu4aBrcSqUS"
      },
      "id": "-qu4aBrcSqUS",
      "execution_count": null,
      "outputs": []
    }
  ],
  "metadata": {
    "kernelspec": {
      "display_name": "Python 3 (ipykernel)",
      "language": "python",
      "name": "python3"
    },
    "language_info": {
      "codemirror_mode": {
        "name": "ipython",
        "version": 3
      },
      "file_extension": ".py",
      "mimetype": "text/x-python",
      "name": "python",
      "nbconvert_exporter": "python",
      "pygments_lexer": "ipython3",
      "version": "3.11.6"
    },
    "colab": {
      "provenance": []
    }
  },
  "nbformat": 4,
  "nbformat_minor": 5
}