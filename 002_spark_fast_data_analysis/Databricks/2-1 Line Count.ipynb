{
 "cells": [
  {
   "cell_type": "markdown",
   "metadata": {
    "application/vnd.databricks.v1+cell": {
     "cellMetadata": {},
     "inputWidgets": {},
     "nuid": "c154b2e4-78fc-4e0a-b34d-94fda2cb51e1",
     "showTitle": false,
     "title": ""
    }
   },
   "source": [
    "## Example 2-1 Line Count"
   ]
  },
  {
   "cell_type": "code",
   "execution_count": 0,
   "metadata": {
    "application/vnd.databricks.v1+cell": {
     "cellMetadata": {
      "byteLimit": 2048000,
      "rowLimit": 10000
     },
     "inputWidgets": {},
     "nuid": "280ca061-4031-4d21-bcf0-a6552d3a7cfa",
     "showTitle": false,
     "title": ""
    }
   },
   "outputs": [
    {
     "output_type": "stream",
     "name": "stdout",
     "output_type": "stream",
     "text": [
      "Out[1]: '3.1.2'"
     ]
    }
   ],
   "source": [
    "spark.version"
   ]
  },
  {
   "cell_type": "code",
   "execution_count": 0,
   "metadata": {
    "application/vnd.databricks.v1+cell": {
     "cellMetadata": {
      "byteLimit": 2048000,
      "rowLimit": 10000
     },
     "inputWidgets": {},
     "nuid": "35bd1f76-d834-4e75-af5d-20c475b7539f",
     "showTitle": false,
     "title": ""
    }
   },
   "outputs": [
    {
     "output_type": "stream",
     "name": "stdout",
     "output_type": "stream",
     "text": [
      "+------------------------------------------------------------------------------+\n|value                                                                         |\n+------------------------------------------------------------------------------+\n|# Apache Spark                                                                |\n|                                                                              |\n|Spark is a fast and general cluster computing system for Big Data. It provides|\n|high-level APIs in Scala, Java, Python, and R, and an optimized engine that   |\n|supports general computation graphs for data analysis. It also supports a     |\n|rich set of higher-level tools including Spark SQL for SQL and DataFrames,    |\n|MLlib for machine learning, GraphX for graph processing,                      |\n|and Spark Streaming for stream processing.                                    |\n|                                                                              |\n|<http://spark.apache.org/>                                                    |\n+------------------------------------------------------------------------------+\nonly showing top 10 rows\n\n"
     ]
    }
   ],
   "source": [
    "strings = spark.read.text(\"/databricks-datasets/learning-spark-v2/SPARK_README.md\")\n",
    "strings.show(10, truncate=False)"
   ]
  },
  {
   "cell_type": "code",
   "execution_count": 0,
   "metadata": {
    "application/vnd.databricks.v1+cell": {
     "cellMetadata": {
      "byteLimit": 2048000,
      "rowLimit": 10000
     },
     "inputWidgets": {},
     "nuid": "6a1b89c0-77de-4da1-bc98-3753ec4e362b",
     "showTitle": false,
     "title": ""
    }
   },
   "outputs": [
    {
     "output_type": "stream",
     "name": "stdout",
     "output_type": "stream",
     "text": [
      "Out[3]: 95"
     ]
    }
   ],
   "source": [
    "strings.count()"
   ]
  },
  {
   "cell_type": "code",
   "execution_count": 0,
   "metadata": {
    "application/vnd.databricks.v1+cell": {
     "cellMetadata": {
      "byteLimit": 2048000,
      "rowLimit": 10000
     },
     "inputWidgets": {},
     "nuid": "088c5e2f-9277-4af0-ad92-138bc7b88a89",
     "showTitle": false,
     "title": ""
    }
   },
   "outputs": [
    {
     "output_type": "stream",
     "name": "stdout",
     "output_type": "stream",
     "text": [
      "Out[4]: 17"
     ]
    }
   ],
   "source": [
    "filtered = strings.filter(strings.value.contains(\"Spark\"))\n",
    "filtered.count()"
   ]
  },
  {
   "cell_type": "code",
   "execution_count": 0,
   "metadata": {
    "application/vnd.databricks.v1+cell": {
     "cellMetadata": {},
     "inputWidgets": {},
     "nuid": "fa1dc036-044d-47f2-aa47-258f68609d41",
     "showTitle": false,
     "title": ""
    }
   },
   "outputs": [],
   "source": []
  }
 ],
 "metadata": {
  "application/vnd.databricks.v1+notebook": {
   "dashboards": [],
   "environmentMetadata": null,
   "language": "python",
   "notebookMetadata": {
    "pythonIndentUnit": 2
   },
   "notebookName": "2-1 Line Count",
   "widgets": {}
  }
 },
 "nbformat": 4,
 "nbformat_minor": 0
}
