{
  "nbformat": 4,
  "nbformat_minor": 0,
  "metadata": {
    "colab": {
      "provenance": [],
      "toc_visible": true
    },
    "kernelspec": {
      "name": "python3",
      "display_name": "Python 3"
    },
    "language_info": {
      "name": "python"
    }
  },
  "cells": [
    {
      "cell_type": "code",
      "execution_count": 1,
      "metadata": {
        "colab": {
          "base_uri": "https://localhost:8080/"
        },
        "id": "nhu7So9Iet1L",
        "outputId": "3a202d18-c624-400c-c903-f66200c2d87b"
      },
      "outputs": [
        {
          "output_type": "stream",
          "name": "stdout",
          "text": [
            "Collecting pyspark\n",
            "  Downloading pyspark-3.5.3.tar.gz (317.3 MB)\n",
            "\u001b[2K     \u001b[90m━━━━━━━━━━━━━━━━━━━━━━━━━━━━━━━━━━━━━━━━\u001b[0m \u001b[32m317.3/317.3 MB\u001b[0m \u001b[31m3.9 MB/s\u001b[0m eta \u001b[36m0:00:00\u001b[0m\n",
            "\u001b[?25h  Preparing metadata (setup.py) ... \u001b[?25l\u001b[?25hdone\n",
            "Requirement already satisfied: py4j==0.10.9.7 in /usr/local/lib/python3.10/dist-packages (from pyspark) (0.10.9.7)\n",
            "Building wheels for collected packages: pyspark\n",
            "  Building wheel for pyspark (setup.py) ... \u001b[?25l\u001b[?25hdone\n",
            "  Created wheel for pyspark: filename=pyspark-3.5.3-py2.py3-none-any.whl size=317840625 sha256=b2f598ade40c55c05ca5730cab3d89881f10e95d7dfc4fcaaf08f6db35d8d2be\n",
            "  Stored in directory: /root/.cache/pip/wheels/1b/3a/92/28b93e2fbfdbb07509ca4d6f50c5e407f48dce4ddbda69a4ab\n",
            "Successfully built pyspark\n",
            "Installing collected packages: pyspark\n",
            "Successfully installed pyspark-3.5.3\n"
          ]
        }
      ],
      "source": [
        "pip install pyspark"
      ]
    },
    {
      "cell_type": "code",
      "source": [
        "from pyspark.sql import SparkSession\n",
        "spark = SparkSession.builder.getOrCreate()"
      ],
      "metadata": {
        "id": "PlhscUTQe2An"
      },
      "execution_count": 2,
      "outputs": []
    },
    {
      "cell_type": "code",
      "source": [
        "spark"
      ],
      "metadata": {
        "colab": {
          "base_uri": "https://localhost:8080/",
          "height": 221
        },
        "id": "R6-h7EGne6K3",
        "outputId": "dedb4009-a9dd-45eb-8f01-db1440e76ccd"
      },
      "execution_count": 3,
      "outputs": [
        {
          "output_type": "execute_result",
          "data": {
            "text/plain": [
              "<pyspark.sql.session.SparkSession at 0x7fb84e69ddb0>"
            ],
            "text/html": [
              "\n",
              "            <div>\n",
              "                <p><b>SparkSession - in-memory</b></p>\n",
              "                \n",
              "        <div>\n",
              "            <p><b>SparkContext</b></p>\n",
              "\n",
              "            <p><a href=\"http://fbcdbc18fda3:4040\">Spark UI</a></p>\n",
              "\n",
              "            <dl>\n",
              "              <dt>Version</dt>\n",
              "                <dd><code>v3.5.3</code></dd>\n",
              "              <dt>Master</dt>\n",
              "                <dd><code>local[*]</code></dd>\n",
              "              <dt>AppName</dt>\n",
              "                <dd><code>pyspark-shell</code></dd>\n",
              "            </dl>\n",
              "        </div>\n",
              "        \n",
              "            </div>\n",
              "        "
            ]
          },
          "metadata": {},
          "execution_count": 3
        }
      ]
    },
    {
      "cell_type": "code",
      "source": [
        "employees = [(\"Bob\", 42, 'IT', 2000),\n",
        "           (\"Lisa\", 59,  'Finance', 3000),\n",
        "           (\"Diane\", 20,  'IT', 5000),\n",
        "           (\"Janet\", 60,  'Finance', 7000),\n",
        "            (\"Calvin\", 26, 'IT', 4000),\n",
        "           (\"Elena\", 24,  'Finance', 6000),\n",
        "           (\"Bill\", 50,  'IT', 1000),\n",
        "          (\"Dawn\", 33,  'Finance', 8000)]\n",
        "\n",
        "\n",
        "col = ['first_name', 'age', 'deptartment', 'salary']\n",
        "\n",
        "employeesdf = spark.createDataFrame(data = employees,schema = col)\n",
        "\n",
        "employeesdf.show()\n",
        "employeesdf.printSchema()"
      ],
      "metadata": {
        "colab": {
          "base_uri": "https://localhost:8080/"
        },
        "id": "yTqVK64OfC76",
        "outputId": "f20743c9-305c-435c-a465-d2abd096fb63"
      },
      "execution_count": 4,
      "outputs": [
        {
          "output_type": "stream",
          "name": "stdout",
          "text": [
            "+----------+---+-----------+------+\n",
            "|first_name|age|deptartment|salary|\n",
            "+----------+---+-----------+------+\n",
            "|       Bob| 42|         IT|  2000|\n",
            "|      Lisa| 59|    Finance|  3000|\n",
            "|     Diane| 20|         IT|  5000|\n",
            "|     Janet| 60|    Finance|  7000|\n",
            "|    Calvin| 26|         IT|  4000|\n",
            "|     Elena| 24|    Finance|  6000|\n",
            "|      Bill| 50|         IT|  1000|\n",
            "|      Dawn| 33|    Finance|  8000|\n",
            "+----------+---+-----------+------+\n",
            "\n",
            "root\n",
            " |-- first_name: string (nullable = true)\n",
            " |-- age: long (nullable = true)\n",
            " |-- deptartment: string (nullable = true)\n",
            " |-- salary: long (nullable = true)\n",
            "\n"
          ]
        }
      ]
    },
    {
      "cell_type": "code",
      "source": [
        "from pyspark.sql.functions import lit,current_timestamp\n",
        "\n",
        "employeesdf = employeesdf.withColumn(\"percentage_increase\",lit(10)) \\\n",
        "                    .withColumn(\"current_time\", current_timestamp())\n",
        "employeesdf.show(truncate=False)\n",
        "employeesdf.printSchema()"
      ],
      "metadata": {
        "colab": {
          "base_uri": "https://localhost:8080/"
        },
        "id": "NoodG9YMfK-e",
        "outputId": "3ab1bf16-561d-47ae-ae2f-0d89e5538519"
      },
      "execution_count": 6,
      "outputs": [
        {
          "output_type": "stream",
          "name": "stdout",
          "text": [
            "+----------+---+-----------+------+-------------------+-------------------------+\n",
            "|first_name|age|deptartment|salary|percentage_increase|current_time             |\n",
            "+----------+---+-----------+------+-------------------+-------------------------+\n",
            "|Bob       |42 |IT         |2000  |10                 |2024-10-11 17:05:34.57484|\n",
            "|Lisa      |59 |Finance    |3000  |10                 |2024-10-11 17:05:34.57484|\n",
            "|Diane     |20 |IT         |5000  |10                 |2024-10-11 17:05:34.57484|\n",
            "|Janet     |60 |Finance    |7000  |10                 |2024-10-11 17:05:34.57484|\n",
            "|Calvin    |26 |IT         |4000  |10                 |2024-10-11 17:05:34.57484|\n",
            "|Elena     |24 |Finance    |6000  |10                 |2024-10-11 17:05:34.57484|\n",
            "|Bill      |50 |IT         |1000  |10                 |2024-10-11 17:05:34.57484|\n",
            "|Dawn      |33 |Finance    |8000  |10                 |2024-10-11 17:05:34.57484|\n",
            "+----------+---+-----------+------+-------------------+-------------------------+\n",
            "\n",
            "root\n",
            " |-- first_name: string (nullable = true)\n",
            " |-- age: long (nullable = true)\n",
            " |-- deptartment: string (nullable = true)\n",
            " |-- salary: long (nullable = true)\n",
            " |-- percentage_increase: integer (nullable = false)\n",
            " |-- current_time: timestamp (nullable = false)\n",
            "\n"
          ]
        }
      ]
    },
    {
      "cell_type": "code",
      "source": [
        "employeesdf = employeesdf.withColumn(\"percentage_increase\",lit(10))\n",
        "employeesdf = employeesdf.withColumn(\"current_time\", current_timestamp())\n",
        "employeesdf.show(truncate=False)\n",
        "employeesdf.printSchema()"
      ],
      "metadata": {
        "colab": {
          "base_uri": "https://localhost:8080/"
        },
        "id": "pqL66cXrivN5",
        "outputId": "45f2d664-fe18-4cea-8887-727a6d703bfc"
      },
      "execution_count": 8,
      "outputs": [
        {
          "output_type": "stream",
          "name": "stdout",
          "text": [
            "+----------+---+-----------+------+-------------------+--------------------------+\n",
            "|first_name|age|deptartment|salary|percentage_increase|current_time              |\n",
            "+----------+---+-----------+------+-------------------+--------------------------+\n",
            "|Bob       |42 |IT         |2000  |10                 |2024-10-11 17:07:56.120994|\n",
            "|Lisa      |59 |Finance    |3000  |10                 |2024-10-11 17:07:56.120994|\n",
            "|Diane     |20 |IT         |5000  |10                 |2024-10-11 17:07:56.120994|\n",
            "|Janet     |60 |Finance    |7000  |10                 |2024-10-11 17:07:56.120994|\n",
            "|Calvin    |26 |IT         |4000  |10                 |2024-10-11 17:07:56.120994|\n",
            "|Elena     |24 |Finance    |6000  |10                 |2024-10-11 17:07:56.120994|\n",
            "|Bill      |50 |IT         |1000  |10                 |2024-10-11 17:07:56.120994|\n",
            "|Dawn      |33 |Finance    |8000  |10                 |2024-10-11 17:07:56.120994|\n",
            "+----------+---+-----------+------+-------------------+--------------------------+\n",
            "\n",
            "root\n",
            " |-- first_name: string (nullable = true)\n",
            " |-- age: long (nullable = true)\n",
            " |-- deptartment: string (nullable = true)\n",
            " |-- salary: long (nullable = true)\n",
            " |-- percentage_increase: integer (nullable = false)\n",
            " |-- current_time: timestamp (nullable = false)\n",
            "\n"
          ]
        }
      ]
    },
    {
      "cell_type": "code",
      "source": [
        "from pyspark.sql.functions import col\n",
        "employeesdf = employeesdf.withColumn(\"salary\", col(\"salary\") + (col(\"salary\")* (col(\"percentage_increase\") * 0.01)))\n",
        "employeesdf.show(truncate=False)\n",
        "employeesdf.printSchema()"
      ],
      "metadata": {
        "colab": {
          "base_uri": "https://localhost:8080/"
        },
        "id": "Flb6lO-fjJHW",
        "outputId": "e4374552-cfe2-43b1-bb8f-6c096141b7ab"
      },
      "execution_count": 9,
      "outputs": [
        {
          "output_type": "stream",
          "name": "stdout",
          "text": [
            "+----------+---+-----------+------+-------------------+--------------------------+\n",
            "|first_name|age|deptartment|salary|percentage_increase|current_time              |\n",
            "+----------+---+-----------+------+-------------------+--------------------------+\n",
            "|Bob       |42 |IT         |2200.0|10                 |2024-10-11 17:09:26.932728|\n",
            "|Lisa      |59 |Finance    |3300.0|10                 |2024-10-11 17:09:26.932728|\n",
            "|Diane     |20 |IT         |5500.0|10                 |2024-10-11 17:09:26.932728|\n",
            "|Janet     |60 |Finance    |7700.0|10                 |2024-10-11 17:09:26.932728|\n",
            "|Calvin    |26 |IT         |4400.0|10                 |2024-10-11 17:09:26.932728|\n",
            "|Elena     |24 |Finance    |6600.0|10                 |2024-10-11 17:09:26.932728|\n",
            "|Bill      |50 |IT         |1100.0|10                 |2024-10-11 17:09:26.932728|\n",
            "|Dawn      |33 |Finance    |8800.0|10                 |2024-10-11 17:09:26.932728|\n",
            "+----------+---+-----------+------+-------------------+--------------------------+\n",
            "\n",
            "root\n",
            " |-- first_name: string (nullable = true)\n",
            " |-- age: long (nullable = true)\n",
            " |-- deptartment: string (nullable = true)\n",
            " |-- salary: double (nullable = true)\n",
            " |-- percentage_increase: integer (nullable = false)\n",
            " |-- current_time: timestamp (nullable = false)\n",
            "\n"
          ]
        }
      ]
    },
    {
      "cell_type": "code",
      "source": [
        "employeesdf = employeesdf.withColumn(\"salary\", col(\"salary\").cast(\"Integer\"))\n",
        "employeesdf.show(truncate=False)\n",
        "employeesdf.printSchema()"
      ],
      "metadata": {
        "colab": {
          "base_uri": "https://localhost:8080/"
        },
        "id": "zBvFY64cjn8B",
        "outputId": "ca5dc931-2165-4fa3-ffe6-49369f0e18b8"
      },
      "execution_count": 11,
      "outputs": [
        {
          "output_type": "stream",
          "name": "stdout",
          "text": [
            "+----------+---+-----------+------+-------------------+--------------------------+\n",
            "|first_name|age|deptartment|salary|percentage_increase|current_time              |\n",
            "+----------+---+-----------+------+-------------------+--------------------------+\n",
            "|Bob       |42 |IT         |2200  |10                 |2024-10-11 17:11:09.651451|\n",
            "|Lisa      |59 |Finance    |3300  |10                 |2024-10-11 17:11:09.651451|\n",
            "|Diane     |20 |IT         |5500  |10                 |2024-10-11 17:11:09.651451|\n",
            "|Janet     |60 |Finance    |7700  |10                 |2024-10-11 17:11:09.651451|\n",
            "|Calvin    |26 |IT         |4400  |10                 |2024-10-11 17:11:09.651451|\n",
            "|Elena     |24 |Finance    |6600  |10                 |2024-10-11 17:11:09.651451|\n",
            "|Bill      |50 |IT         |1100  |10                 |2024-10-11 17:11:09.651451|\n",
            "|Dawn      |33 |Finance    |8800  |10                 |2024-10-11 17:11:09.651451|\n",
            "+----------+---+-----------+------+-------------------+--------------------------+\n",
            "\n",
            "root\n",
            " |-- first_name: string (nullable = true)\n",
            " |-- age: long (nullable = true)\n",
            " |-- deptartment: string (nullable = true)\n",
            " |-- salary: integer (nullable = true)\n",
            " |-- percentage_increase: integer (nullable = false)\n",
            " |-- current_time: timestamp (nullable = false)\n",
            "\n"
          ]
        }
      ]
    },
    {
      "cell_type": "code",
      "source": [
        "from pyspark.sql.functions import when\n",
        "employeesdf = employeesdf.withColumn('deptartment', when(employeesdf['deptartment'] == \"IT\",\n",
        "                 \"Information Technology\").otherwise(employeesdf['deptartment']))\n",
        "employeesdf.show(truncate=False)"
      ],
      "metadata": {
        "colab": {
          "base_uri": "https://localhost:8080/"
        },
        "id": "iOtzXu0Hj8u9",
        "outputId": "ff0261c7-d42c-492f-f315-53a48f387e6d"
      },
      "execution_count": 14,
      "outputs": [
        {
          "output_type": "stream",
          "name": "stdout",
          "text": [
            "+----------+---+----------------------+------+-------------------+--------------------------+\n",
            "|first_name|age|deptartment           |salary|percentage_increase|current_time              |\n",
            "+----------+---+----------------------+------+-------------------+--------------------------+\n",
            "|Bob       |42 |Information Technology|2200  |10                 |2024-10-11 17:14:22.785647|\n",
            "|Lisa      |59 |Finance               |3300  |10                 |2024-10-11 17:14:22.785647|\n",
            "|Diane     |20 |Information Technology|5500  |10                 |2024-10-11 17:14:22.785647|\n",
            "|Janet     |60 |Finance               |7700  |10                 |2024-10-11 17:14:22.785647|\n",
            "|Calvin    |26 |Information Technology|4400  |10                 |2024-10-11 17:14:22.785647|\n",
            "|Elena     |24 |Finance               |6600  |10                 |2024-10-11 17:14:22.785647|\n",
            "|Bill      |50 |Information Technology|1100  |10                 |2024-10-11 17:14:22.785647|\n",
            "|Dawn      |33 |Finance               |8800  |10                 |2024-10-11 17:14:22.785647|\n",
            "+----------+---+----------------------+------+-------------------+--------------------------+\n",
            "\n"
          ]
        }
      ]
    },
    {
      "cell_type": "code",
      "source": [
        "employeesdf = employeesdf.withColumnRenamed(\"percentage_increase\",\"bonus_percentage\")\n",
        "\n",
        "employeesdf.show(truncate=False)"
      ],
      "metadata": {
        "colab": {
          "base_uri": "https://localhost:8080/"
        },
        "id": "sVFk9h0BkcJG",
        "outputId": "b05dd598-c94f-48a1-db44-04722ca6b7d4"
      },
      "execution_count": 15,
      "outputs": [
        {
          "output_type": "stream",
          "name": "stdout",
          "text": [
            "+----------+---+----------------------+------+----------------+--------------------------+\n",
            "|first_name|age|deptartment           |salary|bonus_percentage|current_time              |\n",
            "+----------+---+----------------------+------+----------------+--------------------------+\n",
            "|Bob       |42 |Information Technology|2200  |10              |2024-10-11 17:15:18.528571|\n",
            "|Lisa      |59 |Finance               |3300  |10              |2024-10-11 17:15:18.528571|\n",
            "|Diane     |20 |Information Technology|5500  |10              |2024-10-11 17:15:18.528571|\n",
            "|Janet     |60 |Finance               |7700  |10              |2024-10-11 17:15:18.528571|\n",
            "|Calvin    |26 |Information Technology|4400  |10              |2024-10-11 17:15:18.528571|\n",
            "|Elena     |24 |Finance               |6600  |10              |2024-10-11 17:15:18.528571|\n",
            "|Bill      |50 |Information Technology|1100  |10              |2024-10-11 17:15:18.528571|\n",
            "|Dawn      |33 |Finance               |8800  |10              |2024-10-11 17:15:18.528571|\n",
            "+----------+---+----------------------+------+----------------+--------------------------+\n",
            "\n"
          ]
        }
      ]
    }
  ]
}