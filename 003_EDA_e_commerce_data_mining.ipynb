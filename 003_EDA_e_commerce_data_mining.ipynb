{
  "nbformat": 4,
  "nbformat_minor": 0,
  "metadata": {
    "colab": {
      "provenance": []
    },
    "kernelspec": {
      "name": "python3",
      "display_name": "Python 3"
    },
    "language_info": {
      "name": "python"
    }
  },
  "cells": [
    {
      "cell_type": "markdown",
      "source": [
        "# e-commerce Dataset\n",
        "\n",
        "https://www.kaggle.com/datasets/carrie1/ecommerce-data"
      ],
      "metadata": {
        "id": "i2kZnr9A72Bf"
      }
    },
    {
      "cell_type": "markdown",
      "source": [
        "#EDA"
      ],
      "metadata": {
        "id": "Uy2vM-dK8eZF"
      }
    },
    {
      "cell_type": "code",
      "source": [
        "pip install pyspark"
      ],
      "metadata": {
        "colab": {
          "base_uri": "https://localhost:8080/"
        },
        "collapsed": true,
        "id": "iqwehmaP_BwC",
        "outputId": "4f7dcd25-6b1d-45c5-acc4-67b5a78eb83f"
      },
      "execution_count": 1,
      "outputs": [
        {
          "output_type": "stream",
          "name": "stdout",
          "text": [
            "Collecting pyspark\n",
            "  Downloading pyspark-3.5.3.tar.gz (317.3 MB)\n",
            "\u001b[2K     \u001b[90m━━━━━━━━━━━━━━━━━━━━━━━━━━━━━━━━━━━━━━━━\u001b[0m \u001b[32m317.3/317.3 MB\u001b[0m \u001b[31m5.6 MB/s\u001b[0m eta \u001b[36m0:00:00\u001b[0m\n",
            "\u001b[?25h  Preparing metadata (setup.py) ... \u001b[?25l\u001b[?25hdone\n",
            "Requirement already satisfied: py4j==0.10.9.7 in /usr/local/lib/python3.10/dist-packages (from pyspark) (0.10.9.7)\n",
            "Building wheels for collected packages: pyspark\n",
            "  Building wheel for pyspark (setup.py) ... \u001b[?25l\u001b[?25hdone\n",
            "  Created wheel for pyspark: filename=pyspark-3.5.3-py2.py3-none-any.whl size=317840625 sha256=cea31fa2494f7150ed7914df53c24cb3ed676d4d4da2ffef8b94727bb27511fc\n",
            "  Stored in directory: /root/.cache/pip/wheels/1b/3a/92/28b93e2fbfdbb07509ca4d6f50c5e407f48dce4ddbda69a4ab\n",
            "Successfully built pyspark\n",
            "Installing collected packages: pyspark\n",
            "Successfully installed pyspark-3.5.3\n"
          ]
        }
      ]
    },
    {
      "cell_type": "code",
      "source": [
        "from pyspark.sql import SparkSession, Row\n",
        "from pyspark.sql.types import (\n",
        "    StructType, StructField, StringType, IntegerType,\n",
        "    ArrayType, MapType, DateType, TimestampType\n",
        ")\n",
        "from pyspark.sql.functions import (\n",
        "    col, size, lit, explode,\n",
        "    concat, concat_ws, substring,\n",
        "    datediff, date_add, date_sub,\n",
        "    year, month, dayofmonth, dayofweek, dayofyear, weekofyear,\n",
        "    hour, minute, second,\n",
        "    count, min, max, avg, sum, udf, when,\n",
        "    to_timestamp\n",
        ")\n",
        "from datetime import datetime"
      ],
      "metadata": {
        "id": "DCTLLB6P8gzA"
      },
      "execution_count": 31,
      "outputs": []
    },
    {
      "cell_type": "code",
      "source": [
        "spark = SparkSession.builder.appName(\"Ecommerce\").getOrCreate()"
      ],
      "metadata": {
        "id": "LSf5FmDwAR7G"
      },
      "execution_count": 32,
      "outputs": []
    },
    {
      "cell_type": "code",
      "source": [
        "df = spark.read.csv(\"/content/data.csv\", header=True, inferSchema=True)"
      ],
      "metadata": {
        "id": "q6KOAZDhAiAD"
      },
      "execution_count": 4,
      "outputs": []
    },
    {
      "cell_type": "code",
      "source": [
        "df.show(10, truncate=False)"
      ],
      "metadata": {
        "colab": {
          "base_uri": "https://localhost:8080/"
        },
        "id": "dZ3ZdkRGA5I4",
        "outputId": "c8e42ac4-13b2-4e73-807d-82c44dbcfeb3"
      },
      "execution_count": 8,
      "outputs": [
        {
          "output_type": "stream",
          "name": "stdout",
          "text": [
            "+---------+---------+-----------------------------------+--------+--------------+---------+----------+--------------+\n",
            "|InvoiceNo|StockCode|Description                        |Quantity|InvoiceDate   |UnitPrice|CustomerID|Country       |\n",
            "+---------+---------+-----------------------------------+--------+--------------+---------+----------+--------------+\n",
            "|536365   |85123A   |WHITE HANGING HEART T-LIGHT HOLDER |6       |12/1/2010 8:26|2.55     |17850     |United Kingdom|\n",
            "|536365   |71053    |WHITE METAL LANTERN                |6       |12/1/2010 8:26|3.39     |17850     |United Kingdom|\n",
            "|536365   |84406B   |CREAM CUPID HEARTS COAT HANGER     |8       |12/1/2010 8:26|2.75     |17850     |United Kingdom|\n",
            "|536365   |84029G   |KNITTED UNION FLAG HOT WATER BOTTLE|6       |12/1/2010 8:26|3.39     |17850     |United Kingdom|\n",
            "|536365   |84029E   |RED WOOLLY HOTTIE WHITE HEART.     |6       |12/1/2010 8:26|3.39     |17850     |United Kingdom|\n",
            "|536365   |22752    |SET 7 BABUSHKA NESTING BOXES       |2       |12/1/2010 8:26|7.65     |17850     |United Kingdom|\n",
            "|536365   |21730    |GLASS STAR FROSTED T-LIGHT HOLDER  |6       |12/1/2010 8:26|4.25     |17850     |United Kingdom|\n",
            "|536366   |22633    |HAND WARMER UNION JACK             |6       |12/1/2010 8:28|1.85     |17850     |United Kingdom|\n",
            "|536366   |22632    |HAND WARMER RED POLKA DOT          |6       |12/1/2010 8:28|1.85     |17850     |United Kingdom|\n",
            "|536367   |84879    |ASSORTED COLOUR BIRD ORNAMENT      |32      |12/1/2010 8:34|1.69     |13047     |United Kingdom|\n",
            "+---------+---------+-----------------------------------+--------+--------------+---------+----------+--------------+\n",
            "only showing top 10 rows\n",
            "\n"
          ]
        }
      ]
    },
    {
      "cell_type": "code",
      "source": [
        "df.printSchema()"
      ],
      "metadata": {
        "colab": {
          "base_uri": "https://localhost:8080/"
        },
        "id": "IPb6rJWoBapY",
        "outputId": "cce50612-8a75-49f5-affa-6ed8bf635769"
      },
      "execution_count": 7,
      "outputs": [
        {
          "output_type": "stream",
          "name": "stdout",
          "text": [
            "root\n",
            " |-- InvoiceNo: string (nullable = true)\n",
            " |-- StockCode: string (nullable = true)\n",
            " |-- Description: string (nullable = true)\n",
            " |-- Quantity: integer (nullable = true)\n",
            " |-- InvoiceDate: string (nullable = true)\n",
            " |-- UnitPrice: double (nullable = true)\n",
            " |-- CustomerID: integer (nullable = true)\n",
            " |-- Country: string (nullable = true)\n",
            "\n"
          ]
        }
      ]
    },
    {
      "cell_type": "code",
      "source": [
        "print(f\"Ilość wierszy: {df.count()}\")"
      ],
      "metadata": {
        "colab": {
          "base_uri": "https://localhost:8080/"
        },
        "id": "mrns-mBBGR2Q",
        "outputId": "9a145070-889f-43bc-8a47-620480c51fb0"
      },
      "execution_count": 9,
      "outputs": [
        {
          "output_type": "stream",
          "name": "stdout",
          "text": [
            "Ilość wierszy: 541909\n"
          ]
        }
      ]
    },
    {
      "cell_type": "code",
      "source": [
        "df.describe().show()"
      ],
      "metadata": {
        "colab": {
          "base_uri": "https://localhost:8080/"
        },
        "id": "BAn0MuRpG01k",
        "outputId": "21d5270a-d8fc-4be3-c55b-2dca074de14f"
      },
      "execution_count": 11,
      "outputs": [
        {
          "output_type": "stream",
          "name": "stdout",
          "text": [
            "+-------+------------------+------------------+--------------------+------------------+---------------+-----------------+------------------+-----------+\n",
            "|summary|         InvoiceNo|         StockCode|         Description|          Quantity|    InvoiceDate|        UnitPrice|        CustomerID|    Country|\n",
            "+-------+------------------+------------------+--------------------+------------------+---------------+-----------------+------------------+-----------+\n",
            "|  count|            541909|            541909|              540455|            541909|         541909|           541909|            406829|     541909|\n",
            "|   mean|  559965.752026781|27623.240210938104|             20713.0|  9.55224954743324|           NULL|4.611113626082972|15287.690570239585|       NULL|\n",
            "| stddev|13428.417280800133| 16799.73762842775|                NULL|218.08115785023486|           NULL| 96.7598530611797| 1713.600303321594|       NULL|\n",
            "|    min|            536365|             10002| 4 PURPLE FLOCK D...|            -80995|1/10/2011 10:04|        -11062.06|             12346|  Australia|\n",
            "|    max|           C581569|                 m|   wrongly sold sets|             80995|  9/9/2011 9:52|          38970.0|             18287|Unspecified|\n",
            "+-------+------------------+------------------+--------------------+------------------+---------------+-----------------+------------------+-----------+\n",
            "\n"
          ]
        }
      ]
    },
    {
      "cell_type": "code",
      "source": [
        "# Sprawdza brakujące wartości (null lub NaN) w każdej kolumnie.\n",
        "\n",
        "df.select([count(when(col(c).isNull() | isnan(c), c)).alias(c) for c in df.columns]).show()"
      ],
      "metadata": {
        "colab": {
          "base_uri": "https://localhost:8080/"
        },
        "id": "uG4F7biDIz7Y",
        "outputId": "a0794fd5-301e-4970-bc53-591f32ca61ab"
      },
      "execution_count": 12,
      "outputs": [
        {
          "output_type": "stream",
          "name": "stdout",
          "text": [
            "+---------+---------+-----------+--------+-----------+---------+----------+-------+\n",
            "|InvoiceNo|StockCode|Description|Quantity|InvoiceDate|UnitPrice|CustomerID|Country|\n",
            "+---------+---------+-----------+--------+-----------+---------+----------+-------+\n",
            "|        0|        0|       1454|       0|          0|        0|    135080|      0|\n",
            "+---------+---------+-----------+--------+-----------+---------+----------+-------+\n",
            "\n"
          ]
        }
      ]
    },
    {
      "cell_type": "code",
      "source": [
        "df.columns"
      ],
      "metadata": {
        "colab": {
          "base_uri": "https://localhost:8080/"
        },
        "id": "MUcgken0JvlV",
        "outputId": "ab2eaafd-92af-4ada-d543-73b1b00fdf88"
      },
      "execution_count": 14,
      "outputs": [
        {
          "output_type": "execute_result",
          "data": {
            "text/plain": [
              "['InvoiceNo',\n",
              " 'StockCode',\n",
              " 'Description',\n",
              " 'Quantity',\n",
              " 'InvoiceDate',\n",
              " 'UnitPrice',\n",
              " 'CustomerID',\n",
              " 'Country']"
            ]
          },
          "metadata": {},
          "execution_count": 14
        }
      ]
    },
    {
      "cell_type": "code",
      "source": [
        "df = df.withColumn(\"TotalPrice\", col(\"Quantity\") * col(\"UnitPrice\"))"
      ],
      "metadata": {
        "id": "sWzBlvQwLvkp"
      },
      "execution_count": 15,
      "outputs": []
    },
    {
      "cell_type": "code",
      "source": [
        "df.groupBy(\"Country\").sum(\"TotalPrice\").orderBy(\"sum(TotalPrice)\", ascending=False).show(5)"
      ],
      "metadata": {
        "colab": {
          "base_uri": "https://localhost:8080/"
        },
        "id": "WB5KxVMuL_xW",
        "outputId": "5138c3d5-a569-49b2-d264-ecf71cd15626"
      },
      "execution_count": 17,
      "outputs": [
        {
          "output_type": "stream",
          "name": "stdout",
          "text": [
            "+--------------+------------------+\n",
            "|       Country|   sum(TotalPrice)|\n",
            "+--------------+------------------+\n",
            "|United Kingdom| 8187806.363998687|\n",
            "|   Netherlands| 284661.5399999992|\n",
            "|          EIRE| 263276.8199999992|\n",
            "|       Germany|221698.21000000037|\n",
            "|        France|197403.90000000037|\n",
            "+--------------+------------------+\n",
            "only showing top 5 rows\n",
            "\n"
          ]
        }
      ]
    },
    {
      "cell_type": "code",
      "source": [
        "df.groupBy(\"InvoiceDate\").count().orderBy((\"InvoiceDate\"), ascending=True).show(5)"
      ],
      "metadata": {
        "colab": {
          "base_uri": "https://localhost:8080/"
        },
        "id": "Ec-Cwh4WMh1W",
        "outputId": "766c1339-f047-4cb7-eb42-ed9858207d88"
      },
      "execution_count": 20,
      "outputs": [
        {
          "output_type": "stream",
          "name": "stdout",
          "text": [
            "+---------------+-----+\n",
            "|    InvoiceDate|count|\n",
            "+---------------+-----+\n",
            "|1/10/2011 10:04|    1|\n",
            "|1/10/2011 10:07|    1|\n",
            "|1/10/2011 10:08|    1|\n",
            "|1/10/2011 10:32|   23|\n",
            "|1/10/2011 10:35|   17|\n",
            "+---------------+-----+\n",
            "only showing top 5 rows\n",
            "\n"
          ]
        }
      ]
    },
    {
      "cell_type": "code",
      "source": [
        "df.groupBy(\"InvoiceDate\").count().orderBy((\"InvoiceDate\"), ascending=False).show(5)"
      ],
      "metadata": {
        "colab": {
          "base_uri": "https://localhost:8080/"
        },
        "id": "8Mp6_DbBNq1z",
        "outputId": "554012a8-2d87-44d2-c975-e407e0078332"
      },
      "execution_count": 21,
      "outputs": [
        {
          "output_type": "stream",
          "name": "stdout",
          "text": [
            "+-------------+-----+\n",
            "|  InvoiceDate|count|\n",
            "+-------------+-----+\n",
            "|9/9/2011 9:52|   37|\n",
            "|9/9/2011 9:38|   14|\n",
            "|9/9/2011 9:13|   45|\n",
            "|9/9/2011 9:03|   14|\n",
            "|9/9/2011 8:48|   16|\n",
            "+-------------+-----+\n",
            "only showing top 5 rows\n",
            "\n"
          ]
        }
      ]
    },
    {
      "cell_type": "code",
      "execution_count": null,
      "metadata": {
        "id": "yrO7udx_7aiW"
      },
      "outputs": [],
      "source": [
        "# spark.stop()"
      ]
    },
    {
      "cell_type": "markdown",
      "source": [
        "#Sales Value Analysis"
      ],
      "metadata": {
        "id": "fvGuB03UOG7n"
      }
    },
    {
      "cell_type": "code",
      "source": [
        "# Całkowita wartość sprzedaży per produkt\n",
        "df.groupBy(\"Description\").sum(\"TotalPrice\").orderBy(\"sum(TotalPrice)\", ascending=False).show(10, truncate=False)"
      ],
      "metadata": {
        "colab": {
          "base_uri": "https://localhost:8080/"
        },
        "id": "5tn_l9O3OHl4",
        "outputId": "c9b92e16-a02d-4fc1-f3da-a15a24cb90a9"
      },
      "execution_count": 23,
      "outputs": [
        {
          "output_type": "stream",
          "name": "stdout",
          "text": [
            "+----------------------------------+------------------+\n",
            "|Description                       |sum(TotalPrice)   |\n",
            "+----------------------------------+------------------+\n",
            "|DOTCOM POSTAGE                    |206245.48000000007|\n",
            "|REGENCY CAKESTAND 3 TIER          |164762.1899999997 |\n",
            "|WHITE HANGING HEART T-LIGHT HOLDER|99668.4699999996  |\n",
            "|PARTY BUNTING                     |98302.98000000023 |\n",
            "|JUMBO BAG RED RETROSPOT           |92356.03000000058 |\n",
            "|RABBIT NIGHT LIGHT                |66756.59000000019 |\n",
            "|POSTAGE                           |66230.64          |\n",
            "|PAPER CHAIN KIT 50'S CHRISTMAS    |63791.939999999944|\n",
            "|ASSORTED COLOUR BIRD ORNAMENT     |58959.73000000042 |\n",
            "|CHILLI LIGHTS                     |53768.05999999991 |\n",
            "+----------------------------------+------------------+\n",
            "only showing top 10 rows\n",
            "\n"
          ]
        }
      ]
    },
    {
      "cell_type": "code",
      "source": [
        "# Całkowita sprzedaż per kraj\n",
        "df.groupBy(\"Country\").sum(\"TotalPrice\").orderBy(\"sum(TotalPrice)\", ascending=False).show(10, truncate=False)"
      ],
      "metadata": {
        "colab": {
          "base_uri": "https://localhost:8080/"
        },
        "id": "GBE7DOcqRBIg",
        "outputId": "15b8a63a-4d51-4c3a-eb09-a4e9491359ff"
      },
      "execution_count": 24,
      "outputs": [
        {
          "output_type": "stream",
          "name": "stdout",
          "text": [
            "+--------------+------------------+\n",
            "|Country       |sum(TotalPrice)   |\n",
            "+--------------+------------------+\n",
            "|United Kingdom|8187806.363998687 |\n",
            "|Netherlands   |284661.5399999992 |\n",
            "|EIRE          |263276.8199999992 |\n",
            "|Germany       |221698.21000000037|\n",
            "|France        |197403.90000000037|\n",
            "|Australia     |137077.26999999987|\n",
            "|Switzerland   |56385.35000000011 |\n",
            "|Spain         |54774.58000000016 |\n",
            "|Belgium       |40910.960000000014|\n",
            "|Sweden        |36595.90999999998 |\n",
            "+--------------+------------------+\n",
            "only showing top 10 rows\n",
            "\n"
          ]
        }
      ]
    },
    {
      "cell_type": "code",
      "source": [
        "df.groupBy(\"CustomerID\").sum(\"TotalPrice\").orderBy(\"sum(TotalPrice)\", ascending=False).show(10)"
      ],
      "metadata": {
        "colab": {
          "base_uri": "https://localhost:8080/"
        },
        "id": "Q0ApcXs_YlqW",
        "outputId": "ebb39678-c62a-4f2a-9126-0026098c31c0"
      },
      "execution_count": 25,
      "outputs": [
        {
          "output_type": "stream",
          "name": "stdout",
          "text": [
            "+----------+------------------+\n",
            "|CustomerID|   sum(TotalPrice)|\n",
            "+----------+------------------+\n",
            "|      NULL|  1447682.12000015|\n",
            "|     14646|279489.01999999944|\n",
            "|     18102|256438.48999999993|\n",
            "|     17450|187482.16999999998|\n",
            "|     14911|132572.61999999988|\n",
            "|     12415| 123725.4499999999|\n",
            "|     14156|113384.13999999998|\n",
            "|     17511| 88125.37999999992|\n",
            "|     16684| 65892.07999999999|\n",
            "|     13694|62653.100000000006|\n",
            "+----------+------------------+\n",
            "only showing top 10 rows\n",
            "\n"
          ]
        }
      ]
    },
    {
      "cell_type": "markdown",
      "source": [
        "# Analysis of purchasing behavior"
      ],
      "metadata": {
        "id": "QQivIGuGY6-C"
      }
    },
    {
      "cell_type": "code",
      "source": [
        "# Konwersja InvoiceDate na typ Timestamp\n",
        "df = df.withColumn(\"InvoiceDate\", to_timestamp(col(\"InvoiceDate\"), \"M/d/yyyy H:mm\"))"
      ],
      "metadata": {
        "id": "aZWMiFlfabf8"
      },
      "execution_count": 33,
      "outputs": []
    },
    {
      "cell_type": "code",
      "source": [
        "# Ilość transakcji w każdym miesiącu (analiza sezonowości)\n",
        "df.groupBy(month(\"InvoiceDate\").alias(\"Month\")).count().orderBy(\"Month\").show()"
      ],
      "metadata": {
        "colab": {
          "base_uri": "https://localhost:8080/"
        },
        "id": "9khmoeU6Yxcm",
        "outputId": "a40992db-2495-4abf-e19e-858764ae5e03"
      },
      "execution_count": 38,
      "outputs": [
        {
          "output_type": "stream",
          "name": "stdout",
          "text": [
            "+-----+-----+\n",
            "|Month|count|\n",
            "+-----+-----+\n",
            "|    1|35147|\n",
            "|    2|27707|\n",
            "|    3|36748|\n",
            "|    4|29916|\n",
            "|    5|37030|\n",
            "|    6|36874|\n",
            "|    7|39518|\n",
            "|    8|35284|\n",
            "|    9|50226|\n",
            "|   10|60742|\n",
            "|   11|84711|\n",
            "|   12|68006|\n",
            "+-----+-----+\n",
            "\n"
          ]
        }
      ]
    },
    {
      "cell_type": "code",
      "source": [
        "# Grupowanie po roku i miesiącu, liczenie transakcji\n",
        "df.groupBy(year(\"InvoiceDate\").alias(\"Year\"), month(\"InvoiceDate\").alias(\"Month\")) \\\n",
        "  .count() \\\n",
        "  .orderBy(\"Year\", \"Month\") \\\n",
        "  .show()"
      ],
      "metadata": {
        "colab": {
          "base_uri": "https://localhost:8080/"
        },
        "id": "0xkrqKCmcdk7",
        "outputId": "f60c6898-ffda-43b0-c772-273a3d1b8ea4"
      },
      "execution_count": 41,
      "outputs": [
        {
          "output_type": "stream",
          "name": "stdout",
          "text": [
            "+----+-----+-----+\n",
            "|Year|Month|count|\n",
            "+----+-----+-----+\n",
            "|2010|   12|42481|\n",
            "|2011|    1|35147|\n",
            "|2011|    2|27707|\n",
            "|2011|    3|36748|\n",
            "|2011|    4|29916|\n",
            "|2011|    5|37030|\n",
            "|2011|    6|36874|\n",
            "|2011|    7|39518|\n",
            "|2011|    8|35284|\n",
            "|2011|    9|50226|\n",
            "|2011|   10|60742|\n",
            "|2011|   11|84711|\n",
            "|2011|   12|25525|\n",
            "+----+-----+-----+\n",
            "\n"
          ]
        }
      ]
    },
    {
      "cell_type": "code",
      "source": [
        "df.groupBy(dayofweek(\"InvoiceDate\").alias(\"DayOfWeek\")).count().orderBy(\"DayOfWeek\").show()"
      ],
      "metadata": {
        "colab": {
          "base_uri": "https://localhost:8080/"
        },
        "id": "-F6KlBbmZQyU",
        "outputId": "52a2bcc9-dbd7-4981-ed95-627f0ebe25fc"
      },
      "execution_count": 39,
      "outputs": [
        {
          "output_type": "stream",
          "name": "stdout",
          "text": [
            "+---------+------+\n",
            "|DayOfWeek| count|\n",
            "+---------+------+\n",
            "|        1| 64375|\n",
            "|        2| 95111|\n",
            "|        3|101808|\n",
            "|        4| 94565|\n",
            "|        5|103857|\n",
            "|        6| 82193|\n",
            "+---------+------+\n",
            "\n"
          ]
        }
      ]
    },
    {
      "cell_type": "code",
      "source": [
        "df.groupBy(hour(\"InvoiceDate\").alias(\"Hour\")).count().orderBy(\"Hour\").show()"
      ],
      "metadata": {
        "colab": {
          "base_uri": "https://localhost:8080/"
        },
        "id": "4o4etP09bBTd",
        "outputId": "8a9cd486-4977-4401-8538-4bbc9c53921e"
      },
      "execution_count": 40,
      "outputs": [
        {
          "output_type": "stream",
          "name": "stdout",
          "text": [
            "+----+-----+\n",
            "|Hour|count|\n",
            "+----+-----+\n",
            "|   6|   41|\n",
            "|   7|  383|\n",
            "|   8| 8909|\n",
            "|   9|34332|\n",
            "|  10|49037|\n",
            "|  11|57674|\n",
            "|  12|78709|\n",
            "|  13|72259|\n",
            "|  14|67471|\n",
            "|  15|77519|\n",
            "|  16|54516|\n",
            "|  17|28509|\n",
            "|  18| 7974|\n",
            "|  19| 3705|\n",
            "|  20|  871|\n",
            "+----+-----+\n",
            "\n"
          ]
        }
      ]
    },
    {
      "cell_type": "markdown",
      "source": [
        "#Margin and Profitability Analysis"
      ],
      "metadata": {
        "id": "wMGyihnDcxpC"
      }
    },
    {
      "cell_type": "code",
      "source": [
        "# Przykład analizy rentowności (zakładając, że mamy kolumnę CostPrice)\n",
        "df = df.withColumn(\"Profit\", (col(\"UnitPrice\") - col(\"CostPrice\")) * col(\"Quantity\"))"
      ],
      "metadata": {
        "id": "iweVT1DHcxNW"
      },
      "execution_count": null,
      "outputs": []
    },
    {
      "cell_type": "code",
      "source": [
        "# Najbardziej rentowne produkty\n",
        "df.groupBy(\"Description\").sum(\"Profit\").orderBy(\"sum(Profit)\", ascending=False).show(10)"
      ],
      "metadata": {
        "id": "XZQPIYOXhhMu"
      },
      "execution_count": null,
      "outputs": []
    },
    {
      "cell_type": "markdown",
      "source": [
        "#Customer segmentation"
      ],
      "metadata": {
        "id": "tmhbQwozhueJ"
      }
    },
    {
      "cell_type": "code",
      "source": [
        "df.groupBy(\"CustomerID\").count().filter(col(\"count\") == 1).show()"
      ],
      "metadata": {
        "colab": {
          "base_uri": "https://localhost:8080/"
        },
        "id": "6j1yKiamhvOR",
        "outputId": "1b74cb69-8e7b-48bd-dc94-539a3e0b3036"
      },
      "execution_count": 42,
      "outputs": [
        {
          "output_type": "stream",
          "name": "stdout",
          "text": [
            "+----------+-----+\n",
            "|CustomerID|count|\n",
            "+----------+-----+\n",
            "|     15070|    1|\n",
            "|     12943|    1|\n",
            "|     16738|    1|\n",
            "|     18113|    1|\n",
            "|     16078|    1|\n",
            "|     17448|    1|\n",
            "|     16138|    1|\n",
            "|     17331|    1|\n",
            "|     16148|    1|\n",
            "|     14351|    1|\n",
            "|     17715|    1|\n",
            "|     16323|    1|\n",
            "|     18068|    1|\n",
            "|     13829|    1|\n",
            "|     17307|    1|\n",
            "|     15562|    1|\n",
            "|     16061|    1|\n",
            "|     13120|    1|\n",
            "|     15753|    1|\n",
            "|     13154|    1|\n",
            "+----------+-----+\n",
            "only showing top 20 rows\n",
            "\n"
          ]
        }
      ]
    },
    {
      "cell_type": "code",
      "source": [
        "df.groupBy(\"CustomerID\").count().filter(col(\"count\") == 1).show()"
      ],
      "metadata": {
        "colab": {
          "base_uri": "https://localhost:8080/"
        },
        "id": "u_Tuu9Quh9FF",
        "outputId": "f6119ea8-9eb9-4453-dec1-d7fb481be1de"
      },
      "execution_count": 46,
      "outputs": [
        {
          "output_type": "stream",
          "name": "stdout",
          "text": [
            "+----------+-----+\n",
            "|CustomerID|count|\n",
            "+----------+-----+\n",
            "|     15070|    1|\n",
            "|     12943|    1|\n",
            "|     16738|    1|\n",
            "|     18113|    1|\n",
            "|     16078|    1|\n",
            "|     17448|    1|\n",
            "|     16138|    1|\n",
            "|     17331|    1|\n",
            "|     16148|    1|\n",
            "|     14351|    1|\n",
            "|     17715|    1|\n",
            "|     16323|    1|\n",
            "|     18068|    1|\n",
            "|     13829|    1|\n",
            "|     17307|    1|\n",
            "|     15562|    1|\n",
            "|     16061|    1|\n",
            "|     13120|    1|\n",
            "|     15753|    1|\n",
            "|     13154|    1|\n",
            "+----------+-----+\n",
            "only showing top 20 rows\n",
            "\n"
          ]
        }
      ]
    },
    {
      "cell_type": "code",
      "source": [
        "df.groupBy(\"CustomerID\").count().filter(col(\"count\") == 1).count()"
      ],
      "metadata": {
        "colab": {
          "base_uri": "https://localhost:8080/"
        },
        "id": "2gBoHvwwiJyp",
        "outputId": "60652a34-af37-485e-f157-c52619116d0d"
      },
      "execution_count": 47,
      "outputs": [
        {
          "output_type": "execute_result",
          "data": {
            "text/plain": [
              "79"
            ]
          },
          "metadata": {},
          "execution_count": 47
        }
      ]
    },
    {
      "cell_type": "code",
      "source": [
        "df.groupBy(\"CustomerID\") \\\n",
        ".count() \\\n",
        ".filter(col(\"count\") > 1) \\\n",
        ".orderBy(\"count\", ascending=False).show()"
      ],
      "metadata": {
        "colab": {
          "base_uri": "https://localhost:8080/"
        },
        "id": "CrXEZznwif1x",
        "outputId": "4f4911f1-eebf-4fd7-ed10-2ab88af1693c"
      },
      "execution_count": 55,
      "outputs": [
        {
          "output_type": "stream",
          "name": "stdout",
          "text": [
            "+----------+------+\n",
            "|CustomerID| count|\n",
            "+----------+------+\n",
            "|      NULL|135080|\n",
            "|     17841|  7983|\n",
            "|     14911|  5903|\n",
            "|     14096|  5128|\n",
            "|     12748|  4642|\n",
            "|     14606|  2782|\n",
            "|     15311|  2491|\n",
            "|     14646|  2085|\n",
            "|     13089|  1857|\n",
            "|     13263|  1677|\n",
            "|     14298|  1640|\n",
            "|     15039|  1508|\n",
            "|     14156|  1420|\n",
            "|     18118|  1284|\n",
            "|     14159|  1212|\n",
            "|     14796|  1165|\n",
            "|     15005|  1160|\n",
            "|     16033|  1152|\n",
            "|     14056|  1128|\n",
            "|     14769|  1094|\n",
            "+----------+------+\n",
            "only showing top 20 rows\n",
            "\n"
          ]
        }
      ]
    },
    {
      "cell_type": "code",
      "source": [
        "premium_customers = df.groupBy(\"CustomerID\").agg(sum(\"TotalPrice\").alias(\"TotalSpent\"))\n",
        "premium_customers_filtered = premium_customers.filter(col(\"TotalSpent\") > 1000)\n",
        "premium_customers_filtered.orderBy(col(\"TotalSpent\"), ascending=False).show()"
      ],
      "metadata": {
        "colab": {
          "base_uri": "https://localhost:8080/"
        },
        "id": "787J4jv6iijt",
        "outputId": "03be35fa-d1cb-43bf-c40d-68a2ee3b6f98"
      },
      "execution_count": 61,
      "outputs": [
        {
          "output_type": "stream",
          "name": "stdout",
          "text": [
            "+----------+------------------+\n",
            "|CustomerID|        TotalSpent|\n",
            "+----------+------------------+\n",
            "|      NULL|  1447682.12000015|\n",
            "|     14646|279489.01999999944|\n",
            "|     18102|256438.48999999993|\n",
            "|     17450|187482.16999999998|\n",
            "|     14911|132572.61999999988|\n",
            "|     12415| 123725.4499999999|\n",
            "|     14156|113384.13999999998|\n",
            "|     17511| 88125.37999999992|\n",
            "|     16684| 65892.07999999999|\n",
            "|     13694|62653.100000000006|\n",
            "|     15311|59419.340000000084|\n",
            "|     13089| 57385.88000000011|\n",
            "|     14096| 57120.90999999968|\n",
            "|     15061|54228.740000000005|\n",
            "|     17949| 52750.84000000001|\n",
            "|     15769|          51823.72|\n",
            "|     16029| 50992.60999999996|\n",
            "|     14298| 50862.43999999991|\n",
            "|     14088|50415.489999999976|\n",
            "|     17841|40340.780000000246|\n",
            "+----------+------------------+\n",
            "only showing top 20 rows\n",
            "\n"
          ]
        }
      ]
    },
    {
      "cell_type": "markdown",
      "source": [
        "#Pandas"
      ],
      "metadata": {
        "id": "LT6GRwTtmXGg"
      }
    },
    {
      "cell_type": "code",
      "source": [
        "country_sales = df.groupBy(\"Country\").agg(sum(\"TotalPrice\").alias(\"TotalSpent\"))\n",
        "country_sales_ordered = country_sales.orderBy(col(\"TotalSpent\"), ascending=False)"
      ],
      "metadata": {
        "id": "lbwucBhnnrlQ"
      },
      "execution_count": 64,
      "outputs": []
    },
    {
      "cell_type": "code",
      "source": [
        "country_sales_pandas = country_sales_ordered.toPandas()\n",
        "\n",
        "print(country_sales_pandas.head())"
      ],
      "metadata": {
        "colab": {
          "base_uri": "https://localhost:8080/"
        },
        "id": "a-z8DjSdmQC3",
        "outputId": "867d35aa-bcbb-465b-9895-05b07a1b3e8a"
      },
      "execution_count": 65,
      "outputs": [
        {
          "output_type": "stream",
          "name": "stdout",
          "text": [
            "          Country    TotalSpent\n",
            "0  United Kingdom  8.187806e+06\n",
            "1     Netherlands  2.846615e+05\n",
            "2            EIRE  2.632768e+05\n",
            "3         Germany  2.216982e+05\n",
            "4          France  1.974039e+05\n"
          ]
        }
      ]
    },
    {
      "cell_type": "code",
      "source": [
        "import matplotlib.pyplot as plt\n",
        "import seaborn as sns\n",
        "\n",
        "plt.figure(figsize=(10, 6))\n",
        "sns.barplot(x='Country', y='TotalSpent', data=country_sales_pandas)\n",
        "plt.title('Suma wydatków na kraj', fontsize=16)\n",
        "plt.xlabel('Kraj', fontsize=14)\n",
        "plt.ylabel('Suma wydatków (TotalPrice)', fontsize=14)\n",
        "plt.xticks(rotation=90)\n",
        "plt.tight_layout()\n",
        "\n",
        "plt.show()"
      ],
      "metadata": {
        "colab": {
          "base_uri": "https://localhost:8080/",
          "height": 607
        },
        "id": "aLZL2BfRmnZ7",
        "outputId": "3ad23708-0f42-4d98-a88d-97f2e6ccdf7a"
      },
      "execution_count": 66,
      "outputs": [
        {
          "output_type": "display_data",
          "data": {
            "text/plain": [
              "<Figure size 1000x600 with 1 Axes>"
            ],
            "image/png": "[encoded data removed]"
          },
          "metadata": {}
        }
      ]
    }
  ]
}