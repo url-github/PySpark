{
  "nbformat": 4,
  "nbformat_minor": 0,
  "metadata": {
    "colab": {
      "provenance": [],
      "toc_visible": true
    },
    "kernelspec": {
      "name": "python3",
      "display_name": "Python 3"
    },
    "language_info": {
      "name": "python"
    }
  },
  "cells": [
    {
      "cell_type": "code",
      "execution_count": 1,
      "metadata": {
        "colab": {
          "base_uri": "https://localhost:8080/"
        },
        "id": "VdST2lDDmJvn",
        "outputId": "e87ab273-136d-4db4-c9e9-9310bf627c5b"
      },
      "outputs": [
        {
          "output_type": "stream",
          "name": "stdout",
          "text": [
            "Collecting pyspark\n",
            "  Downloading pyspark-3.5.3.tar.gz (317.3 MB)\n",
            "\u001b[2K     \u001b[90m━━━━━━━━━━━━━━━━━━━━━━━━━━━━━━━━━━━━━━━━\u001b[0m \u001b[32m317.3/317.3 MB\u001b[0m \u001b[31m5.0 MB/s\u001b[0m eta \u001b[36m0:00:00\u001b[0m\n",
            "\u001b[?25h  Preparing metadata (setup.py) ... \u001b[?25l\u001b[?25hdone\n",
            "Requirement already satisfied: py4j==0.10.9.7 in /usr/local/lib/python3.10/dist-packages (from pyspark) (0.10.9.7)\n",
            "Building wheels for collected packages: pyspark\n",
            "  Building wheel for pyspark (setup.py) ... \u001b[?25l\u001b[?25hdone\n",
            "  Created wheel for pyspark: filename=pyspark-3.5.3-py2.py3-none-any.whl size=317840625 sha256=7c81b7756fdc901fd6e505c616356e607ca4db8ae65d6300a14e0cc86dd00327\n",
            "  Stored in directory: /root/.cache/pip/wheels/1b/3a/92/28b93e2fbfdbb07509ca4d6f50c5e407f48dce4ddbda69a4ab\n",
            "Successfully built pyspark\n",
            "Installing collected packages: pyspark\n",
            "Successfully installed pyspark-3.5.3\n"
          ]
        }
      ],
      "source": [
        "pip install pyspark"
      ]
    },
    {
      "cell_type": "code",
      "source": [
        "from pyspark.sql import SparkSession\n",
        "spark = SparkSession.builder.getOrCreate()"
      ],
      "metadata": {
        "id": "_xPlQYf3mUug"
      },
      "execution_count": 2,
      "outputs": []
    },
    {
      "cell_type": "code",
      "source": [
        "spark"
      ],
      "metadata": {
        "colab": {
          "base_uri": "https://localhost:8080/",
          "height": 221
        },
        "id": "VWPfHNlMmhRU",
        "outputId": "6350f162-50de-4277-b8df-04e3d2a74169"
      },
      "execution_count": 3,
      "outputs": [
        {
          "output_type": "execute_result",
          "data": {
            "text/plain": [
              "<pyspark.sql.session.SparkSession at 0x7ed2faf913c0>"
            ],
            "text/html": [
              "\n",
              "            <div>\n",
              "                <p><b>SparkSession - in-memory</b></p>\n",
              "                \n",
              "        <div>\n",
              "            <p><b>SparkContext</b></p>\n",
              "\n",
              "            <p><a href=\"http://2b8d8f08fd7d:4040\">Spark UI</a></p>\n",
              "\n",
              "            <dl>\n",
              "              <dt>Version</dt>\n",
              "                <dd><code>v3.5.3</code></dd>\n",
              "              <dt>Master</dt>\n",
              "                <dd><code>local[*]</code></dd>\n",
              "              <dt>AppName</dt>\n",
              "                <dd><code>pyspark-shell</code></dd>\n",
              "            </dl>\n",
              "        </div>\n",
              "        \n",
              "            </div>\n",
              "        "
            ]
          },
          "metadata": {},
          "execution_count": 3
        }
      ]
    },
    {
      "cell_type": "code",
      "source": [
        "olympics = [(\"United States\", \"Gold\", 39),\n",
        "             (\"United States\", \"Silver\", 41),\n",
        "             (\"United States\", \"Bronze\", 33),\n",
        "             (\"China\", \"Gold\", 38),\n",
        "             (\"China\", \"Silver\", 32),\n",
        "             (\"China\", \"Bronze\", 19),\n",
        "             (\"Japan\", \"Gold\", 27),\n",
        "             (\"Japan\", \"Silver\", 14),\n",
        "             (\"Japan\", \"Bronze\", 17),\n",
        "             (\"Great Britain\", \"Gold\", 22),\n",
        "             (\"Great Britain\", \"Silver\", 20),\n",
        "             (\"Great Britain\", \"Bronze\", 22)\n",
        "             ]\n",
        "\n",
        "\n",
        "col = ['Country', 'medal', 'count']\n",
        "\n",
        "olympicsdf = spark.createDataFrame(data = olympics,schema = col)\n",
        "\n",
        "olympicsdf.printSchema()\n",
        "olympicsdf.show()"
      ],
      "metadata": {
        "colab": {
          "base_uri": "https://localhost:8080/"
        },
        "id": "iAbF8-0Jmkmh",
        "outputId": "94bf90ac-12ea-4e02-8913-864e305889d8"
      },
      "execution_count": 4,
      "outputs": [
        {
          "output_type": "stream",
          "name": "stdout",
          "text": [
            "root\n",
            " |-- Country: string (nullable = true)\n",
            " |-- medal: string (nullable = true)\n",
            " |-- count: long (nullable = true)\n",
            "\n",
            "+-------------+------+-----+\n",
            "|      Country| medal|count|\n",
            "+-------------+------+-----+\n",
            "|United States|  Gold|   39|\n",
            "|United States|Silver|   41|\n",
            "|United States|Bronze|   33|\n",
            "|        China|  Gold|   38|\n",
            "|        China|Silver|   32|\n",
            "|        China|Bronze|   19|\n",
            "|        Japan|  Gold|   27|\n",
            "|        Japan|Silver|   14|\n",
            "|        Japan|Bronze|   17|\n",
            "|Great Britain|  Gold|   22|\n",
            "|Great Britain|Silver|   20|\n",
            "|Great Britain|Bronze|   22|\n",
            "+-------------+------+-----+\n",
            "\n"
          ]
        }
      ]
    },
    {
      "cell_type": "code",
      "source": [
        "pivotDF = olympicsdf.groupBy(\"Country\").sum(\"count\")\n",
        "pivotDF.printSchema()\n",
        "pivotDF.show(truncate=False)"
      ],
      "metadata": {
        "colab": {
          "base_uri": "https://localhost:8080/"
        },
        "id": "S4q1wlIWpPuc",
        "outputId": "346448ec-d182-4441-e0f8-a6002f93d6f8"
      },
      "execution_count": 5,
      "outputs": [
        {
          "output_type": "stream",
          "name": "stdout",
          "text": [
            "root\n",
            " |-- Country: string (nullable = true)\n",
            " |-- sum(count): long (nullable = true)\n",
            "\n",
            "+-------------+----------+\n",
            "|Country      |sum(count)|\n",
            "+-------------+----------+\n",
            "|United States|113       |\n",
            "|China        |89        |\n",
            "|Great Britain|64        |\n",
            "|Japan        |58        |\n",
            "+-------------+----------+\n",
            "\n"
          ]
        }
      ]
    },
    {
      "cell_type": "code",
      "source": [
        "pivotDF = olympicsdf.groupBy(\"Country\").pivot(\"medal\").sum(\"count\")\n",
        "pivotDF.printSchema()\n",
        "pivotDF.show(truncate=False)\n",
        "\n",
        "pivotDF1 = olympicsdf.groupBy(\"Country\").pivot(\"medal\",['Gold','Silver']).sum(\"count\")\n",
        "pivotDF1.show(truncate=False)"
      ],
      "metadata": {
        "colab": {
          "base_uri": "https://localhost:8080/"
        },
        "id": "fIezIyyWpg6p",
        "outputId": "a2c811fc-c3c5-4c89-b40b-7d35399f3031"
      },
      "execution_count": 6,
      "outputs": [
        {
          "output_type": "stream",
          "name": "stdout",
          "text": [
            "root\n",
            " |-- Country: string (nullable = true)\n",
            " |-- Bronze: long (nullable = true)\n",
            " |-- Gold: long (nullable = true)\n",
            " |-- Silver: long (nullable = true)\n",
            "\n",
            "+-------------+------+----+------+\n",
            "|Country      |Bronze|Gold|Silver|\n",
            "+-------------+------+----+------+\n",
            "|Great Britain|22    |22  |20    |\n",
            "|China        |19    |38  |32    |\n",
            "|United States|33    |39  |41    |\n",
            "|Japan        |17    |27  |14    |\n",
            "+-------------+------+----+------+\n",
            "\n",
            "+-------------+----+------+\n",
            "|Country      |Gold|Silver|\n",
            "+-------------+----+------+\n",
            "|Great Britain|22  |20    |\n",
            "|China        |38  |32    |\n",
            "|United States|39  |41    |\n",
            "|Japan        |27  |14    |\n",
            "+-------------+----+------+\n",
            "\n"
          ]
        }
      ]
    },
    {
      "cell_type": "code",
      "source": [
        "from pyspark.sql.functions import expr\n",
        "unpivotExpr = \"stack(3, 'G', Gold, 'S', Silver, 'B', Bronze) as (medal,Total)\"\n",
        "unPivotDF = pivotDF.select(\"Country\", expr(unpivotExpr))\n",
        "unPivotDF.show()"
      ],
      "metadata": {
        "colab": {
          "base_uri": "https://localhost:8080/"
        },
        "id": "6TA-oIKXqqX6",
        "outputId": "77185c49-f422-475c-efeb-2bba1f7f175d"
      },
      "execution_count": 7,
      "outputs": [
        {
          "output_type": "stream",
          "name": "stdout",
          "text": [
            "+-------------+-----+-----+\n",
            "|      Country|medal|Total|\n",
            "+-------------+-----+-----+\n",
            "|Great Britain|    G|   22|\n",
            "|Great Britain|    S|   20|\n",
            "|Great Britain|    B|   22|\n",
            "|        China|    G|   38|\n",
            "|        China|    S|   32|\n",
            "|        China|    B|   19|\n",
            "|United States|    G|   39|\n",
            "|United States|    S|   41|\n",
            "|United States|    B|   33|\n",
            "|        Japan|    G|   27|\n",
            "|        Japan|    S|   14|\n",
            "|        Japan|    B|   17|\n",
            "+-------------+-----+-----+\n",
            "\n"
          ]
        }
      ]
    }
  ]
}