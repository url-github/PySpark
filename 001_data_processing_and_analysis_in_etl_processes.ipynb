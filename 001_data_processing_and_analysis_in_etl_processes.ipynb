{
 "cells": [
  {
   "cell_type": "markdown",
   "id": "29a7d959-1095-49e5-83d5-673adb26d40e",
   "metadata": {},
   "source": [
    "# DataFrame"
   ]
  },
  {
   "cell_type": "code",
   "execution_count": 1,
   "id": "25bdc7d0-e649-4d64-914d-05cd887f8d48",
   "metadata": {},
   "outputs": [],
   "source": [
    "from pyspark.sql import SparkSession"
   ]
  },
  {
   "cell_type": "code",
   "execution_count": 3,
   "id": "bfe604c6-0ac7-4cb7-85bc-5b76c3af0e5b",
   "metadata": {},
   "outputs": [],
   "source": [
    "spark = SparkSession.builder.appName('spark').getOrCreate()"
   ]
  },
  {
   "cell_type": "code",
   "execution_count": 12,
   "id": "faeab1b4-53d9-41bb-8be1-1b51defb0fd7",
   "metadata": {},
   "outputs": [],
   "source": [
    "df = spark.createDataFrame(\n",
    "    [\n",
    "        (\"Marcelina\", \"Tetlak\", 32),\n",
    "        (\"Anna\", \"Radomska\", 42),\n",
    "        \n",
    "    ],\n",
    "    ['first', 'last', 'age']\n",
    ")"
   ]
  },
  {
   "cell_type": "code",
   "execution_count": 13,
   "id": "82e3e7a0-0b6b-4fdd-a857-e5304b494e73",
   "metadata": {},
   "outputs": [
    {
     "name": "stdout",
     "output_type": "stream",
     "text": [
      "+---------+--------+---+\n",
      "|    first|    last|age|\n",
      "+---------+--------+---+\n",
      "|Marcelina|  Tetlak| 32|\n",
      "|     Anna|Radomska| 42|\n",
      "+---------+--------+---+\n",
      "\n"
     ]
    }
   ],
   "source": [
    "df.show()"
   ]
  },
  {
   "cell_type": "markdown",
   "id": "8989e444-2b85-4009-b736-6999561199a4",
   "metadata": {},
   "source": [
    "# Read csv"
   ]
  },
  {
   "cell_type": "code",
   "execution_count": null,
   "id": "420be28d-4801-41f5-b832-f12543fdf015",
   "metadata": {},
   "outputs": [],
   "source": [
    "# data/best_selling_books.csv"
   ]
  },
  {
   "cell_type": "code",
   "execution_count": 16,
   "id": "3b5fc130-ce23-4291-8959-1e70d3522d3b",
   "metadata": {},
   "outputs": [
    {
     "name": "stdout",
     "output_type": "stream",
     "text": [
      "+--------------------+--------------------+-----------------+---------------+--------------------+--------------------+\n",
      "|                 _c0|                 _c1|              _c2|            _c3|                 _c4|                 _c5|\n",
      "+--------------------+--------------------+-----------------+---------------+--------------------+--------------------+\n",
      "|                Book|           Author(s)|Original language|First published|Approximate sales...|               Genre|\n",
      "|A Tale of Two Cities|     Charles Dickens|          English|           1859|                 200|  Historical fiction|\n",
      "|The Little Prince...|Antoine de Saint-...|           French|           1943|                 200|             Novella|\n",
      "|Harry Potter and ...|       J. K. Rowling|          English|           1997|                 120|             Fantasy|\n",
      "|And Then There We...|     Agatha Christie|          English|           1939|                 100|             Mystery|\n",
      "|Dream of the Red ...|          Cao Xueqin|          Chinese|           1791|                 100|         Family saga|\n",
      "|          The Hobbit|    J. R. R. Tolkien|          English|           1937|                 100|             Fantasy|\n",
      "|The Lion, the Wit...|         C. S. Lewis|          English|           1950|                  85|Fantasy, Children...|\n",
      "|She: A History of...|    H. Rider Haggard|          English|           1887|                  83|           Adventure|\n",
      "|Vardi Wala Gunda ...|  Ved Prakash Sharma|            Hindi|           1992|                  80|           Detective|\n",
      "|   The Da Vinci Code|           Dan Brown|          English|           2003|                  80|    Mystery thriller|\n",
      "|Harry Potter and ...|       J. K. Rowling|          English|           1998|                  77|             Fantasy|\n",
      "|Harry Potter and ...|       J. K. Rowling|          English|           1999|                  65|             Fantasy|\n",
      "|Harry Potter and ...|       J. K. Rowling|          English|           2000|                  65|             Fantasy|\n",
      "|Harry Potter and ...|       J. K. Rowling|          English|           2003|                  65|             Fantasy|\n",
      "|Harry Potter and ...|       J. K. Rowling|          English|           2005|                  65|             Fantasy|\n",
      "|Harry Potter and ...|       J. K. Rowling|          English|           2007|                  65|             Fantasy|\n",
      "|The Alchemist (O ...|        Paulo Coelho|       Portuguese|           1988|                  65|             Fantasy|\n",
      "|The Catcher in th...|      J. D. Salinger|          English|           1951|                  65|       Coming-of-age|\n",
      "|The Bridges of Ma...| Robert James Waller|          English|           1992|                  60|             Romance|\n",
      "+--------------------+--------------------+-----------------+---------------+--------------------+--------------------+\n",
      "only showing top 20 rows\n",
      "\n"
     ]
    }
   ],
   "source": [
    "csv1 = spark.read.format('csv').load('data/best_selling_books.csv')\n",
    "csv1.show()"
   ]
  },
  {
   "cell_type": "code",
   "execution_count": 17,
   "id": "8d30cd25-b723-48b2-9e69-a11a8dfc526d",
   "metadata": {},
   "outputs": [
    {
     "name": "stdout",
     "output_type": "stream",
     "text": [
      "+--------------------+\n",
      "|                 _c0|\n",
      "+--------------------+\n",
      "|  Afghanistan;AF;AFG|\n",
      "|Åland Islands;AX;ALA|\n",
      "|      Albania;AL;ALB|\n",
      "|      Algeria;DZ;DZA|\n",
      "|American Samoa;AS...|\n",
      "|      Andorra;AD;AND|\n",
      "|       Angola;AO;AGO|\n",
      "|     Anguilla;AI;AIA|\n",
      "|   Antarctica;AQ;ATA|\n",
      "|Antigua and Barbu...|\n",
      "|    Argentina;AR;ARG|\n",
      "|      Armenia;AM;ARM|\n",
      "|        Aruba;AW;ABW|\n",
      "|    Australia;AU;AUS|\n",
      "|      Austria;AT;AUT|\n",
      "|   Azerbaijan;AZ;AZE|\n",
      "|      Bahamas;BS;BHS|\n",
      "|      Bahrain;BH;BHR|\n",
      "|   Bangladesh;BD;BGD|\n",
      "|     Barbados;BB;BRB|\n",
      "+--------------------+\n",
      "only showing top 20 rows\n",
      "\n"
     ]
    }
   ],
   "source": [
    "csv2 = spark.read.format('csv').load('data/country-codes.csv')\n",
    "csv2.show()"
   ]
  },
  {
   "cell_type": "code",
   "execution_count": 20,
   "id": "52bf50df-0b5f-420f-a07a-0e1e285cc3be",
   "metadata": {},
   "outputs": [
    {
     "name": "stdout",
     "output_type": "stream",
     "text": [
      "+--------------------+--------------------+-----------------+---------------+-----------------------------+--------------------+\n",
      "|                Book|           Author(s)|Original language|First published|Approximate sales in millions|               Genre|\n",
      "+--------------------+--------------------+-----------------+---------------+-----------------------------+--------------------+\n",
      "|A Tale of Two Cities|     Charles Dickens|          English|           1859|                          200|  Historical fiction|\n",
      "|The Little Prince...|Antoine de Saint-...|           French|           1943|                          200|             Novella|\n",
      "|Harry Potter and ...|       J. K. Rowling|          English|           1997|                          120|             Fantasy|\n",
      "|And Then There We...|     Agatha Christie|          English|           1939|                          100|             Mystery|\n",
      "|Dream of the Red ...|          Cao Xueqin|          Chinese|           1791|                          100|         Family saga|\n",
      "|          The Hobbit|    J. R. R. Tolkien|          English|           1937|                          100|             Fantasy|\n",
      "|The Lion, the Wit...|         C. S. Lewis|          English|           1950|                           85|Fantasy, Children...|\n",
      "|She: A History of...|    H. Rider Haggard|          English|           1887|                           83|           Adventure|\n",
      "|Vardi Wala Gunda ...|  Ved Prakash Sharma|            Hindi|           1992|                           80|           Detective|\n",
      "|   The Da Vinci Code|           Dan Brown|          English|           2003|                           80|    Mystery thriller|\n",
      "|Harry Potter and ...|       J. K. Rowling|          English|           1998|                           77|             Fantasy|\n",
      "|Harry Potter and ...|       J. K. Rowling|          English|           1999|                           65|             Fantasy|\n",
      "|Harry Potter and ...|       J. K. Rowling|          English|           2000|                           65|             Fantasy|\n",
      "|Harry Potter and ...|       J. K. Rowling|          English|           2003|                           65|             Fantasy|\n",
      "|Harry Potter and ...|       J. K. Rowling|          English|           2005|                           65|             Fantasy|\n",
      "|Harry Potter and ...|       J. K. Rowling|          English|           2007|                           65|             Fantasy|\n",
      "|The Alchemist (O ...|        Paulo Coelho|       Portuguese|           1988|                           65|             Fantasy|\n",
      "|The Catcher in th...|      J. D. Salinger|          English|           1951|                           65|       Coming-of-age|\n",
      "|The Bridges of Ma...| Robert James Waller|          English|           1992|                           60|             Romance|\n",
      "|Ben-Hur: A Tale o...|         Lew Wallace|          English|           1880|                           50|  Historical fiction|\n",
      "+--------------------+--------------------+-----------------+---------------+-----------------------------+--------------------+\n",
      "only showing top 20 rows\n",
      "\n"
     ]
    }
   ],
   "source": [
    "csv3 = (\n",
    "    spark.read\n",
    "    .format('csv')\n",
    "    .options(header=True, sep=\",\")\n",
    "    .load('data/best_selling_books.csv')\n",
    ")\n",
    "csv3.show()"
   ]
  },
  {
   "cell_type": "code",
   "execution_count": 21,
   "id": "158ac6cc-4a60-4848-a953-2f62e6debd7b",
   "metadata": {},
   "outputs": [
    {
     "name": "stdout",
     "output_type": "stream",
     "text": [
      "+-------------------+---+---+\n",
      "|                _c0|_c1|_c2|\n",
      "+-------------------+---+---+\n",
      "|        Afghanistan| AF|AFG|\n",
      "|      Åland Islands| AX|ALA|\n",
      "|            Albania| AL|ALB|\n",
      "|            Algeria| DZ|DZA|\n",
      "|     American Samoa| AS|ASM|\n",
      "|            Andorra| AD|AND|\n",
      "|             Angola| AO|AGO|\n",
      "|           Anguilla| AI|AIA|\n",
      "|         Antarctica| AQ|ATA|\n",
      "|Antigua and Barbuda| AG|ATG|\n",
      "|          Argentina| AR|ARG|\n",
      "|            Armenia| AM|ARM|\n",
      "|              Aruba| AW|ABW|\n",
      "|          Australia| AU|AUS|\n",
      "|            Austria| AT|AUT|\n",
      "|         Azerbaijan| AZ|AZE|\n",
      "|            Bahamas| BS|BHS|\n",
      "|            Bahrain| BH|BHR|\n",
      "|         Bangladesh| BD|BGD|\n",
      "|           Barbados| BB|BRB|\n",
      "+-------------------+---+---+\n",
      "only showing top 20 rows\n",
      "\n"
     ]
    }
   ],
   "source": [
    "csv4 = (\n",
    "    spark.read\n",
    "    .format('csv')\n",
    "    .options(header=False, sep=\";\")\n",
    "    .load('data/country-codes.csv')\n",
    ")\n",
    "csv4.show()"
   ]
  },
  {
   "cell_type": "markdown",
   "id": "22fd1718-2754-469c-9563-60b22d42f912",
   "metadata": {},
   "source": [
    "# Schema DataFrame"
   ]
  },
  {
   "cell_type": "code",
   "execution_count": 4,
   "id": "fc60f392-4ad9-49e0-8928-66e97da8befc",
   "metadata": {},
   "outputs": [
    {
     "name": "stdout",
     "output_type": "stream",
     "text": [
      "+--------------------+-----+--------------------+-------+--------------------+--------------------+--------------------+\n",
      "|                Name|Sales|              Series|Release|               Genre|           Developer|           Publisher|\n",
      "+--------------------+-----+--------------------+-------+--------------------+--------------------+--------------------+\n",
      "|PlayerUnknown's B...|   42|                NULL| Dec-17|       Battle royale|        PUBG Studios|             Krafton|\n",
      "|           Minecraft|   33|           Minecraft| Nov-11|   Sandbox, survival|      Mojang Studios|      Mojang Studios|\n",
      "|          Diablo III|   20|              Diablo| May-12| Action role-playing|Blizzard Entertai...|Blizzard Entertai...|\n",
      "|         Garry's Mod|   20|                NULL| Nov-06|             Sandbox|   Facepunch Studios|               Valve|\n",
      "|            Terraria| 17.2|                NULL| May-11|    Action-adventure|            Re-Logic|            Re-Logic|\n",
      "|   World of Warcraft|   14|            Warcraft| Nov-04|              MMORPG|Blizzard Entertai...|Blizzard Entertai...|\n",
      "|         Half-Life 2|   12|           Half-Life| Nov-04|First-person shooter|               Valve|     Valve (digital)|\n",
      "|The Witcher 3: Wi...|   12|         The Witcher| May-15| Action role-playing|      CD Projekt Red|          CD Projekt|\n",
      "|           StarCraft|   11|           StarCraft| Mar-98|  Real-time strategy|Blizzard Entertai...|Blizzard Entertai...|\n",
      "|            The Sims|   11|            The Sims| Feb-00|     Life simulation|               Maxis|     Electronic Arts|\n",
      "|           Fall Guys|   10|                NULL| Aug-20|       Battle royale|          Mediatonic|    Devolver Digital|\n",
      "|RollerCoaster Tyc...|   10|RollerCoaster Tycoon| Oct-04|Construction and ...|Frontier Developm...|Atari, Inc. (Wind...|\n",
      "|           Half-Life|    9|           Half-Life| Nov-98|First-person shooter|               Valve|Sierra Entertainment|\n",
      "|                Rust|    9|                NULL| Feb-18|            Survival|   Facepunch Studios|   Facepunch Studios|\n",
      "|      Civilization V|    8|        Civilization| Sep-10|Turn-based strate...|       Firaxis Games|    2K Games & Aspyr|\n",
      "|          The Sims 3|    7|            The Sims| Jun-09|     Life simulation|               Maxis|     Electronic Arts|\n",
      "|Euro Truck Simula...|  6.5|     Truck Simulator| Oct-12|  Vehicle simulation|        SCS Software|        SCS Software|\n",
      "|          Guild Wars|    6|          Guild Wars| Apr-05|              MMORPG|            ArenaNet|              NCsoft|\n",
      "|StarCraft II: Win...|    6|           StarCraft| Jul-10|  Real-time strategy|Blizzard Entertai...|Blizzard Entertai...|\n",
      "|          The Sims 2|    6|            The Sims| Sep-04|     Life simulation|               Maxis|     Electronic Arts|\n",
      "+--------------------+-----+--------------------+-------+--------------------+--------------------+--------------------+\n",
      "only showing top 20 rows\n",
      "\n"
     ]
    }
   ],
   "source": [
    "df = spark.read.csv(\"data/Games.csv\", header=True, quote=\"\\\"\")\n",
    "df.show()"
   ]
  },
  {
   "cell_type": "code",
   "execution_count": 5,
   "id": "7fbafeee-39d6-40a0-94bc-3be771b6043d",
   "metadata": {},
   "outputs": [
    {
     "name": "stdout",
     "output_type": "stream",
     "text": [
      "root\n",
      " |-- Name: string (nullable = true)\n",
      " |-- Sales: string (nullable = true)\n",
      " |-- Series: string (nullable = true)\n",
      " |-- Release: string (nullable = true)\n",
      " |-- Genre: string (nullable = true)\n",
      " |-- Developer: string (nullable = true)\n",
      " |-- Publisher: string (nullable = true)\n",
      "\n"
     ]
    }
   ],
   "source": [
    "df.printSchema()"
   ]
  },
  {
   "cell_type": "markdown",
   "id": "808fe495-3d93-4928-ab08-e9e348a55267",
   "metadata": {},
   "source": [
    "# Tworzenie Schema"
   ]
  },
  {
   "cell_type": "code",
   "execution_count": 6,
   "id": "4d53e49d-df37-499a-addf-d83f1f44320d",
   "metadata": {},
   "outputs": [
    {
     "name": "stdout",
     "output_type": "stream",
     "text": [
      "root\n",
      " |-- Book: string (nullable = true)\n",
      " |-- Author(s): string (nullable = true)\n",
      " |-- Original language: string (nullable = true)\n",
      " |-- First published: string (nullable = true)\n",
      " |-- Approximate sales in millions: string (nullable = true)\n",
      " |-- Genre: string (nullable = true)\n",
      "\n"
     ]
    }
   ],
   "source": [
    "spark.read.csv(\"data/best_selling_books.csv\", header=True).printSchema()"
   ]
  },
  {
   "cell_type": "code",
   "execution_count": 7,
   "id": "aaeb69e0-a755-4877-b8cc-40aadde40131",
   "metadata": {},
   "outputs": [],
   "source": [
    "from pyspark.sql.types import StructType, StructField, IntegerType, StringType, DoubleType"
   ]
  },
  {
   "cell_type": "code",
   "execution_count": 9,
   "id": "d9f9a678-c11e-4842-afa1-f9707fcfc81f",
   "metadata": {},
   "outputs": [],
   "source": [
    "schema = StructType(\n",
    "    [\n",
    "        StructField(\"Book\", StringType(), False),\n",
    "        StructField(\"Authors\", StringType(), False),\n",
    "        StructField(\"Original Language\", StringType(), False),\n",
    "        StructField(\"First published\", IntegerType(), False),\n",
    "        StructField(\"Sales\", DoubleType(), False),\n",
    "        StructField(\"Genre\", StringType(), False)\n",
    "    ]\n",
    ")"
   ]
  },
  {
   "cell_type": "code",
   "execution_count": 10,
   "id": "3f552748-ed2c-4999-a88d-db93a47e747b",
   "metadata": {},
   "outputs": [
    {
     "name": "stdout",
     "output_type": "stream",
     "text": [
      "StructType([StructField('Book', StringType(), False), StructField('Authors', StringType(), False), StructField('Original Language', StringType(), False), StructField('First published', IntegerType(), False), StructField('Sales', DoubleType(), False), StructField('Genre', StringType(), False)])\n"
     ]
    }
   ],
   "source": [
    "print(schema)"
   ]
  },
  {
   "cell_type": "code",
   "execution_count": 11,
   "id": "768e25ff-8a91-402b-ad94-cb016fcfdb97",
   "metadata": {},
   "outputs": [
    {
     "name": "stdout",
     "output_type": "stream",
     "text": [
      "root\n",
      " |-- Book: string (nullable = true)\n",
      " |-- Authors: string (nullable = true)\n",
      " |-- Original Language: string (nullable = true)\n",
      " |-- First published: integer (nullable = true)\n",
      " |-- Sales: double (nullable = true)\n",
      " |-- Genre: string (nullable = true)\n",
      "\n"
     ]
    }
   ],
   "source": [
    "df = spark.read.csv(\"data/best_selling_books.csv\", header=True, schema=schema)\n",
    "df.printSchema()"
   ]
  },
  {
   "cell_type": "code",
   "execution_count": 12,
   "id": "52bba192-c4ea-41c8-938f-8cf1451f1fe8",
   "metadata": {},
   "outputs": [
    {
     "name": "stdout",
     "output_type": "stream",
     "text": [
      "root\n",
      " |-- Book: string (nullable = true)\n",
      " |-- Authors: string (nullable = true)\n",
      " |-- Original Language: string (nullable = true)\n",
      " |-- First published: integer (nullable = true)\n",
      " |-- Sales: double (nullable = true)\n",
      " |-- Genre: string (nullable = true)\n",
      "\n"
     ]
    }
   ],
   "source": [
    "csv1 = spark.read.format(\"csv\").schema(schema).load(\"data/best_selling_books.csv\")\n",
    "csv1.printSchema()"
   ]
  },
  {
   "cell_type": "code",
   "execution_count": 14,
   "id": "788bb704-3dfb-447b-84ff-0d51b7c56f5e",
   "metadata": {},
   "outputs": [
    {
     "name": "stdout",
     "output_type": "stream",
     "text": [
      "+--------------------+--------------------+-----------------+---------------+-----+--------------------+\n",
      "|                Book|             Authors|Original Language|First published|Sales|               Genre|\n",
      "+--------------------+--------------------+-----------------+---------------+-----+--------------------+\n",
      "|                Book|           Author(s)|Original language|           NULL| NULL|               Genre|\n",
      "|A Tale of Two Cities|     Charles Dickens|          English|           1859|200.0|  Historical fiction|\n",
      "|The Little Prince...|Antoine de Saint-...|           French|           1943|200.0|             Novella|\n",
      "|Harry Potter and ...|       J. K. Rowling|          English|           1997|120.0|             Fantasy|\n",
      "|And Then There We...|     Agatha Christie|          English|           1939|100.0|             Mystery|\n",
      "|Dream of the Red ...|          Cao Xueqin|          Chinese|           1791|100.0|         Family saga|\n",
      "|          The Hobbit|    J. R. R. Tolkien|          English|           1937|100.0|             Fantasy|\n",
      "|The Lion, the Wit...|         C. S. Lewis|          English|           1950| 85.0|Fantasy, Children...|\n",
      "|She: A History of...|    H. Rider Haggard|          English|           1887| 83.0|           Adventure|\n",
      "|Vardi Wala Gunda ...|  Ved Prakash Sharma|            Hindi|           1992| 80.0|           Detective|\n",
      "|   The Da Vinci Code|           Dan Brown|          English|           2003| 80.0|    Mystery thriller|\n",
      "|Harry Potter and ...|       J. K. Rowling|          English|           1998| 77.0|             Fantasy|\n",
      "|Harry Potter and ...|       J. K. Rowling|          English|           1999| 65.0|             Fantasy|\n",
      "|Harry Potter and ...|       J. K. Rowling|          English|           2000| 65.0|             Fantasy|\n",
      "|Harry Potter and ...|       J. K. Rowling|          English|           2003| 65.0|             Fantasy|\n",
      "|Harry Potter and ...|       J. K. Rowling|          English|           2005| 65.0|             Fantasy|\n",
      "|Harry Potter and ...|       J. K. Rowling|          English|           2007| 65.0|             Fantasy|\n",
      "|The Alchemist (O ...|        Paulo Coelho|       Portuguese|           1988| 65.0|             Fantasy|\n",
      "|The Catcher in th...|      J. D. Salinger|          English|           1951| 65.0|       Coming-of-age|\n",
      "|The Bridges of Ma...| Robert James Waller|          English|           1992| 60.0|             Romance|\n",
      "+--------------------+--------------------+-----------------+---------------+-----+--------------------+\n",
      "only showing top 20 rows\n",
      "\n"
     ]
    }
   ],
   "source": [
    "csv1 = spark.read.format(\"csv\").schema(schema).load(\"data/best_selling_books.csv\")\n",
    "csv1.show()"
   ]
  },
  {
   "cell_type": "markdown",
   "id": "8c3f8ae1-4622-440a-9981-3f1cb48b85ec",
   "metadata": {},
   "source": [
    "# Wyświetlanie wybranych kolumn"
   ]
  },
  {
   "cell_type": "code",
   "execution_count": 15,
   "id": "7a692245-b51b-44c2-8a66-b8e29052434c",
   "metadata": {},
   "outputs": [],
   "source": [
    "from pyspark.sql import SparkSession\n",
    "from pyspark.sql.types import StructType, StructField, StringType, DoubleType\n",
    "from pyspark.sql.functions import col"
   ]
  },
  {
   "cell_type": "code",
   "execution_count": 16,
   "id": "3aa818a4-a76b-4f18-bd39-8f8b1f5a6ab0",
   "metadata": {},
   "outputs": [],
   "source": [
    "spark = SparkSession.builder.appName(\"spark\").getOrCreate()"
   ]
  },
  {
   "cell_type": "code",
   "execution_count": 17,
   "id": "0383770c-d305-479a-a309-3ef50e095dfb",
   "metadata": {},
   "outputs": [],
   "source": [
    "games_schema = StructType(\n",
    "    [\n",
    "        StructField(\"Name\", StringType(), False),\n",
    "        StructField(\"Sales\", DoubleType(), False),\n",
    "        StructField(\"Series\", StringType(), True),\n",
    "        StructField(\"Release\", StringType(), False),\n",
    "        StructField(\"Genre\", StringType(), False),\n",
    "        StructField(\"Developer\", StringType(), False),\n",
    "        StructField(\"Publisher\", StringType(), False)\n",
    "    ]\n",
    ")"
   ]
  },
  {
   "cell_type": "code",
   "execution_count": 33,
   "id": "990e6949-c73a-40c6-8431-06c86a756f71",
   "metadata": {},
   "outputs": [
    {
     "name": "stdout",
     "output_type": "stream",
     "text": [
      "+--------------------+-----+--------------------+-------+--------------------+--------------------+--------------------+\n",
      "|                Name|Sales|              Series|Release|               Genre|           Developer|           Publisher|\n",
      "+--------------------+-----+--------------------+-------+--------------------+--------------------+--------------------+\n",
      "|PlayerUnknown's B...| 42.0|                NULL| Dec-17|       Battle royale|        PUBG Studios|             Krafton|\n",
      "|           Minecraft| 33.0|           Minecraft| Nov-11|   Sandbox, survival|      Mojang Studios|      Mojang Studios|\n",
      "|          Diablo III| 20.0|              Diablo| May-12| Action role-playing|Blizzard Entertai...|Blizzard Entertai...|\n",
      "|         Garry's Mod| 20.0|                NULL| Nov-06|             Sandbox|   Facepunch Studios|               Valve|\n",
      "|            Terraria| 17.2|                NULL| May-11|    Action-adventure|            Re-Logic|            Re-Logic|\n",
      "|   World of Warcraft| 14.0|            Warcraft| Nov-04|              MMORPG|Blizzard Entertai...|Blizzard Entertai...|\n",
      "|         Half-Life 2| 12.0|           Half-Life| Nov-04|First-person shooter|               Valve|     Valve (digital)|\n",
      "|The Witcher 3: Wi...| 12.0|         The Witcher| May-15| Action role-playing|      CD Projekt Red|          CD Projekt|\n",
      "|           StarCraft| 11.0|           StarCraft| Mar-98|  Real-time strategy|Blizzard Entertai...|Blizzard Entertai...|\n",
      "|            The Sims| 11.0|            The Sims| Feb-00|     Life simulation|               Maxis|     Electronic Arts|\n",
      "|           Fall Guys| 10.0|                NULL| Aug-20|       Battle royale|          Mediatonic|    Devolver Digital|\n",
      "|RollerCoaster Tyc...| 10.0|RollerCoaster Tycoon| Oct-04|Construction and ...|Frontier Developm...|Atari, Inc. (Wind...|\n",
      "|           Half-Life|  9.0|           Half-Life| Nov-98|First-person shooter|               Valve|Sierra Entertainment|\n",
      "|                Rust|  9.0|                NULL| Feb-18|            Survival|   Facepunch Studios|   Facepunch Studios|\n",
      "|      Civilization V|  8.0|        Civilization| Sep-10|Turn-based strate...|       Firaxis Games|    2K Games & Aspyr|\n",
      "|          The Sims 3|  7.0|            The Sims| Jun-09|     Life simulation|               Maxis|     Electronic Arts|\n",
      "|Euro Truck Simula...|  6.5|     Truck Simulator| Oct-12|  Vehicle simulation|        SCS Software|        SCS Software|\n",
      "|          Guild Wars|  6.0|          Guild Wars| Apr-05|              MMORPG|            ArenaNet|              NCsoft|\n",
      "|StarCraft II: Win...|  6.0|           StarCraft| Jul-10|  Real-time strategy|Blizzard Entertai...|Blizzard Entertai...|\n",
      "|          The Sims 2|  6.0|            The Sims| Sep-04|     Life simulation|               Maxis|     Electronic Arts|\n",
      "+--------------------+-----+--------------------+-------+--------------------+--------------------+--------------------+\n",
      "only showing top 20 rows\n",
      "\n"
     ]
    }
   ],
   "source": [
    "df = spark.read.csv(\"data/Games.csv\", header=True, schema=games_schema)\n",
    "df.show()"
   ]
  },
  {
   "cell_type": "code",
   "execution_count": 19,
   "id": "280cc63e-80e2-4767-bcc7-a1c2fbfb42a3",
   "metadata": {},
   "outputs": [
    {
     "name": "stdout",
     "output_type": "stream",
     "text": [
      "+--------------------+-----+--------------------+\n",
      "|                name|sales|           developer|\n",
      "+--------------------+-----+--------------------+\n",
      "|PlayerUnknown's B...| 42.0|        PUBG Studios|\n",
      "|           Minecraft| 33.0|      Mojang Studios|\n",
      "|          Diablo III| 20.0|Blizzard Entertai...|\n",
      "|         Garry's Mod| 20.0|   Facepunch Studios|\n",
      "|            Terraria| 17.2|            Re-Logic|\n",
      "|   World of Warcraft| 14.0|Blizzard Entertai...|\n",
      "|         Half-Life 2| 12.0|               Valve|\n",
      "|The Witcher 3: Wi...| 12.0|      CD Projekt Red|\n",
      "|           StarCraft| 11.0|Blizzard Entertai...|\n",
      "|            The Sims| 11.0|               Maxis|\n",
      "|           Fall Guys| 10.0|          Mediatonic|\n",
      "|RollerCoaster Tyc...| 10.0|Frontier Developm...|\n",
      "|           Half-Life|  9.0|               Valve|\n",
      "|                Rust|  9.0|   Facepunch Studios|\n",
      "|      Civilization V|  8.0|       Firaxis Games|\n",
      "|          The Sims 3|  7.0|               Maxis|\n",
      "|Euro Truck Simula...|  6.5|        SCS Software|\n",
      "|          Guild Wars|  6.0|            ArenaNet|\n",
      "|StarCraft II: Win...|  6.0|Blizzard Entertai...|\n",
      "|          The Sims 2|  6.0|               Maxis|\n",
      "+--------------------+-----+--------------------+\n",
      "only showing top 20 rows\n",
      "\n"
     ]
    }
   ],
   "source": [
    "df.select (col('name'), col('sales'), col('developer')).show()"
   ]
  },
  {
   "cell_type": "code",
   "execution_count": 20,
   "id": "c965adce-3430-4128-acda-aa20808b4854",
   "metadata": {},
   "outputs": [
    {
     "name": "stdout",
     "output_type": "stream",
     "text": [
      "+--------------------+-----+--------------------+\n",
      "|                name|sales|           developer|\n",
      "+--------------------+-----+--------------------+\n",
      "|PlayerUnknown's B...| 42.0|        PUBG Studios|\n",
      "|           Minecraft| 33.0|      Mojang Studios|\n",
      "|          Diablo III| 20.0|Blizzard Entertai...|\n",
      "|         Garry's Mod| 20.0|   Facepunch Studios|\n",
      "|            Terraria| 17.2|            Re-Logic|\n",
      "|   World of Warcraft| 14.0|Blizzard Entertai...|\n",
      "|         Half-Life 2| 12.0|               Valve|\n",
      "|The Witcher 3: Wi...| 12.0|      CD Projekt Red|\n",
      "|           StarCraft| 11.0|Blizzard Entertai...|\n",
      "|            The Sims| 11.0|               Maxis|\n",
      "|           Fall Guys| 10.0|          Mediatonic|\n",
      "|RollerCoaster Tyc...| 10.0|Frontier Developm...|\n",
      "|           Half-Life|  9.0|               Valve|\n",
      "|                Rust|  9.0|   Facepunch Studios|\n",
      "|      Civilization V|  8.0|       Firaxis Games|\n",
      "|          The Sims 3|  7.0|               Maxis|\n",
      "|Euro Truck Simula...|  6.5|        SCS Software|\n",
      "|          Guild Wars|  6.0|            ArenaNet|\n",
      "|StarCraft II: Win...|  6.0|Blizzard Entertai...|\n",
      "|          The Sims 2|  6.0|               Maxis|\n",
      "+--------------------+-----+--------------------+\n",
      "only showing top 20 rows\n",
      "\n"
     ]
    }
   ],
   "source": [
    "df.select('name', 'sales', 'developer').show()"
   ]
  },
  {
   "cell_type": "markdown",
   "id": "c8c3e388-c894-4dcf-818c-5d481d2200fd",
   "metadata": {},
   "source": [
    "# Sortowanie danych"
   ]
  },
  {
   "cell_type": "code",
   "execution_count": 21,
   "id": "393b731b-d349-4659-8105-71515ccc5435",
   "metadata": {},
   "outputs": [
    {
     "name": "stdout",
     "output_type": "stream",
     "text": [
      "+--------------------+-----+------------------+-------+--------------------+--------------------+--------------------+\n",
      "|                Name|Sales|            Series|Release|               Genre|           Developer|           Publisher|\n",
      "+--------------------+-----+------------------+-------+--------------------+--------------------+--------------------+\n",
      "|       Duke Nukem 3D|  1.0|        Duke Nukem| Jan-96|First-person shooter|           3D Realms|GT Interactive So...|\n",
      "|         Machinarium|  1.0|              NULL| Oct-09|Graphic adventure...|      Amanita Design|      Amanita Design|\n",
      "|          Guild Wars|  6.0|        Guild Wars| Apr-05|              MMORPG|            ArenaNet|              NCsoft|\n",
      "|        Guild Wars 2|  5.0|        Guild Wars| Aug-12|              MMORPG|            ArenaNet|              NCsoft|\n",
      "|             Magicka|  2.0|              NULL| Jan-11|    Action-adventure|Arrowhead Game St...| Paradox Interactive|\n",
      "|Patrician III: Ri...|  1.0|     The Patrician| Oct-03| Business simulation|             Ascaron|              Encore|\n",
      "|              Sacred|  1.0|            Sacred| Mar-04| Action role-playing|             Ascaron|              Encore|\n",
      "|       Baldur's Gate|  2.0|     Baldur's Gate| Dec-98|   Role-playing game|             BioWare|Interplay Enterta...|\n",
      "|Baldur's Gate II:...|  2.0|     Baldur's Gate| Sep-00|Computer role-pla...|             BioWare|Interplay Enterta...|\n",
      "|  Neverwinter Nights|  2.0|Neverwinter Nights| Jun-02|   Role-playing game|             BioWare|  Infogrames / Atari|\n",
      "|          Diablo III| 20.0|            Diablo| May-12| Action role-playing|Blizzard Entertai...|Blizzard Entertai...|\n",
      "|   World of Warcraft| 14.0|          Warcraft| Nov-04|              MMORPG|Blizzard Entertai...|Blizzard Entertai...|\n",
      "|           StarCraft| 11.0|         StarCraft| Mar-98|  Real-time strategy|Blizzard Entertai...|Blizzard Entertai...|\n",
      "|StarCraft II: Win...|  6.0|         StarCraft| Jul-10|  Real-time strategy|Blizzard Entertai...|Blizzard Entertai...|\n",
      "|Warcraft III: Rei...|  3.0|          Warcraft| Jul-02|  Real-time strategy|Blizzard Entertai...|Blizzard Entertai...|\n",
      "|Warcraft II: Tide...|  2.0|          Warcraft| Dec-95|  Real-time strategy|Blizzard Entertai...|Blizzard Entertai...|\n",
      "|StarCraft II: Hea...|  1.0|         StarCraft| Mar-13|  Real-time strategy|Blizzard Entertai...|Blizzard Entertai...|\n",
      "|StarCraft II: Leg...|  1.0|         StarCraft| Nov-15|  Real-time strategy|Blizzard Entertai...|Blizzard Entertai...|\n",
      "|           Diablo II|  4.0|            Diablo| Jun-00| Action role-playing|      Blizzard North|Blizzard Entertai...|\n",
      "|              Diablo|  2.0|            Diablo| Dec-96| Action role-playing|      Blizzard North|Blizzard Entertai...|\n",
      "+--------------------+-----+------------------+-------+--------------------+--------------------+--------------------+\n",
      "only showing top 20 rows\n",
      "\n"
     ]
    }
   ],
   "source": [
    "df.orderBy(\n",
    "    col(\"developer\").asc(),\n",
    "    col(\"sales\").desc()\n",
    "          ).show()"
   ]
  },
  {
   "cell_type": "code",
   "execution_count": 22,
   "id": "ad5af429-16d4-43ba-9a81-1f3e102904c9",
   "metadata": {},
   "outputs": [
    {
     "name": "stdout",
     "output_type": "stream",
     "text": [
      "+-----------------------------+-----+---------+-------+-------------------+----------------------+----------------------+\n",
      "|Name                         |Sales|Series   |Release|Genre              |Developer             |Publisher             |\n",
      "+-----------------------------+-----+---------+-------+-------------------+----------------------+----------------------+\n",
      "|PlayerUnknown's Battlegrounds|42.0 |NULL     |Dec-17 |Battle royale      |PUBG Studios          |Krafton               |\n",
      "|Minecraft                    |33.0 |Minecraft|Nov-11 |Sandbox, survival  |Mojang Studios        |Mojang Studios        |\n",
      "|Diablo III                   |20.0 |Diablo   |May-12 |Action role-playing|Blizzard Entertainment|Blizzard Entertainment|\n",
      "+-----------------------------+-----+---------+-------+-------------------+----------------------+----------------------+\n",
      "only showing top 3 rows\n",
      "\n"
     ]
    }
   ],
   "source": [
    "df.show(3, truncate=False)"
   ]
  },
  {
   "cell_type": "code",
   "execution_count": 23,
   "id": "e815dc0b-d1d5-457b-b280-5d94f9c98e67",
   "metadata": {},
   "outputs": [
    {
     "name": "stdout",
     "output_type": "stream",
     "text": [
      "+--------------------+-----+---------+-------+-------------------+--------------------+--------------------+\n",
      "|                Name|Sales|   Series|Release|              Genre|           Developer|           Publisher|\n",
      "+--------------------+-----+---------+-------+-------------------+--------------------+--------------------+\n",
      "|PlayerUnknown's B...| 42.0|     NULL| Dec-17|      Battle royale|        PUBG Studios|             Krafton|\n",
      "|           Minecraft| 33.0|Minecraft| Nov-11|  Sandbox, survival|      Mojang Studios|      Mojang Studios|\n",
      "|          Diablo III| 20.0|   Diablo| May-12|Action role-playing|Blizzard Entertai...|Blizzard Entertai...|\n",
      "|         Garry's Mod| 20.0|     NULL| Nov-06|            Sandbox|   Facepunch Studios|               Valve|\n",
      "|            Terraria| 17.2|     NULL| May-11|   Action-adventure|            Re-Logic|            Re-Logic|\n",
      "+--------------------+-----+---------+-------+-------------------+--------------------+--------------------+\n",
      "\n"
     ]
    }
   ],
   "source": [
    "df.limit(5).show(10)"
   ]
  },
  {
   "cell_type": "markdown",
   "id": "ef3ba357-2fed-4e15-a1f7-8997075df13b",
   "metadata": {},
   "source": [
    "# Limit i collect"
   ]
  },
  {
   "cell_type": "code",
   "execution_count": 24,
   "id": "a7285144-1fcb-4053-a9af-55e09fbad480",
   "metadata": {},
   "outputs": [
    {
     "data": {
      "text/plain": [
       "[Row(Name=\"PlayerUnknown's Battlegrounds\", Sales=42.0, Series=None, Release='Dec-17', Genre='Battle royale', Developer='PUBG Studios', Publisher='Krafton')]"
      ]
     },
     "execution_count": 24,
     "metadata": {},
     "output_type": "execute_result"
    }
   ],
   "source": [
    "df.limit(1).collect()"
   ]
  },
  {
   "cell_type": "code",
   "execution_count": 27,
   "id": "4aff94d3-0408-4d55-91d6-78acdac91f9c",
   "metadata": {},
   "outputs": [
    {
     "data": {
      "text/plain": [
       "Row(Name=\"PlayerUnknown's Battlegrounds\", Sales=42.0, Series=None, Release='Dec-17', Genre='Battle royale', Developer='PUBG Studios', Publisher='Krafton')"
      ]
     },
     "execution_count": 27,
     "metadata": {},
     "output_type": "execute_result"
    }
   ],
   "source": [
    "df.limit(1).collect()[0]"
   ]
  },
  {
   "cell_type": "code",
   "execution_count": 28,
   "id": "ff01b0cc-ce67-4e02-b8be-baabef5c8351",
   "metadata": {},
   "outputs": [
    {
     "data": {
      "text/plain": [
       "42.0"
      ]
     },
     "execution_count": 28,
     "metadata": {},
     "output_type": "execute_result"
    }
   ],
   "source": [
    "df.limit(1).collect()[0][1]"
   ]
  },
  {
   "cell_type": "markdown",
   "id": "4513abb1-0317-449b-aab4-63465822a05e",
   "metadata": {},
   "source": [
    "# Dodawanie kolumny"
   ]
  },
  {
   "cell_type": "code",
   "execution_count": 34,
   "id": "8004e28b-6882-49be-986b-39909bfacea7",
   "metadata": {},
   "outputs": [],
   "source": [
    "df = df.withColumn('SalesX1000', col('sales') * 1000 )"
   ]
  },
  {
   "cell_type": "code",
   "execution_count": 35,
   "id": "f1f53d87-b682-4558-a9ef-52f4132ca357",
   "metadata": {},
   "outputs": [
    {
     "name": "stdout",
     "output_type": "stream",
     "text": [
      "+--------------------+-----+--------------------+-------+--------------------+--------------------+--------------------+----------+\n",
      "|                Name|Sales|              Series|Release|               Genre|           Developer|           Publisher|SalesX1000|\n",
      "+--------------------+-----+--------------------+-------+--------------------+--------------------+--------------------+----------+\n",
      "|PlayerUnknown's B...| 42.0|                NULL| Dec-17|       Battle royale|        PUBG Studios|             Krafton|   42000.0|\n",
      "|           Minecraft| 33.0|           Minecraft| Nov-11|   Sandbox, survival|      Mojang Studios|      Mojang Studios|   33000.0|\n",
      "|          Diablo III| 20.0|              Diablo| May-12| Action role-playing|Blizzard Entertai...|Blizzard Entertai...|   20000.0|\n",
      "|         Garry's Mod| 20.0|                NULL| Nov-06|             Sandbox|   Facepunch Studios|               Valve|   20000.0|\n",
      "|            Terraria| 17.2|                NULL| May-11|    Action-adventure|            Re-Logic|            Re-Logic|   17200.0|\n",
      "|   World of Warcraft| 14.0|            Warcraft| Nov-04|              MMORPG|Blizzard Entertai...|Blizzard Entertai...|   14000.0|\n",
      "|         Half-Life 2| 12.0|           Half-Life| Nov-04|First-person shooter|               Valve|     Valve (digital)|   12000.0|\n",
      "|The Witcher 3: Wi...| 12.0|         The Witcher| May-15| Action role-playing|      CD Projekt Red|          CD Projekt|   12000.0|\n",
      "|           StarCraft| 11.0|           StarCraft| Mar-98|  Real-time strategy|Blizzard Entertai...|Blizzard Entertai...|   11000.0|\n",
      "|            The Sims| 11.0|            The Sims| Feb-00|     Life simulation|               Maxis|     Electronic Arts|   11000.0|\n",
      "|           Fall Guys| 10.0|                NULL| Aug-20|       Battle royale|          Mediatonic|    Devolver Digital|   10000.0|\n",
      "|RollerCoaster Tyc...| 10.0|RollerCoaster Tycoon| Oct-04|Construction and ...|Frontier Developm...|Atari, Inc. (Wind...|   10000.0|\n",
      "|           Half-Life|  9.0|           Half-Life| Nov-98|First-person shooter|               Valve|Sierra Entertainment|    9000.0|\n",
      "|                Rust|  9.0|                NULL| Feb-18|            Survival|   Facepunch Studios|   Facepunch Studios|    9000.0|\n",
      "|      Civilization V|  8.0|        Civilization| Sep-10|Turn-based strate...|       Firaxis Games|    2K Games & Aspyr|    8000.0|\n",
      "|          The Sims 3|  7.0|            The Sims| Jun-09|     Life simulation|               Maxis|     Electronic Arts|    7000.0|\n",
      "|Euro Truck Simula...|  6.5|     Truck Simulator| Oct-12|  Vehicle simulation|        SCS Software|        SCS Software|    6500.0|\n",
      "|          Guild Wars|  6.0|          Guild Wars| Apr-05|              MMORPG|            ArenaNet|              NCsoft|    6000.0|\n",
      "|StarCraft II: Win...|  6.0|           StarCraft| Jul-10|  Real-time strategy|Blizzard Entertai...|Blizzard Entertai...|    6000.0|\n",
      "|          The Sims 2|  6.0|            The Sims| Sep-04|     Life simulation|               Maxis|     Electronic Arts|    6000.0|\n",
      "+--------------------+-----+--------------------+-------+--------------------+--------------------+--------------------+----------+\n",
      "only showing top 20 rows\n",
      "\n"
     ]
    }
   ],
   "source": [
    "df.show()"
   ]
  },
  {
   "cell_type": "markdown",
   "id": "0523613d-95c1-4d7f-8632-e8c0d811bf10",
   "metadata": {},
   "source": [
    "# Lista i słownik w DataFrame"
   ]
  },
  {
   "cell_type": "code",
   "execution_count": 36,
   "id": "37147afa-e8b6-41d5-8541-648cb62c0707",
   "metadata": {},
   "outputs": [],
   "source": [
    "from pyspark.sql import SparkSession\n",
    "from pyspark.sql.types import StructType, StructField, StringType, IntegerType, ArrayType, MapType, DateType, TimestampType\n",
    "from pyspark.sql.functions import (\n",
    "    col, size, lit, explode, \n",
    "    concat, concat_ws, substring, \n",
    "    datediff, date_add, date_sub,\n",
    "    year, month, dayofmonth, dayofweek, dayofyear, weekofyear, \n",
    "    hour, minute, second\n",
    ")"
   ]
  },
  {
   "cell_type": "code",
   "execution_count": 37,
   "id": "33f796ec-a7f2-4e00-9284-f813d7f7f485",
   "metadata": {},
   "outputs": [],
   "source": [
    "spark = SparkSession.builder.appName(\"spark\").getOrCreate()"
   ]
  },
  {
   "cell_type": "code",
   "execution_count": 38,
   "id": "6db3f835-819d-4ae6-a9b4-8d2cfb4eea7a",
   "metadata": {},
   "outputs": [],
   "source": [
    "schema = StructType(\n",
    "    [\n",
    "        StructField(\"id\", IntegerType(), False),\n",
    "        StructField(\"first\", StringType(), False),\n",
    "        StructField(\"last\", StringType(), False),\n",
    "        StructField(\"skills\", ArrayType(StringType()), False),\n",
    "        StructField(\"salary\", IntegerType(), False),\n",
    "        StructField(\"role\", MapType(StringType(), StringType()), False),\n",
    "        StructField(\"status\", StringType(), True)\n",
    "    ]\n",
    ")"
   ]
  },
  {
   "cell_type": "code",
   "execution_count": 39,
   "id": "ae36cf00-b399-4f35-9839-51c816fcd6a9",
   "metadata": {},
   "outputs": [],
   "source": [
    "emp = spark.createDataFrame(\n",
    "    [\n",
    "        (1, \"Adam\", \"Nowak\", [\"SQL\", \"Java\", \"GCP\"], 3500, {\"position\": \"Java Developer\", \"level\": \"1\"}, None),\n",
    "        (2, \"Jan\", \"Kowalski\", [\"SQL\", \"Java\", \"Azure\", \"Spring\"], 8000, {\"position\": \"Java Developer\", \"level\": \"3\"}, \"Active\"),\n",
    "        (3, \"Dominik\", \"Bajt\", [\"Python\", \"MongoDB\", \"Redis\"], 4000, {\"position\": \"Data Developer\", \"level\": \"1\"}, None),\n",
    "        (4, \"Ewa\", \"Piksel\", [\"SQL\", \"Python\", \"Pandas\", ], 4100, {\"position\": \"Data Scientist\", \"level\": \"1\"}, \"Fired\"),\n",
    "        (5, \"Krzysztof\", \"Zależność\", [\"Git\", \"CI/CD\", \"Docker\"], 8000, {\"position\": \"DevOps\", \"level\": \"2\"}, \"Active\"),\n",
    "        (6, \"Ewa\", \"Kierownik\", [\"Azure\", \"GCP\", \"AWS\", \"Linux\"], 12500, {\"position\": \"Cloud Architect\", \"level\": \"2\"}, \"Fired\"),\n",
    "        (7, \"Adam\", \"Kowalski\", [\"Git\", \"CI/CD\", \"Docker\", \"Linux\", \"Kubernetes\"], 10500, {\"position\": \"DevOps\", \"level\": \"3\"}, \"New\"),\n",
    "        (8, \"Dominika\", \"Praktyczna\", [\"SQL\", \"Java\", \"Python\"], 3000, {\"position\": \"Intern\", \"level\": \"0\"}, None),\n",
    "        (9, \"Jan\", \"Praktyczny\", [\"SQL\", \"Java\", \"Python\"], 3000, {\"position\": \"Intern\", \"level\": \"0\"}, \"Active\"),\n",
    "        (10, \"Mikołaj\", \"Sobieski\", [\"Python\", \"Django\", \"Flask\"], 7500, {\"position\": \"Python Developer\", \"level\": \"1\"}, \"New\")\n",
    "    ],\n",
    "    schema\n",
    ")"
   ]
  },
  {
   "cell_type": "code",
   "execution_count": 40,
   "id": "ee6457a0-0187-46a1-8198-8db16106b742",
   "metadata": {},
   "outputs": [
    {
     "name": "stdout",
     "output_type": "stream",
     "text": [
      "root\n",
      " |-- id: integer (nullable = false)\n",
      " |-- first: string (nullable = false)\n",
      " |-- last: string (nullable = false)\n",
      " |-- skills: array (nullable = false)\n",
      " |    |-- element: string (containsNull = true)\n",
      " |-- salary: integer (nullable = false)\n",
      " |-- role: map (nullable = false)\n",
      " |    |-- key: string\n",
      " |    |-- value: string (valueContainsNull = true)\n",
      " |-- status: string (nullable = true)\n",
      "\n"
     ]
    }
   ],
   "source": [
    "emp.printSchema()"
   ]
  },
  {
   "cell_type": "code",
   "execution_count": 44,
   "id": "f4caadbd-08e4-48be-a92b-e0abbe887f80",
   "metadata": {},
   "outputs": [
    {
     "name": "stdout",
     "output_type": "stream",
     "text": [
      "+---+-------+--------+--------------------------+------+----------------------------------------+------+\n",
      "|id |first  |last    |skills                    |salary|role                                    |status|\n",
      "+---+-------+--------+--------------------------+------+----------------------------------------+------+\n",
      "|1  |Adam   |Nowak   |[SQL, Java, GCP]          |3500  |{level -> 1, position -> Java Developer}|NULL  |\n",
      "|2  |Jan    |Kowalski|[SQL, Java, Azure, Spring]|8000  |{level -> 3, position -> Java Developer}|Active|\n",
      "|3  |Dominik|Bajt    |[Python, MongoDB, Redis]  |4000  |{level -> 1, position -> Data Developer}|NULL  |\n",
      "+---+-------+--------+--------------------------+------+----------------------------------------+------+\n",
      "\n"
     ]
    }
   ],
   "source": [
    "emp.limit(3).show(truncate=False)"
   ]
  },
  {
   "cell_type": "code",
   "execution_count": 46,
   "id": "b15e9fa6-1bf7-4cc6-88ad-65fbde97cdc9",
   "metadata": {},
   "outputs": [
    {
     "name": "stdout",
     "output_type": "stream",
     "text": [
      "+---+-------+--------+--------------------+------+--------------------+------+\n",
      "| id|  first|    last|              skills|salary|                role|status|\n",
      "+---+-------+--------+--------------------+------+--------------------+------+\n",
      "|  1|   Adam|   Nowak|    [SQL, Java, GCP]|  3500|{level -> 1, posi...|  NULL|\n",
      "|  2|    Jan|Kowalski|[SQL, Java, Azure...|  8000|{level -> 3, posi...|Active|\n",
      "|  3|Dominik|    Bajt|[Python, MongoDB,...|  4000|{level -> 1, posi...|  NULL|\n",
      "+---+-------+--------+--------------------+------+--------------------+------+\n",
      "\n"
     ]
    }
   ],
   "source": [
    "emp.limit(3).show()"
   ]
  },
  {
   "cell_type": "markdown",
   "id": "5ec1a7d2-b96c-4296-bc57-e1d5a3cf5f16",
   "metadata": {},
   "source": [
    "# 5.2. getItem oraz size"
   ]
  },
  {
   "cell_type": "code",
   "execution_count": 47,
   "id": "76527b36-8c38-47a6-a9eb-3459baaef6a1",
   "metadata": {},
   "outputs": [
    {
     "name": "stdout",
     "output_type": "stream",
     "text": [
      "+---------+-----------+\n",
      "|skills[1]|role[level]|\n",
      "+---------+-----------+\n",
      "|     Java|          1|\n",
      "|     Java|          3|\n",
      "|  MongoDB|          1|\n",
      "|   Python|          1|\n",
      "|    CI/CD|          2|\n",
      "|      GCP|          2|\n",
      "|    CI/CD|          3|\n",
      "|     Java|          0|\n",
      "|     Java|          0|\n",
      "|   Django|          1|\n",
      "+---------+-----------+\n",
      "\n"
     ]
    }
   ],
   "source": [
    "emp.select(\n",
    "    col(\"skills\")[1],\n",
    "    col(\"role\")[\"level\"]\n",
    ").show()"
   ]
  },
  {
   "cell_type": "code",
   "execution_count": 49,
   "id": "43a5e48e-cb00-41a0-bc6a-bad5f7997b67",
   "metadata": {},
   "outputs": [
    {
     "name": "stdout",
     "output_type": "stream",
     "text": [
      "+---------+----------------+\n",
      "|skills[1]|  role[position]|\n",
      "+---------+----------------+\n",
      "|     Java|  Java Developer|\n",
      "|     Java|  Java Developer|\n",
      "|  MongoDB|  Data Developer|\n",
      "|   Python|  Data Scientist|\n",
      "|    CI/CD|          DevOps|\n",
      "|      GCP| Cloud Architect|\n",
      "|    CI/CD|          DevOps|\n",
      "|     Java|          Intern|\n",
      "|     Java|          Intern|\n",
      "|   Django|Python Developer|\n",
      "+---------+----------------+\n",
      "\n"
     ]
    }
   ],
   "source": [
    "emp.select(\n",
    "    col(\"skills\").getItem(1),\n",
    "    col(\"role\").getItem('position'),\n",
    ").show()"
   ]
  },
  {
   "cell_type": "code",
   "execution_count": 50,
   "id": "e6cbc340-8d53-4c74-aefc-fa9210af9312",
   "metadata": {},
   "outputs": [
    {
     "name": "stdout",
     "output_type": "stream",
     "text": [
      "+---------+----------------+------------+----------+\n",
      "|skills[1]|  role[position]|size(skills)|size(role)|\n",
      "+---------+----------------+------------+----------+\n",
      "|     Java|  Java Developer|           3|         2|\n",
      "|     Java|  Java Developer|           4|         2|\n",
      "|  MongoDB|  Data Developer|           3|         2|\n",
      "|   Python|  Data Scientist|           3|         2|\n",
      "|    CI/CD|          DevOps|           3|         2|\n",
      "|      GCP| Cloud Architect|           4|         2|\n",
      "|    CI/CD|          DevOps|           5|         2|\n",
      "|     Java|          Intern|           3|         2|\n",
      "|     Java|          Intern|           3|         2|\n",
      "|   Django|Python Developer|           3|         2|\n",
      "+---------+----------------+------------+----------+\n",
      "\n"
     ]
    }
   ],
   "source": [
    "emp.select(\n",
    "    col(\"skills\").getItem(1),\n",
    "    col(\"role\").getItem('position'),\n",
    "    size(col('skills')),\n",
    "    size(col('role'))\n",
    ").show()"
   ]
  },
  {
   "cell_type": "markdown",
   "id": "1950c9e0-574a-4fd2-8cce-5655e155818a",
   "metadata": {},
   "source": [
    "# 5.3. lit i explode"
   ]
  },
  {
   "cell_type": "code",
   "execution_count": 53,
   "id": "8f1f6935-fd62-4ed2-b3ff-4e002ab031ac",
   "metadata": {},
   "outputs": [
    {
     "name": "stdout",
     "output_type": "stream",
     "text": [
      "+---+---------+----------+--------------------+------+--------------------+------+-------+\n",
      "| id|    first|      last|              skills|salary|                role|status|company|\n",
      "+---+---------+----------+--------------------+------+--------------------+------+-------+\n",
      "|  1|     Adam|     Nowak|    [SQL, Java, GCP]|  3500|{level -> 1, posi...|  NULL|Dziurex|\n",
      "|  2|      Jan|  Kowalski|[SQL, Java, Azure...|  8000|{level -> 3, posi...|Active|Dziurex|\n",
      "|  3|  Dominik|      Bajt|[Python, MongoDB,...|  4000|{level -> 1, posi...|  NULL|Dziurex|\n",
      "|  4|      Ewa|    Piksel|[SQL, Python, Pan...|  4100|{level -> 1, posi...| Fired|Dziurex|\n",
      "|  5|Krzysztof| Zależność|[Git, CI/CD, Docker]|  8000|{level -> 2, posi...|Active|Dziurex|\n",
      "|  6|      Ewa| Kierownik|[Azure, GCP, AWS,...| 12500|{level -> 2, posi...| Fired|Dziurex|\n",
      "|  7|     Adam|  Kowalski|[Git, CI/CD, Dock...| 10500|{level -> 3, posi...|   New|Dziurex|\n",
      "|  8| Dominika|Praktyczna| [SQL, Java, Python]|  3000|{level -> 0, posi...|  NULL|Dziurex|\n",
      "|  9|      Jan|Praktyczny| [SQL, Java, Python]|  3000|{level -> 0, posi...|Active|Dziurex|\n",
      "| 10|  Mikołaj|  Sobieski|[Python, Django, ...|  7500|{level -> 1, posi...|   New|Dziurex|\n",
      "+---+---------+----------+--------------------+------+--------------------+------+-------+\n",
      "\n"
     ]
    }
   ],
   "source": [
    "emp.withColumn(\"company\", lit('Dziurex')).show()"
   ]
  },
  {
   "cell_type": "code",
   "execution_count": 54,
   "id": "972f1b1f-44fd-4e9a-955e-27e1dd30f724",
   "metadata": {},
   "outputs": [
    {
     "name": "stdout",
     "output_type": "stream",
     "text": [
      "+---+-------+\n",
      "| id|    col|\n",
      "+---+-------+\n",
      "|  1|    SQL|\n",
      "|  1|   Java|\n",
      "|  1|    GCP|\n",
      "|  2|    SQL|\n",
      "|  2|   Java|\n",
      "|  2|  Azure|\n",
      "|  2| Spring|\n",
      "|  3| Python|\n",
      "|  3|MongoDB|\n",
      "|  3|  Redis|\n",
      "|  4|    SQL|\n",
      "|  4| Python|\n",
      "|  4| Pandas|\n",
      "|  5|    Git|\n",
      "|  5|  CI/CD|\n",
      "|  5| Docker|\n",
      "|  6|  Azure|\n",
      "|  6|    GCP|\n",
      "|  6|    AWS|\n",
      "|  6|  Linux|\n",
      "+---+-------+\n",
      "only showing top 20 rows\n",
      "\n"
     ]
    }
   ],
   "source": [
    "emp.select(\n",
    "    col('id'),\n",
    "    explode(col('skills'))\n",
    ").show()"
   ]
  },
  {
   "cell_type": "code",
   "execution_count": 55,
   "id": "c3e87f66-7a80-48aa-940b-42ecf11252d2",
   "metadata": {},
   "outputs": [
    {
     "name": "stdout",
     "output_type": "stream",
     "text": [
      "+---+--------+----------------+\n",
      "| id|     key|           value|\n",
      "+---+--------+----------------+\n",
      "|  1|   level|               1|\n",
      "|  1|position|  Java Developer|\n",
      "|  2|   level|               3|\n",
      "|  2|position|  Java Developer|\n",
      "|  3|   level|               1|\n",
      "|  3|position|  Data Developer|\n",
      "|  4|   level|               1|\n",
      "|  4|position|  Data Scientist|\n",
      "|  5|   level|               2|\n",
      "|  5|position|          DevOps|\n",
      "|  6|   level|               2|\n",
      "|  6|position| Cloud Architect|\n",
      "|  7|   level|               3|\n",
      "|  7|position|          DevOps|\n",
      "|  8|   level|               0|\n",
      "|  8|position|          Intern|\n",
      "|  9|   level|               0|\n",
      "|  9|position|          Intern|\n",
      "| 10|   level|               1|\n",
      "| 10|position|Python Developer|\n",
      "+---+--------+----------------+\n",
      "\n"
     ]
    }
   ],
   "source": [
    "emp.select(\n",
    "    col('id'),\n",
    "    explode(col('role'))\n",
    ").show()"
   ]
  },
  {
   "cell_type": "markdown",
   "id": "3bd42890-dbb6-47c7-901a-5cc603869c03",
   "metadata": {},
   "source": [
    "# 5.4. Konkatenacja"
   ]
  },
  {
   "cell_type": "code",
   "execution_count": 1,
   "id": "520cfab4-4ae8-4a94-a279-f77f0886cbdd",
   "metadata": {},
   "outputs": [],
   "source": [
    "from pyspark.sql import SparkSession\n",
    "from pyspark.sql.types import StructType, StructField, StringType, IntegerType, ArrayType, MapType, DateType, TimestampType\n",
    "from pyspark.sql.functions import (\n",
    "    col, size, lit, explode, \n",
    "    concat, concat_ws, substring, \n",
    "    datediff, date_add, date_sub,\n",
    "    year, month, dayofmonth, dayofweek, dayofyear, weekofyear, \n",
    "    hour, minute, second\n",
    ")\n",
    "\n",
    "spark = SparkSession.builder.appName(\"spark\").getOrCreate()"
   ]
  },
  {
   "cell_type": "code",
   "execution_count": 2,
   "id": "20b6bd55-cf42-4317-b576-f54126aa71ab",
   "metadata": {},
   "outputs": [],
   "source": [
    "schema = StructType(\n",
    "    [\n",
    "        StructField(\"id\", IntegerType(), False),\n",
    "        StructField(\"first\", StringType(), False),\n",
    "        StructField(\"last\", StringType(), False),\n",
    "        StructField(\"skills\", ArrayType(StringType()), False),\n",
    "        StructField(\"salary\", IntegerType(), False),\n",
    "        StructField(\"role\", MapType(StringType(), StringType()), False),\n",
    "        StructField(\"status\", StringType(), True)\n",
    "    ]\n",
    ")"
   ]
  },
  {
   "cell_type": "code",
   "execution_count": 3,
   "id": "604fe2c9-ec96-4cae-acd9-9e8958abf28e",
   "metadata": {},
   "outputs": [],
   "source": [
    "emp = spark.createDataFrame(\n",
    "    [\n",
    "        (1, \"Adam\", \"Nowak\", [\"SQL\", \"Java\", \"GCP\"], 3500, {\"position\": \"Java Developer\", \"level\": \"1\"}, None),\n",
    "        (2, \"Jan\", \"Kowalski\", [\"SQL\", \"Java\", \"Azure\", \"Spring\"], 8000, {\"position\": \"Java Developer\", \"level\": \"3\"}, \"Active\"),\n",
    "        (3, \"Dominik\", \"Bajt\", [\"Python\", \"MongoDB\", \"Redis\"], 4000, {\"position\": \"Data Developer\", \"level\": \"1\"}, None),\n",
    "        (4, \"Ewa\", \"Piksel\", [\"SQL\", \"Python\", \"Pandas\", ], 4100, {\"position\": \"Data Scientist\", \"level\": \"1\"}, \"Fired\"),\n",
    "        (5, \"Krzysztof\", \"Zależność\", [\"Git\", \"CI/CD\", \"Docker\"], 8000, {\"position\": \"DevOps\", \"level\": \"2\"}, \"Active\"),\n",
    "        (6, \"Ewa\", \"Kierownik\", [\"Azure\", \"GCP\", \"AWS\", \"Linux\"], 12500, {\"position\": \"Cloud Architect\", \"level\": \"2\"}, \"Fired\"),\n",
    "        (7, \"Adam\", \"Kowalski\", [\"Git\", \"CI/CD\", \"Docker\", \"Linux\", \"Kubernetes\"], 10500, {\"position\": \"DevOps\", \"level\": \"3\"}, \"New\"),\n",
    "        (8, \"Dominika\", \"Praktyczna\", [\"SQL\", \"Java\", \"Python\"], 3000, {\"position\": \"Intern\", \"level\": \"0\"}, None),\n",
    "        (9, \"Jan\", \"Praktyczny\", [\"SQL\", \"Java\", \"Python\"], 3000, {\"position\": \"Intern\", \"level\": \"0\"}, \"Active\"),\n",
    "        (10, \"Mikołaj\", \"Sobieski\", [\"Python\", \"Django\", \"Flask\"], 7500, {\"position\": \"Python Developer\", \"level\": \"1\"}, \"New\")\n",
    "    ],\n",
    "    schema\n",
    ")"
   ]
  },
  {
   "cell_type": "code",
   "execution_count": 6,
   "id": "afe14da4-e0fd-4d3b-9229-1f9cfcfd7a5e",
   "metadata": {},
   "outputs": [
    {
     "name": "stdout",
     "output_type": "stream",
     "text": [
      "+---+---------+----------+--------------------+------+--------------------+------+-------------------+\n",
      "| id|    first|      last|              skills|salary|                role|status|           employee|\n",
      "+---+---------+----------+--------------------+------+--------------------+------+-------------------+\n",
      "|  1|     Adam|     Nowak|    [SQL, Java, GCP]|  3500|{level -> 1, posi...|  NULL|         Adam Nowak|\n",
      "|  2|      Jan|  Kowalski|[SQL, Java, Azure...|  8000|{level -> 3, posi...|Active|       Jan Kowalski|\n",
      "|  3|  Dominik|      Bajt|[Python, MongoDB,...|  4000|{level -> 1, posi...|  NULL|       Dominik Bajt|\n",
      "|  4|      Ewa|    Piksel|[SQL, Python, Pan...|  4100|{level -> 1, posi...| Fired|         Ewa Piksel|\n",
      "|  5|Krzysztof| Zależność|[Git, CI/CD, Docker]|  8000|{level -> 2, posi...|Active|Krzysztof Zależność|\n",
      "|  6|      Ewa| Kierownik|[Azure, GCP, AWS,...| 12500|{level -> 2, posi...| Fired|      Ewa Kierownik|\n",
      "|  7|     Adam|  Kowalski|[Git, CI/CD, Dock...| 10500|{level -> 3, posi...|   New|      Adam Kowalski|\n",
      "|  8| Dominika|Praktyczna| [SQL, Java, Python]|  3000|{level -> 0, posi...|  NULL|Dominika Praktyczna|\n",
      "|  9|      Jan|Praktyczny| [SQL, Java, Python]|  3000|{level -> 0, posi...|Active|     Jan Praktyczny|\n",
      "| 10|  Mikołaj|  Sobieski|[Python, Django, ...|  7500|{level -> 1, posi...|   New|   Mikołaj Sobieski|\n",
      "+---+---------+----------+--------------------+------+--------------------+------+-------------------+\n",
      "\n"
     ]
    }
   ],
   "source": [
    "emp.withColumn(\"employee\", concat(col('first'), lit(' '), col('last'))).show()"
   ]
  },
  {
   "cell_type": "code",
   "execution_count": 7,
   "id": "a4e1a583-b3f4-46a7-9925-01c2355bbfd4",
   "metadata": {},
   "outputs": [
    {
     "name": "stdout",
     "output_type": "stream",
     "text": [
      "+-----------------------------+\n",
      "|concat_ws(,, id, first, last)|\n",
      "+-----------------------------+\n",
      "|                 1,Adam,Nowak|\n",
      "|               2,Jan,Kowalski|\n",
      "|               3,Dominik,Bajt|\n",
      "|                 4,Ewa,Piksel|\n",
      "|         5,Krzysztof,Zależ...|\n",
      "|              6,Ewa,Kierownik|\n",
      "|              7,Adam,Kowalski|\n",
      "|         8,Dominika,Prakty...|\n",
      "|             9,Jan,Praktyczny|\n",
      "|          10,Mikołaj,Sobieski|\n",
      "+-----------------------------+\n",
      "\n"
     ]
    }
   ],
   "source": [
    "emp.select(\n",
    "    concat_ws(',', col('id'), col('first'), col('last'))\n",
    ").show()"
   ]
  },
  {
   "cell_type": "markdown",
   "id": "1bf3d80e-c9e1-4e2d-8c78-c0c467aeceb3",
   "metadata": {},
   "source": [
    "# 5.5. substring"
   ]
  },
  {
   "cell_type": "code",
   "execution_count": 8,
   "id": "e4d5f1e8-70a4-4582-98ae-cd7989e15583",
   "metadata": {},
   "outputs": [],
   "source": [
    "from pyspark.sql import SparkSession\n",
    "from pyspark.sql.types import StructType, StructField, StringType, IntegerType, ArrayType, MapType, DateType, TimestampType\n",
    "from pyspark.sql.functions import (\n",
    "    col, size, lit, explode, \n",
    "    concat, concat_ws, substring, \n",
    "    datediff, date_add, date_sub,\n",
    "    year, month, dayofmonth, dayofweek, dayofyear, weekofyear, \n",
    "    hour, minute, second\n",
    ")\n",
    "\n",
    "spark = SparkSession.builder.appName(\"spark\").getOrCreate()"
   ]
  },
  {
   "cell_type": "code",
   "execution_count": 9,
   "id": "5b4039f0-f5a8-485e-aa44-3ba42fbeaade",
   "metadata": {},
   "outputs": [],
   "source": [
    "schema = StructType(\n",
    "    [\n",
    "        StructField(\"id\", IntegerType(), False),\n",
    "        StructField(\"first\", StringType(), False),\n",
    "        StructField(\"last\", StringType(), False),\n",
    "        StructField(\"skills\", ArrayType(StringType()), False),\n",
    "        StructField(\"salary\", IntegerType(), False),\n",
    "        StructField(\"role\", MapType(StringType(), StringType()), False),\n",
    "        StructField(\"status\", StringType(), True)\n",
    "    ]\n",
    ")"
   ]
  },
  {
   "cell_type": "code",
   "execution_count": 10,
   "id": "be2f9ad8-03d2-4572-b29b-4cf3b46cd022",
   "metadata": {},
   "outputs": [],
   "source": [
    "emp = spark.createDataFrame(\n",
    "    [\n",
    "        (1, \"Adam\", \"Nowak\", [\"SQL\", \"Java\", \"GCP\"], 3500, {\"position\": \"Java Developer\", \"level\": \"1\"}, None),\n",
    "        (2, \"Jan\", \"Kowalski\", [\"SQL\", \"Java\", \"Azure\", \"Spring\"], 8000, {\"position\": \"Java Developer\", \"level\": \"3\"}, \"Active\"),\n",
    "        (3, \"Dominik\", \"Bajt\", [\"Python\", \"MongoDB\", \"Redis\"], 4000, {\"position\": \"Data Developer\", \"level\": \"1\"}, None),\n",
    "        (4, \"Ewa\", \"Piksel\", [\"SQL\", \"Python\", \"Pandas\", ], 4100, {\"position\": \"Data Scientist\", \"level\": \"1\"}, \"Fired\"),\n",
    "        (5, \"Krzysztof\", \"Zależność\", [\"Git\", \"CI/CD\", \"Docker\"], 8000, {\"position\": \"DevOps\", \"level\": \"2\"}, \"Active\"),\n",
    "        (6, \"Ewa\", \"Kierownik\", [\"Azure\", \"GCP\", \"AWS\", \"Linux\"], 12500, {\"position\": \"Cloud Architect\", \"level\": \"2\"}, \"Fired\"),\n",
    "        (7, \"Adam\", \"Kowalski\", [\"Git\", \"CI/CD\", \"Docker\", \"Linux\", \"Kubernetes\"], 10500, {\"position\": \"DevOps\", \"level\": \"3\"}, \"New\"),\n",
    "        (8, \"Dominika\", \"Praktyczna\", [\"SQL\", \"Java\", \"Python\"], 3000, {\"position\": \"Intern\", \"level\": \"0\"}, None),\n",
    "        (9, \"Jan\", \"Praktyczny\", [\"SQL\", \"Java\", \"Python\"], 3000, {\"position\": \"Intern\", \"level\": \"0\"}, \"Active\"),\n",
    "        (10, \"Mikołaj\", \"Sobieski\", [\"Python\", \"Django\", \"Flask\"], 7500, {\"position\": \"Python Developer\", \"level\": \"1\"}, \"New\")\n",
    "    ],\n",
    "    schema\n",
    ")"
   ]
  },
  {
   "cell_type": "code",
   "execution_count": 14,
   "id": "06956a5e-aaf6-44ba-afcf-afb2361e7384",
   "metadata": {},
   "outputs": [
    {
     "name": "stdout",
     "output_type": "stream",
     "text": [
      "+----------------------+----------------------+\n",
      "|substring(first, 0, 2)|substring(first, 0, 2)|\n",
      "+----------------------+----------------------+\n",
      "|                    Ad|                    Ad|\n",
      "|                    Ja|                    Ja|\n",
      "|                    Do|                    Do|\n",
      "|                    Ew|                    Ew|\n",
      "|                    Kr|                    Kr|\n",
      "|                    Ew|                    Ew|\n",
      "|                    Ad|                    Ad|\n",
      "|                    Do|                    Do|\n",
      "|                    Ja|                    Ja|\n",
      "|                    Mi|                    Mi|\n",
      "+----------------------+----------------------+\n",
      "\n"
     ]
    }
   ],
   "source": [
    "emp.select(\n",
    "    substring(col('first'), 0, 2),\n",
    "    col('first')[0:2]\n",
    ").show()"
   ]
  },
  {
   "cell_type": "code",
   "execution_count": 17,
   "id": "9b2dbfc6-27f2-40c7-b653-1287b41c627e",
   "metadata": {},
   "outputs": [
    {
     "name": "stdout",
     "output_type": "stream",
     "text": [
      "+----------------------+----------------------+\n",
      "|substring(first, 5, 2)|substring(first, 5, 2)|\n",
      "+----------------------+----------------------+\n",
      "|                      |                      |\n",
      "|                      |                      |\n",
      "|                    ni|                    ni|\n",
      "|                      |                      |\n",
      "|                    sz|                    sz|\n",
      "|                      |                      |\n",
      "|                      |                      |\n",
      "|                    ni|                    ni|\n",
      "|                      |                      |\n",
      "|                    ła|                    ła|\n",
      "+----------------------+----------------------+\n",
      "\n"
     ]
    }
   ],
   "source": [
    "emp.select(\n",
    "    substring(col('first'), 5, 2),\n",
    "    col('first')[5:2]\n",
    ").show()"
   ]
  },
  {
   "cell_type": "markdown",
   "id": "5d7aec27-fa01-4099-9038-190021ebdab1",
   "metadata": {},
   "source": [
    "## 5.6. DateType i TimestampType"
   ]
  },
  {
   "cell_type": "code",
   "execution_count": 22,
   "id": "f1a5b96f-6280-45a9-b8d2-388343a619c8",
   "metadata": {},
   "outputs": [],
   "source": [
    "from pyspark.sql import SparkSession\n",
    "from pyspark.sql.types import StructType, StructField, StringType, IntegerType, ArrayType, MapType, DateType, TimestampType\n",
    "from pyspark.sql.functions import (\n",
    "    col, size, lit, explode, \n",
    "    concat, concat_ws, substring, \n",
    "    datediff, date_add, date_sub,\n",
    "    year, month, dayofmonth, dayofweek, dayofyear, weekofyear, \n",
    "    hour, minute, second\n",
    ")\n",
    "\n",
    "from datetime import datetime\n",
    "\n",
    "spark = SparkSession.builder.appName(\"spark\").getOrCreate()"
   ]
  },
  {
   "cell_type": "code",
   "execution_count": 27,
   "id": "26884da8-6e7e-411e-87b1-4e16a7c78014",
   "metadata": {},
   "outputs": [],
   "source": [
    "schema = StructType(\n",
    "    [\n",
    "        StructField(\"id\", IntegerType(), False),\n",
    "        StructField(\"first\", StringType(), False),\n",
    "        StructField(\"last\", StringType(), False),\n",
    "        StructField(\"skills\", ArrayType(StringType()), False),\n",
    "        StructField(\"salary\", IntegerType(), False),\n",
    "        StructField(\"role\", MapType(StringType(), StringType()), False),\n",
    "        StructField(\"status\", StringType(), True),\n",
    "        StructField(\"hire_date\", DateType(), True),\n",
    "        StructField(\"hire_timestamp\", TimestampType(), True)\n",
    "    ]\n",
    ")\n",
    "\n",
    "emp = spark.createDataFrame(\n",
    "    [\n",
    "        (1, \"Adam\", \"Nowak\", [\"SQL\", \"Java\", \"GCP\"], 3500, {\"position\": \"Java Developer\", \"level\": \"1\"}, None, \n",
    "         datetime(2023, 5, 1), datetime(2023, 5, 1, 12, 0, 0)),\n",
    "        (2, \"Jan\", \"Kowalski\", [\"SQL\", \"Java\", \"Azure\", \"Spring\"], 8000, {\"position\": \"Java Developer\", \"level\": \"3\"}, \"Active\", \n",
    "         datetime(2023, 5, 10), datetime(2023, 5, 10, 16, 0, 0)),\n",
    "        (3, \"Dominik\", \"Bajt\", [\"Python\", \"MongoDB\", \"Redis\"], 4000, {\"position\": \"Data Developer\", \"level\": \"1\"}, None, \n",
    "         datetime(2023, 5, 15), datetime(2023, 5, 15, 8, 0, 0)),\n",
    "        (4, \"Ewa\", \"Piksel\", [\"SQL\", \"Python\", \"Pandas\", ], 4100, {\"position\": \"Data Scientist\", \"level\": \"1\"}, \"Fired\", \n",
    "         datetime(2023, 6, 10), datetime(2023, 6, 1, 11, 0, 0)),\n",
    "        (5, \"Krzysztof\", \"Zależność\", [\"Git\", \"CI/CD\", \"Docker\"], 8000, {\"position\": \"DevOps\", \"level\": \"2\"}, \"Active\", \n",
    "         datetime(2023, 6, 15), datetime(2023, 6, 15, 11, 30, 0)),\n",
    "        (6, \"Ewa\", \"Kierownik\", [\"Azure\", \"GCP\", \"AWS\", \"Linux\"], 12500, {\"position\": \"Cloud Architect\", \"level\": \"2\"}, \"Fired\", \n",
    "         datetime(2023, 6, 20), datetime(2023, 6, 20, 12, 0)),\n",
    "        (7, \"Adam\", \"Kowalski\", [\"Git\", \"CI/CD\", \"Docker\", \"Linux\", \"Kubernetes\"], 10500, {\"position\": \"DevOps\", \"level\": \"3\"}, \"New\", \n",
    "         datetime(2023, 1, 20), datetime(2023, 1, 20, 9, 0)),\n",
    "        (8, \"Dominika\", \"Praktyczna\", [\"SQL\", \"Java\", \"Python\"], 3000, {\"position\": \"Intern\", \"level\": \"0\"}, None, \n",
    "         datetime(2023, 1, 30), datetime(2023, 1, 30, 7, 0)),\n",
    "        (9, \"Jan\", \"Praktyczny\", [\"SQL\", \"Java\", \"Python\"], 3000, {\"position\": \"Intern\", \"level\": \"0\"}, \"Active\", \n",
    "         datetime(2023, 3, 20), datetime(2023, 3, 20, 11, 45)),\n",
    "        (10, \"Mikołaj\", \"Sobieski\", [\"Python\", \"Django\", \"Flask\"], 7500, {\"position\": \"Python Developer\", \"level\": \"1\"}, \"New\", \n",
    "         datetime(2023, 1, 20), datetime(2023, 1, 20, 8, 35))\n",
    "    ],\n",
    "    schema\n",
    ")"
   ]
  },
  {
   "cell_type": "code",
   "execution_count": 28,
   "id": "b967493b-1b84-4db0-a4a9-869e3c598d4c",
   "metadata": {},
   "outputs": [
    {
     "name": "stdout",
     "output_type": "stream",
     "text": [
      "+---+---------+----------+--------------------+------+--------------------+------+----------+-------------------+\n",
      "| id|    first|      last|              skills|salary|                role|status| hire_date|     hire_timestamp|\n",
      "+---+---------+----------+--------------------+------+--------------------+------+----------+-------------------+\n",
      "|  1|     Adam|     Nowak|    [SQL, Java, GCP]|  3500|{level -> 1, posi...|  NULL|2023-05-01|2023-05-01 12:00:00|\n",
      "|  2|      Jan|  Kowalski|[SQL, Java, Azure...|  8000|{level -> 3, posi...|Active|2023-05-10|2023-05-10 16:00:00|\n",
      "|  3|  Dominik|      Bajt|[Python, MongoDB,...|  4000|{level -> 1, posi...|  NULL|2023-05-15|2023-05-15 08:00:00|\n",
      "|  4|      Ewa|    Piksel|[SQL, Python, Pan...|  4100|{level -> 1, posi...| Fired|2023-06-10|2023-06-01 11:00:00|\n",
      "|  5|Krzysztof| Zależność|[Git, CI/CD, Docker]|  8000|{level -> 2, posi...|Active|2023-06-15|2023-06-15 11:30:00|\n",
      "|  6|      Ewa| Kierownik|[Azure, GCP, AWS,...| 12500|{level -> 2, posi...| Fired|2023-06-20|2023-06-20 12:00:00|\n",
      "|  7|     Adam|  Kowalski|[Git, CI/CD, Dock...| 10500|{level -> 3, posi...|   New|2023-01-20|2023-01-20 09:00:00|\n",
      "|  8| Dominika|Praktyczna| [SQL, Java, Python]|  3000|{level -> 0, posi...|  NULL|2023-01-30|2023-01-30 07:00:00|\n",
      "|  9|      Jan|Praktyczny| [SQL, Java, Python]|  3000|{level -> 0, posi...|Active|2023-03-20|2023-03-20 11:45:00|\n",
      "| 10|  Mikołaj|  Sobieski|[Python, Django, ...|  7500|{level -> 1, posi...|   New|2023-01-20|2023-01-20 08:35:00|\n",
      "+---+---------+----------+--------------------+------+--------------------+------+----------+-------------------+\n",
      "\n"
     ]
    }
   ],
   "source": [
    "emp.show()"
   ]
  },
  {
   "cell_type": "markdown",
   "id": "598d1f69-d812-4d3a-a2f5-a39a51e53d34",
   "metadata": {},
   "source": [
    "## 5.7. datediff"
   ]
  },
  {
   "cell_type": "code",
   "execution_count": 31,
   "id": "4a2bc0b4-0285-4b8e-9737-2377f3013ff3",
   "metadata": {},
   "outputs": [
    {
     "name": "stdout",
     "output_type": "stream",
     "text": [
      "+----------------------------------------------------+----------------------------------------------------+\n",
      "|datediff(hire_date, TIMESTAMP '2023-09-01 00:00:00')|datediff(TIMESTAMP '2023-09-01 00:00:00', hire_date)|\n",
      "+----------------------------------------------------+----------------------------------------------------+\n",
      "|                                                -123|                                                 123|\n",
      "|                                                -114|                                                 114|\n",
      "|                                                -109|                                                 109|\n",
      "|                                                 -83|                                                  83|\n",
      "|                                                 -78|                                                  78|\n",
      "|                                                 -73|                                                  73|\n",
      "|                                                -224|                                                 224|\n",
      "|                                                -214|                                                 214|\n",
      "|                                                -165|                                                 165|\n",
      "|                                                -224|                                                 224|\n",
      "+----------------------------------------------------+----------------------------------------------------+\n",
      "\n"
     ]
    }
   ],
   "source": [
    "emp.select(\n",
    "    datediff(col('hire_date'), lit(datetime(2023, 9, 1))),\n",
    "    datediff(lit(datetime(2023, 9, 1)), col('hire_date')) \n",
    ").show()"
   ]
  },
  {
   "cell_type": "markdown",
   "id": "8f5babad-28c0-4d37-ba95-c078977dd743",
   "metadata": {},
   "source": [
    "## 5.8. date_add/date_sub"
   ]
  },
  {
   "cell_type": "code",
   "execution_count": 32,
   "id": "3a0261fd-9184-428d-900f-76647b71c180",
   "metadata": {},
   "outputs": [],
   "source": [
    "from pyspark.sql import SparkSession\n",
    "from pyspark.sql.types import StructType, StructField, StringType, IntegerType, ArrayType, MapType, DateType, TimestampType\n",
    "from pyspark.sql.functions import (\n",
    "    col, size, lit, explode, \n",
    "    concat, concat_ws, substring, \n",
    "    datediff, date_add, date_sub,\n",
    "    year, month, dayofmonth, dayofweek, dayofyear, weekofyear, \n",
    "    hour, minute, second\n",
    ")\n",
    "\n",
    "from datetime import datetime\n",
    "\n",
    "spark = SparkSession.builder.appName(\"spark\").getOrCreate()"
   ]
  },
  {
   "cell_type": "code",
   "execution_count": 33,
   "id": "78d19e72-781d-4aa2-bc81-5f00eb314045",
   "metadata": {},
   "outputs": [],
   "source": [
    "schema = StructType(\n",
    "    [\n",
    "        StructField(\"id\", IntegerType(), False),\n",
    "        StructField(\"first\", StringType(), False),\n",
    "        StructField(\"last\", StringType(), False),\n",
    "        StructField(\"skills\", ArrayType(StringType()), False),\n",
    "        StructField(\"salary\", IntegerType(), False),\n",
    "        StructField(\"role\", MapType(StringType(), StringType()), False),\n",
    "        StructField(\"status\", StringType(), True),\n",
    "        StructField(\"hire_date\", DateType(), True),\n",
    "        StructField(\"hire_timestamp\", TimestampType(), True)\n",
    "    ]\n",
    ")\n",
    "\n",
    "emp = spark.createDataFrame(\n",
    "    [\n",
    "        (1, \"Adam\", \"Nowak\", [\"SQL\", \"Java\", \"GCP\"], 3500, {\"position\": \"Java Developer\", \"level\": \"1\"}, None, \n",
    "         datetime(2023, 5, 1), datetime(2023, 5, 1, 12, 0, 0)),\n",
    "        (2, \"Jan\", \"Kowalski\", [\"SQL\", \"Java\", \"Azure\", \"Spring\"], 8000, {\"position\": \"Java Developer\", \"level\": \"3\"}, \"Active\", \n",
    "         datetime(2023, 5, 10), datetime(2023, 5, 10, 16, 0, 0)),\n",
    "        (3, \"Dominik\", \"Bajt\", [\"Python\", \"MongoDB\", \"Redis\"], 4000, {\"position\": \"Data Developer\", \"level\": \"1\"}, None, \n",
    "         datetime(2023, 5, 15), datetime(2023, 5, 15, 8, 0, 0)),\n",
    "        (4, \"Ewa\", \"Piksel\", [\"SQL\", \"Python\", \"Pandas\", ], 4100, {\"position\": \"Data Scientist\", \"level\": \"1\"}, \"Fired\", \n",
    "         datetime(2023, 6, 10), datetime(2023, 6, 1, 11, 0, 0)),\n",
    "        (5, \"Krzysztof\", \"Zależność\", [\"Git\", \"CI/CD\", \"Docker\"], 8000, {\"position\": \"DevOps\", \"level\": \"2\"}, \"Active\", \n",
    "         datetime(2023, 6, 15), datetime(2023, 6, 15, 11, 30, 0)),\n",
    "        (6, \"Ewa\", \"Kierownik\", [\"Azure\", \"GCP\", \"AWS\", \"Linux\"], 12500, {\"position\": \"Cloud Architect\", \"level\": \"2\"}, \"Fired\", \n",
    "         datetime(2023, 6, 20), datetime(2023, 6, 20, 12, 0)),\n",
    "        (7, \"Adam\", \"Kowalski\", [\"Git\", \"CI/CD\", \"Docker\", \"Linux\", \"Kubernetes\"], 10500, {\"position\": \"DevOps\", \"level\": \"3\"}, \"New\", \n",
    "         datetime(2023, 1, 20), datetime(2023, 1, 20, 9, 0)),\n",
    "        (8, \"Dominika\", \"Praktyczna\", [\"SQL\", \"Java\", \"Python\"], 3000, {\"position\": \"Intern\", \"level\": \"0\"}, None, \n",
    "         datetime(2023, 1, 30), datetime(2023, 1, 30, 7, 0)),\n",
    "        (9, \"Jan\", \"Praktyczny\", [\"SQL\", \"Java\", \"Python\"], 3000, {\"position\": \"Intern\", \"level\": \"0\"}, \"Active\", \n",
    "         datetime(2023, 3, 20), datetime(2023, 3, 20, 11, 45)),\n",
    "        (10, \"Mikołaj\", \"Sobieski\", [\"Python\", \"Django\", \"Flask\"], 7500, {\"position\": \"Python Developer\", \"level\": \"1\"}, \"New\", \n",
    "         datetime(2023, 1, 20), datetime(2023, 1, 20, 8, 35))\n",
    "    ],\n",
    "    schema\n",
    ")"
   ]
  },
  {
   "cell_type": "code",
   "execution_count": 36,
   "id": "11d5fbfe-9853-4597-8cb4-4133d82c2cca",
   "metadata": {},
   "outputs": [
    {
     "name": "stdout",
     "output_type": "stream",
     "text": [
      "+----------+-----------------------+-----------------------+\n",
      "| hire_date|date_add(hire_date, 10)|date_sub(hire_date, 30)|\n",
      "+----------+-----------------------+-----------------------+\n",
      "|2023-05-01|             2023-05-11|             2023-04-01|\n",
      "|2023-05-10|             2023-05-20|             2023-04-10|\n",
      "|2023-05-15|             2023-05-25|             2023-04-15|\n",
      "|2023-06-10|             2023-06-20|             2023-05-11|\n",
      "|2023-06-15|             2023-06-25|             2023-05-16|\n",
      "|2023-06-20|             2023-06-30|             2023-05-21|\n",
      "|2023-01-20|             2023-01-30|             2022-12-21|\n",
      "|2023-01-30|             2023-02-09|             2022-12-31|\n",
      "|2023-03-20|             2023-03-30|             2023-02-18|\n",
      "|2023-01-20|             2023-01-30|             2022-12-21|\n",
      "+----------+-----------------------+-----------------------+\n",
      "\n"
     ]
    }
   ],
   "source": [
    "emp.select(\n",
    "    col('hire_date'),\n",
    "    date_add(col('hire_date'), 10),\n",
    "    date_sub(col('hire_date'), 30)\n",
    ").show()"
   ]
  },
  {
   "cell_type": "code",
   "execution_count": 37,
   "id": "2d5aaddc-3e81-48bf-ac31-a3c5f6982c19",
   "metadata": {},
   "outputs": [
    {
     "name": "stdout",
     "output_type": "stream",
     "text": [
      "+----------+------------------------+------------------------+\n",
      "| hire_date|date_add(hire_date, -10)|date_sub(hire_date, -30)|\n",
      "+----------+------------------------+------------------------+\n",
      "|2023-05-01|              2023-04-21|              2023-05-31|\n",
      "|2023-05-10|              2023-04-30|              2023-06-09|\n",
      "|2023-05-15|              2023-05-05|              2023-06-14|\n",
      "|2023-06-10|              2023-05-31|              2023-07-10|\n",
      "|2023-06-15|              2023-06-05|              2023-07-15|\n",
      "|2023-06-20|              2023-06-10|              2023-07-20|\n",
      "|2023-01-20|              2023-01-10|              2023-02-19|\n",
      "|2023-01-30|              2023-01-20|              2023-03-01|\n",
      "|2023-03-20|              2023-03-10|              2023-04-19|\n",
      "|2023-01-20|              2023-01-10|              2023-02-19|\n",
      "+----------+------------------------+------------------------+\n",
      "\n"
     ]
    }
   ],
   "source": [
    "emp.select(\n",
    "    col('hire_date'),\n",
    "    date_add(col('hire_date'), -10),\n",
    "    date_sub(col('hire_date'), -30)\n",
    ").show()"
   ]
  },
  {
   "cell_type": "markdown",
   "id": "dd6abf24-1cc2-488c-a371-8b7da00c868e",
   "metadata": {},
   "source": [
    "## 5.9. Ekstrakcja danej jednostki czasu"
   ]
  },
  {
   "cell_type": "code",
   "execution_count": 44,
   "id": "6a5a279f-3000-4594-9f55-130d87663cc0",
   "metadata": {},
   "outputs": [],
   "source": [
    "from pyspark.sql import SparkSession\n",
    "from pyspark.sql.types import StructType, StructField, StringType, IntegerType, ArrayType, MapType, DateType, TimestampType\n",
    "from pyspark.sql.functions import (\n",
    "    col, size, lit, explode, \n",
    "    concat, concat_ws, substring, \n",
    "    datediff, date_add, date_sub,\n",
    "    year, month, dayofmonth, dayofweek, dayofyear, weekofyear, \n",
    "    hour, minute, second\n",
    ")\n",
    "\n",
    "from datetime import datetime\n",
    "\n",
    "spark = SparkSession.builder.appName(\"spark\").getOrCreate()"
   ]
  },
  {
   "cell_type": "code",
   "execution_count": 45,
   "id": "3e6fc92c-c229-4231-be44-31909bb029a1",
   "metadata": {},
   "outputs": [],
   "source": [
    "schema = StructType(\n",
    "    [\n",
    "        StructField(\"id\", IntegerType(), False),\n",
    "        StructField(\"first\", StringType(), False),\n",
    "        StructField(\"last\", StringType(), False),\n",
    "        StructField(\"skills\", ArrayType(StringType()), False),\n",
    "        StructField(\"salary\", IntegerType(), False),\n",
    "        StructField(\"role\", MapType(StringType(), StringType()), False),\n",
    "        StructField(\"status\", StringType(), True),\n",
    "        StructField(\"hire_date\", DateType(), True),\n",
    "        StructField(\"hire_timestamp\", TimestampType(), True)\n",
    "    ]\n",
    ")\n",
    "\n",
    "emp = spark.createDataFrame(\n",
    "    [\n",
    "        (1, \"Adam\", \"Nowak\", [\"SQL\", \"Java\", \"GCP\"], 3500, {\"position\": \"Java Developer\", \"level\": \"1\"}, None, \n",
    "         datetime(2023, 5, 1), datetime(2023, 5, 1, 12, 0, 0)),\n",
    "        (2, \"Jan\", \"Kowalski\", [\"SQL\", \"Java\", \"Azure\", \"Spring\"], 8000, {\"position\": \"Java Developer\", \"level\": \"3\"}, \"Active\", \n",
    "         datetime(2023, 5, 10), datetime(2023, 5, 10, 16, 0, 0)),\n",
    "        (3, \"Dominik\", \"Bajt\", [\"Python\", \"MongoDB\", \"Redis\"], 4000, {\"position\": \"Data Developer\", \"level\": \"1\"}, None, \n",
    "         datetime(2023, 5, 15), datetime(2023, 5, 15, 8, 0, 0)),\n",
    "        (4, \"Ewa\", \"Piksel\", [\"SQL\", \"Python\", \"Pandas\", ], 4100, {\"position\": \"Data Scientist\", \"level\": \"1\"}, \"Fired\", \n",
    "         datetime(2023, 6, 10), datetime(2023, 6, 1, 11, 0, 0)),\n",
    "        (5, \"Krzysztof\", \"Zależność\", [\"Git\", \"CI/CD\", \"Docker\"], 8000, {\"position\": \"DevOps\", \"level\": \"2\"}, \"Active\", \n",
    "         datetime(2023, 6, 15), datetime(2023, 6, 15, 11, 30, 0)),\n",
    "        (6, \"Ewa\", \"Kierownik\", [\"Azure\", \"GCP\", \"AWS\", \"Linux\"], 12500, {\"position\": \"Cloud Architect\", \"level\": \"2\"}, \"Fired\", \n",
    "         datetime(2023, 6, 20), datetime(2023, 6, 20, 12, 0)),\n",
    "        (7, \"Adam\", \"Kowalski\", [\"Git\", \"CI/CD\", \"Docker\", \"Linux\", \"Kubernetes\"], 10500, {\"position\": \"DevOps\", \"level\": \"3\"}, \"New\", \n",
    "         datetime(2023, 1, 20), datetime(2023, 1, 20, 9, 0)),\n",
    "        (8, \"Dominika\", \"Praktyczna\", [\"SQL\", \"Java\", \"Python\"], 3000, {\"position\": \"Intern\", \"level\": \"0\"}, None, \n",
    "         datetime(2023, 1, 30), datetime(2023, 1, 30, 7, 0)),\n",
    "        (9, \"Jan\", \"Praktyczny\", [\"SQL\", \"Java\", \"Python\"], 3000, {\"position\": \"Intern\", \"level\": \"0\"}, \"Active\", \n",
    "         datetime(2023, 3, 20), datetime(2023, 3, 20, 11, 45)),\n",
    "        (10, \"Mikołaj\", \"Sobieski\", [\"Python\", \"Django\", \"Flask\"], 7500, {\"position\": \"Python Developer\", \"level\": \"1\"}, \"New\", \n",
    "         datetime(2023, 1, 20), datetime(2023, 1, 20, 8, 35))\n",
    "    ],\n",
    "    schema\n",
    ")"
   ]
  },
  {
   "cell_type": "code",
   "execution_count": 50,
   "id": "5610bc75-387d-4325-b677-8fe3b21f91c2",
   "metadata": {},
   "outputs": [
    {
     "name": "stdout",
     "output_type": "stream",
     "text": [
      "+---+-------+--------+--------------------+------+--------------------+------+----------+-------------------+----+-----------+------------+----+\n",
      "| id|  first|    last|              skills|salary|                role|status| hire_date|     hire_timestamp|year|day_of_week|week_of_year|hour|\n",
      "+---+-------+--------+--------------------+------+--------------------+------+----------+-------------------+----+-----------+------------+----+\n",
      "|  1|   Adam|   Nowak|    [SQL, Java, GCP]|  3500|{level -> 1, posi...|  NULL|2023-05-01|2023-05-01 12:00:00|2023|          2|          18|  12|\n",
      "|  2|    Jan|Kowalski|[SQL, Java, Azure...|  8000|{level -> 3, posi...|Active|2023-05-10|2023-05-10 16:00:00|2023|          4|          19|  16|\n",
      "|  3|Dominik|    Bajt|[Python, MongoDB,...|  4000|{level -> 1, posi...|  NULL|2023-05-15|2023-05-15 08:00:00|2023|          2|          20|   8|\n",
      "+---+-------+--------+--------------------+------+--------------------+------+----------+-------------------+----+-----------+------------+----+\n",
      "\n"
     ]
    }
   ],
   "source": [
    "(\n",
    "    emp\n",
    "    .withColumn( 'year', year(col('hire_timestamp')) )\n",
    "    .withColumn( 'day_of_week', dayofweek(col('hire_timestamp')) )\n",
    "    .withColumn( 'week_of_year', weekofyear(col('hire_timestamp')) )\n",
    "    .withColumn( 'hour', hour(col('hire_timestamp')) )\n",
    "    .limit(3)\n",
    "    .show()\n",
    ")"
   ]
  },
  {
   "cell_type": "markdown",
   "id": "8312ed68-8dd3-407d-a1b9-87fac61a7620",
   "metadata": {},
   "source": [
    "# Filtrowanie danych"
   ]
  },
  {
   "cell_type": "markdown",
   "id": "1730beb5-f9d3-4717-8339-d0984506948c",
   "metadata": {},
   "source": [
    "## 6.1. Unikatowe wiersze"
   ]
  },
  {
   "cell_type": "code",
   "execution_count": 51,
   "id": "de5cb9e4-7c9f-4d11-a7ba-e87d469eeceb",
   "metadata": {},
   "outputs": [],
   "source": [
    "from pyspark.sql import SparkSession\n",
    "from pyspark.sql.types import StructType, StructField, StringType, IntegerType, ArrayType, MapType, DateType, TimestampType\n",
    "from pyspark.sql.functions import (\n",
    "    col, size, lit, explode, \n",
    "    concat, concat_ws, substring, \n",
    "    datediff, date_add, date_sub,\n",
    "    year, month, dayofmonth, dayofweek, dayofyear, weekofyear, \n",
    "    hour, minute, second\n",
    ")\n",
    "\n",
    "from datetime import datetime\n",
    "\n",
    "spark = SparkSession.builder.appName(\"spark\").getOrCreate()"
   ]
  },
  {
   "cell_type": "code",
   "execution_count": 52,
   "id": "9d011e3c-4c83-43fa-87d6-538ce7a89134",
   "metadata": {},
   "outputs": [],
   "source": [
    "schema = StructType(\n",
    "    [\n",
    "        StructField(\"id\", IntegerType(), False),\n",
    "        StructField(\"first\", StringType(), False),\n",
    "        StructField(\"last\", StringType(), False),\n",
    "        StructField(\"skills\", ArrayType(StringType()), False),\n",
    "        StructField(\"salary\", IntegerType(), False),\n",
    "        StructField(\"role\", MapType(StringType(), StringType()), False),\n",
    "        StructField(\"status\", StringType(), True),\n",
    "        StructField(\"hire_date\", DateType(), True),\n",
    "        StructField(\"hire_timestamp\", TimestampType(), True)\n",
    "    ]\n",
    ")\n",
    "\n",
    "emp = spark.createDataFrame(\n",
    "    [\n",
    "        (1, \"Adam\", \"Nowak\", [\"SQL\", \"Java\", \"GCP\"], 3500, {\"position\": \"Java Developer\", \"level\": \"1\"}, None, \n",
    "         datetime(2023, 5, 1), datetime(2023, 5, 1, 12, 0, 0)),\n",
    "        (2, \"Jan\", \"Kowalski\", [\"SQL\", \"Java\", \"Azure\", \"Spring\"], 8000, {\"position\": \"Java Developer\", \"level\": \"3\"}, \"Active\", \n",
    "         datetime(2023, 5, 10), datetime(2023, 5, 10, 16, 0, 0)),\n",
    "        (3, \"Dominik\", \"Bajt\", [\"Python\", \"MongoDB\", \"Redis\"], 4000, {\"position\": \"Data Developer\", \"level\": \"1\"}, None, \n",
    "         datetime(2023, 5, 15), datetime(2023, 5, 15, 8, 0, 0)),\n",
    "        (4, \"Ewa\", \"Piksel\", [\"SQL\", \"Python\", \"Pandas\", ], 4100, {\"position\": \"Data Scientist\", \"level\": \"1\"}, \"Fired\", \n",
    "         datetime(2023, 6, 10), datetime(2023, 6, 1, 11, 0, 0)),\n",
    "        (5, \"Krzysztof\", \"Zależność\", [\"Git\", \"CI/CD\", \"Docker\"], 8000, {\"position\": \"DevOps\", \"level\": \"2\"}, \"Active\", \n",
    "         datetime(2023, 6, 15), datetime(2023, 6, 15, 11, 30, 0)),\n",
    "        (6, \"Ewa\", \"Kierownik\", [\"Azure\", \"GCP\", \"AWS\", \"Linux\"], 12500, {\"position\": \"Cloud Architect\", \"level\": \"2\"}, \"Fired\", \n",
    "         datetime(2023, 6, 20), datetime(2023, 6, 20, 12, 0)),\n",
    "        (7, \"Adam\", \"Kowalski\", [\"Git\", \"CI/CD\", \"Docker\", \"Linux\", \"Kubernetes\"], 10500, {\"position\": \"DevOps\", \"level\": \"3\"}, \"New\", \n",
    "         datetime(2023, 1, 20), datetime(2023, 1, 20, 9, 0)),\n",
    "        (8, \"Dominika\", \"Praktyczna\", [\"SQL\", \"Java\", \"Python\"], 3000, {\"position\": \"Intern\", \"level\": \"0\"}, None, \n",
    "         datetime(2023, 1, 30), datetime(2023, 1, 30, 7, 0)),\n",
    "        (9, \"Jan\", \"Praktyczny\", [\"SQL\", \"Java\", \"Python\"], 3000, {\"position\": \"Intern\", \"level\": \"0\"}, \"Active\", \n",
    "         datetime(2023, 3, 20), datetime(2023, 3, 20, 11, 45)),\n",
    "        (10, \"Mikołaj\", \"Sobieski\", [\"Python\", \"Django\", \"Flask\"], 7500, {\"position\": \"Python Developer\", \"level\": \"1\"}, \"New\", \n",
    "         datetime(2023, 1, 20), datetime(2023, 1, 20, 8, 35))\n",
    "    ],\n",
    "    schema\n",
    ")"
   ]
  },
  {
   "cell_type": "code",
   "execution_count": 55,
   "id": "511108ad-ac13-4705-ad8b-ae457202cf64",
   "metadata": {},
   "outputs": [
    {
     "name": "stdout",
     "output_type": "stream",
     "text": [
      "root\n",
      " |-- id: integer (nullable = false)\n",
      " |-- first: string (nullable = false)\n",
      " |-- last: string (nullable = false)\n",
      " |-- skills: array (nullable = false)\n",
      " |    |-- element: string (containsNull = true)\n",
      " |-- salary: integer (nullable = false)\n",
      " |-- role: map (nullable = false)\n",
      " |    |-- key: string\n",
      " |    |-- value: string (valueContainsNull = true)\n",
      " |-- status: string (nullable = true)\n",
      " |-- hire_date: date (nullable = true)\n",
      " |-- hire_timestamp: timestamp (nullable = true)\n",
      "\n"
     ]
    }
   ],
   "source": [
    "emp.printSchema()"
   ]
  },
  {
   "cell_type": "code",
   "execution_count": 56,
   "id": "0563e7d9-517d-4b4a-b19c-6bccf72d1558",
   "metadata": {},
   "outputs": [],
   "source": [
    "games = spark.read.csv('data/Games.csv', header=True).select(col('Series'), col('Developer'), col('Publisher')).orderBy(col('Developer'))"
   ]
  },
  {
   "cell_type": "code",
   "execution_count": 60,
   "id": "37013893-4276-4d83-94f6-08171a973124",
   "metadata": {},
   "outputs": [
    {
     "name": "stdout",
     "output_type": "stream",
     "text": [
      "+------------------+----------------------+-----------------------+\n",
      "|Series            |Developer             |Publisher              |\n",
      "+------------------+----------------------+-----------------------+\n",
      "|Duke Nukem        |3D Realms             |GT Interactive Software|\n",
      "|NULL              |Amanita Design        |Amanita Design         |\n",
      "|Guild Wars        |ArenaNet              |NCsoft                 |\n",
      "|Guild Wars        |ArenaNet              |NCsoft                 |\n",
      "|NULL              |Arrowhead Game Studios|Paradox Interactive    |\n",
      "|The Patrician     |Ascaron               |Encore                 |\n",
      "|Sacred            |Ascaron               |Encore                 |\n",
      "|Baldur's Gate     |BioWare               |Interplay Entertainment|\n",
      "|Baldur's Gate     |BioWare               |Interplay Entertainment|\n",
      "|Neverwinter Nights|BioWare               |Infogrames / Atari     |\n",
      "+------------------+----------------------+-----------------------+\n",
      "\n"
     ]
    }
   ],
   "source": [
    "games.limit(10).show(truncate=False)"
   ]
  },
  {
   "cell_type": "code",
   "execution_count": 63,
   "id": "faf030fc-6374-46bb-a2ae-fe76fa816c61",
   "metadata": {},
   "outputs": [
    {
     "name": "stdout",
     "output_type": "stream",
     "text": [
      "+------------------+----------------------+-----------------------+\n",
      "|Series            |Developer             |Publisher              |\n",
      "+------------------+----------------------+-----------------------+\n",
      "|Duke Nukem        |3D Realms             |GT Interactive Software|\n",
      "|NULL              |Amanita Design        |Amanita Design         |\n",
      "|Guild Wars        |ArenaNet              |NCsoft                 |\n",
      "|NULL              |Arrowhead Game Studios|Paradox Interactive    |\n",
      "|Sacred            |Ascaron               |Encore                 |\n",
      "|The Patrician     |Ascaron               |Encore                 |\n",
      "|Neverwinter Nights|BioWare               |Infogrames / Atari     |\n",
      "|Baldur's Gate     |BioWare               |Interplay Entertainment|\n",
      "|Diablo            |Blizzard Entertainment|Blizzard Entertainment |\n",
      "|Warcraft          |Blizzard Entertainment|Blizzard Entertainment |\n",
      "+------------------+----------------------+-----------------------+\n",
      "\n"
     ]
    }
   ],
   "source": [
    "games.distinct().orderBy(col('Developer')).limit(10).show(truncate=False)"
   ]
  },
  {
   "cell_type": "code",
   "execution_count": 64,
   "id": "4fa623e4-1e74-4ee8-b4ad-11103b323484",
   "metadata": {},
   "outputs": [
    {
     "name": "stdout",
     "output_type": "stream",
     "text": [
      "+------------------+----------------------+-----------------------+\n",
      "|Series            |Developer             |Publisher              |\n",
      "+------------------+----------------------+-----------------------+\n",
      "|Duke Nukem        |3D Realms             |GT Interactive Software|\n",
      "|NULL              |Amanita Design        |Amanita Design         |\n",
      "|Guild Wars        |ArenaNet              |NCsoft                 |\n",
      "|NULL              |Arrowhead Game Studios|Paradox Interactive    |\n",
      "|Sacred            |Ascaron               |Encore                 |\n",
      "|The Patrician     |Ascaron               |Encore                 |\n",
      "|Neverwinter Nights|BioWare               |Infogrames / Atari     |\n",
      "|Baldur's Gate     |BioWare               |Interplay Entertainment|\n",
      "|Diablo            |Blizzard Entertainment|Blizzard Entertainment |\n",
      "|Warcraft          |Blizzard Entertainment|Blizzard Entertainment |\n",
      "+------------------+----------------------+-----------------------+\n",
      "\n"
     ]
    }
   ],
   "source": [
    "games.dropDuplicates().orderBy(col('Developer')).limit(10).show(truncate=False)"
   ]
  },
  {
   "cell_type": "code",
   "execution_count": 65,
   "id": "3955ad52-c4c4-46f3-8127-acf5845996f7",
   "metadata": {},
   "outputs": [
    {
     "name": "stdout",
     "output_type": "stream",
     "text": [
      "+------------------+----------------------+-----------------------+\n",
      "|Series            |Developer             |Publisher              |\n",
      "+------------------+----------------------+-----------------------+\n",
      "|Duke Nukem        |3D Realms             |GT Interactive Software|\n",
      "|NULL              |Amanita Design        |Amanita Design         |\n",
      "|Guild Wars        |ArenaNet              |NCsoft                 |\n",
      "|The Patrician     |Ascaron               |Encore                 |\n",
      "|Sacred            |Ascaron               |Encore                 |\n",
      "|Baldur's Gate     |BioWare               |Interplay Entertainment|\n",
      "|Neverwinter Nights|BioWare               |Infogrames / Atari     |\n",
      "|StarCraft         |Blizzard Entertainment|Blizzard Entertainment |\n",
      "|Warcraft          |Blizzard Entertainment|Blizzard Entertainment |\n",
      "|Diablo            |Blizzard Entertainment|Blizzard Entertainment |\n",
      "+------------------+----------------------+-----------------------+\n",
      "\n"
     ]
    }
   ],
   "source": [
    "games.dropDuplicates(['Series']).orderBy(col('Developer')).limit(10).show(truncate=False)"
   ]
  },
  {
   "cell_type": "markdown",
   "id": "44f30eb5-fa47-48f1-9714-b66c2c7c10cd",
   "metadata": {},
   "source": [
    "## 6.2. Filtrowanie danych cz. 1"
   ]
  },
  {
   "cell_type": "code",
   "execution_count": null,
   "id": "f5fc93d5-3853-4557-adb4-76c30bc8646e",
   "metadata": {},
   "outputs": [],
   "source": [
    "# data/best_selling_books.csv"
   ]
  },
  {
   "cell_type": "code",
   "execution_count": 66,
   "id": "11265a65-6076-48ae-906d-00b0590dc32e",
   "metadata": {},
   "outputs": [],
   "source": [
    "from pyspark.sql import SparkSession\n",
    "from pyspark.sql.types import StructType, StructField, StringType, IntegerType, ArrayType, MapType, DateType, TimestampType\n",
    "from pyspark.sql.functions import (\n",
    "    col, size, lit, explode, \n",
    "    concat, concat_ws, substring, \n",
    "    datediff, date_add, date_sub,\n",
    "    year, month, dayofmonth, dayofweek, dayofyear, weekofyear, \n",
    "    hour, minute, second\n",
    ")\n",
    "\n",
    "from datetime import datetime\n",
    "\n",
    "spark = SparkSession.builder.appName(\"spark\").getOrCreate()"
   ]
  },
  {
   "cell_type": "code",
   "execution_count": 67,
   "id": "95244441-cbf1-4dfa-911d-5a914a46689d",
   "metadata": {},
   "outputs": [],
   "source": [
    "books = spark.read.csv('data/best_selling_books.csv', header=True)"
   ]
  },
  {
   "cell_type": "code",
   "execution_count": 68,
   "id": "1271a2a2-2d1b-4667-97ae-e3ad2c07ea34",
   "metadata": {},
   "outputs": [
    {
     "name": "stdout",
     "output_type": "stream",
     "text": [
      "+--------------------+--------------------+-----------------+---------------+-----------------------------+------------------+\n",
      "|                Book|           Author(s)|Original language|First published|Approximate sales in millions|             Genre|\n",
      "+--------------------+--------------------+-----------------+---------------+-----------------------------+------------------+\n",
      "|A Tale of Two Cities|     Charles Dickens|          English|           1859|                          200|Historical fiction|\n",
      "|The Little Prince...|Antoine de Saint-...|           French|           1943|                          200|           Novella|\n",
      "|Harry Potter and ...|       J. K. Rowling|          English|           1997|                          120|           Fantasy|\n",
      "|And Then There We...|     Agatha Christie|          English|           1939|                          100|           Mystery|\n",
      "|Dream of the Red ...|          Cao Xueqin|          Chinese|           1791|                          100|       Family saga|\n",
      "+--------------------+--------------------+-----------------+---------------+-----------------------------+------------------+\n",
      "\n"
     ]
    }
   ],
   "source": [
    "books.limit(5).show()"
   ]
  },
  {
   "cell_type": "code",
   "execution_count": 69,
   "id": "a15256e5-201a-4664-b520-f0f1310973ae",
   "metadata": {},
   "outputs": [
    {
     "name": "stdout",
     "output_type": "stream",
     "text": [
      "+--------------------+------------+-----------------+---------------+-----------------------------+-------+\n",
      "|                Book|   Author(s)|Original language|First published|Approximate sales in millions|  Genre|\n",
      "+--------------------+------------+-----------------+---------------+-----------------------------+-------+\n",
      "|The Alchemist (O ...|Paulo Coelho|       Portuguese|           1988|                           65|Fantasy|\n",
      "+--------------------+------------+-----------------+---------------+-----------------------------+-------+\n",
      "\n"
     ]
    }
   ],
   "source": [
    "books.filter(\n",
    "    col('Original language') == 'Portuguese'\n",
    "    \n",
    ").show()"
   ]
  },
  {
   "cell_type": "code",
   "execution_count": 72,
   "id": "fdfe3331-b342-4de3-8fd0-acb339573fc8",
   "metadata": {},
   "outputs": [
    {
     "name": "stdout",
     "output_type": "stream",
     "text": [
      "+-----------------------------------+--------------+-----------------+---------------+-----------------------------+-----------------------------+\n",
      "|Book                               |Author(s)     |Original language|First published|Approximate sales in millions|Genre                        |\n",
      "+-----------------------------------+--------------+-----------------+---------------+-----------------------------+-----------------------------+\n",
      "|The Fault in Our Stars             |John Green    |English          |2012           |23                           |Young adult romantic novel   |\n",
      "|The Girl on the Train              |Paula Hawkins |English          |2015           |23                           |Thriller                     |\n",
      "|Gone Girl                          |Gillian Flynn |English          |2012           |20                           |Crime thriller novel         |\n",
      "|Where the Crawdads Sing            |Delia Owens   |English          |2018           |18                           |Coming-of-age Murder mystery |\n",
      "|All the Light We Cannot See        |Anthony Doerr |English          |2014           |15.3                         |Historical fiction, war novel|\n",
      "|Fifty Shades of Grey               |E. L. James   |English          |2011           |15.2                         |Erotica                      |\n",
      "|Becoming                           |Michelle Obama|English          |2018           |14                           |NULL                         |\n",
      "|Me Before You                      |Jojo Moyes    |English          |2012           |12                           |NULL                         |\n",
      "|Fifty Shades Darker                |E. L. James   |English          |2012           |10.4                         |Erotica                      |\n",
      "|The Subtle Art of Not Giving a Fuck|Mark Manson   |English          |2016           |10                           |NULL                         |\n",
      "+-----------------------------------+--------------+-----------------+---------------+-----------------------------+-----------------------------+\n",
      "\n"
     ]
    }
   ],
   "source": [
    "books.filter(\n",
    "    col('First published') > 2010\n",
    "    \n",
    ").show(truncate=False)"
   ]
  },
  {
   "cell_type": "code",
   "execution_count": 87,
   "id": "d1fc0a9a-2c20-4b96-a707-2af6693477ee",
   "metadata": {},
   "outputs": [
    {
     "name": "stdout",
     "output_type": "stream",
     "text": [
      "+---+---------+---------+--------------------+------+--------------------+------+----------+-------------------+\n",
      "| id|    first|     last|              skills|salary|                role|status| hire_date|     hire_timestamp|\n",
      "+---+---------+---------+--------------------+------+--------------------+------+----------+-------------------+\n",
      "|  1|     Adam|    Nowak|    [SQL, Java, GCP]|  3500|{level -> 1, posi...|  NULL|2023-05-01|2023-05-01 12:00:00|\n",
      "|  2|      Jan| Kowalski|[SQL, Java, Azure...|  8000|{level -> 3, posi...|Active|2023-05-10|2023-05-10 16:00:00|\n",
      "|  3|  Dominik|     Bajt|[Python, MongoDB,...|  4000|{level -> 1, posi...|  NULL|2023-05-15|2023-05-15 08:00:00|\n",
      "|  4|      Ewa|   Piksel|[SQL, Python, Pan...|  4100|{level -> 1, posi...| Fired|2023-06-10|2023-06-01 11:00:00|\n",
      "|  5|Krzysztof|Zależność|[Git, CI/CD, Docker]|  8000|{level -> 2, posi...|Active|2023-06-15|2023-06-15 11:30:00|\n",
      "+---+---------+---------+--------------------+------+--------------------+------+----------+-------------------+\n",
      "\n"
     ]
    }
   ],
   "source": [
    "emp.limit(5).show()"
   ]
  },
  {
   "cell_type": "markdown",
   "id": "71de1f93-9f30-4c7a-8331-5a1532244e5c",
   "metadata": {},
   "source": [
    "Zapis funkcyjny"
   ]
  },
  {
   "cell_type": "code",
   "execution_count": 76,
   "id": "57f91869-6061-437a-bd65-6b229f7838d5",
   "metadata": {},
   "outputs": [
    {
     "name": "stdout",
     "output_type": "stream",
     "text": [
      "+---+-----+---------+---------------------------------------+------+-----------------------------------------+------+----------+-------------------+\n",
      "|id |first|last     |skills                                 |salary|role                                     |status|hire_date |hire_timestamp     |\n",
      "+---+-----+---------+---------------------------------------+------+-----------------------------------------+------+----------+-------------------+\n",
      "|2  |Jan  |Kowalski |[SQL, Java, Azure, Spring]             |8000  |{level -> 3, position -> Java Developer} |Active|2023-05-10|2023-05-10 16:00:00|\n",
      "|6  |Ewa  |Kierownik|[Azure, GCP, AWS, Linux]               |12500 |{level -> 2, position -> Cloud Architect}|Fired |2023-06-20|2023-06-20 12:00:00|\n",
      "|7  |Adam |Kowalski |[Git, CI/CD, Docker, Linux, Kubernetes]|10500 |{level -> 3, position -> DevOps}         |New   |2023-01-20|2023-01-20 09:00:00|\n",
      "+---+-----+---------+---------------------------------------+------+-----------------------------------------+------+----------+-------------------+\n",
      "\n"
     ]
    }
   ],
   "source": [
    "emp.filter(\n",
    "    size(col('skills')) > 3\n",
    ").show(truncate=False)"
   ]
  },
  {
   "cell_type": "markdown",
   "id": "fc6d569a-181d-4022-8c2d-4d6cc1df77ce",
   "metadata": {},
   "source": [
    "Zapis SQL"
   ]
  },
  {
   "cell_type": "code",
   "execution_count": 86,
   "id": "bca6b7de-8638-4557-95a2-81bced861067",
   "metadata": {},
   "outputs": [
    {
     "name": "stdout",
     "output_type": "stream",
     "text": [
      "+---+-----+--------+--------------------+------+--------------------+------+----------+-------------------+\n",
      "| id|first|    last|              skills|salary|                role|status| hire_date|     hire_timestamp|\n",
      "+---+-----+--------+--------------------+------+--------------------+------+----------+-------------------+\n",
      "|  2|  Jan|Kowalski|[SQL, Java, Azure...|  8000|{level -> 3, posi...|Active|2023-05-10|2023-05-10 16:00:00|\n",
      "|  7| Adam|Kowalski|[Git, CI/CD, Dock...| 10500|{level -> 3, posi...|   New|2023-01-20|2023-01-20 09:00:00|\n",
      "+---+-----+--------+--------------------+------+--------------------+------+----------+-------------------+\n",
      "\n"
     ]
    }
   ],
   "source": [
    "emp.filter(\n",
    "    \"last == 'Kowalski' \"\n",
    ").show()"
   ]
  },
  {
   "cell_type": "code",
   "execution_count": 91,
   "id": "1832554c-4f77-4b1e-8af4-bb24c6d15ee8",
   "metadata": {},
   "outputs": [
    {
     "name": "stdout",
     "output_type": "stream",
     "text": [
      "+---+---------+---------+--------------------+------+--------------------+------+----------+-------------------+\n",
      "| id|    first|     last|              skills|salary|                role|status| hire_date|     hire_timestamp|\n",
      "+---+---------+---------+--------------------+------+--------------------+------+----------+-------------------+\n",
      "|  3|  Dominik|     Bajt|[Python, MongoDB,...|  4000|{level -> 1, posi...|  NULL|2023-05-15|2023-05-15 08:00:00|\n",
      "|  4|      Ewa|   Piksel|[SQL, Python, Pan...|  4100|{level -> 1, posi...| Fired|2023-06-10|2023-06-01 11:00:00|\n",
      "|  5|Krzysztof|Zależność|[Git, CI/CD, Docker]|  8000|{level -> 2, posi...|Active|2023-06-15|2023-06-15 11:30:00|\n",
      "|  6|      Ewa|Kierownik|[Azure, GCP, AWS,...| 12500|{level -> 2, posi...| Fired|2023-06-20|2023-06-20 12:00:00|\n",
      "+---+---------+---------+--------------------+------+--------------------+------+----------+-------------------+\n",
      "\n"
     ]
    }
   ],
   "source": [
    "emp.filter(\n",
    "    \"hire_date > '2023-05-10' \"\n",
    ").show()"
   ]
  },
  {
   "cell_type": "code",
   "execution_count": 92,
   "id": "e99ae186-fecb-4c8a-b904-44a73fb2c121",
   "metadata": {},
   "outputs": [
    {
     "name": "stdout",
     "output_type": "stream",
     "text": [
      "+---+---------+---------+--------------------+------+--------------------+------+----------+-------------------+\n",
      "| id|    first|     last|              skills|salary|                role|status| hire_date|     hire_timestamp|\n",
      "+---+---------+---------+--------------------+------+--------------------+------+----------+-------------------+\n",
      "|  3|  Dominik|     Bajt|[Python, MongoDB,...|  4000|{level -> 1, posi...|  NULL|2023-05-15|2023-05-15 08:00:00|\n",
      "|  4|      Ewa|   Piksel|[SQL, Python, Pan...|  4100|{level -> 1, posi...| Fired|2023-06-10|2023-06-01 11:00:00|\n",
      "|  5|Krzysztof|Zależność|[Git, CI/CD, Docker]|  8000|{level -> 2, posi...|Active|2023-06-15|2023-06-15 11:30:00|\n",
      "|  6|      Ewa|Kierownik|[Azure, GCP, AWS,...| 12500|{level -> 2, posi...| Fired|2023-06-20|2023-06-20 12:00:00|\n",
      "+---+---------+---------+--------------------+------+--------------------+------+----------+-------------------+\n",
      "\n"
     ]
    }
   ],
   "source": [
    "emp.filter(\n",
    "    col('hire_date') > datetime(2023, 5, 10)\n",
    ").show()"
   ]
  },
  {
   "cell_type": "markdown",
   "id": "2f6ec490-fe67-4d1f-b536-b1b7a405a08c",
   "metadata": {},
   "source": [
    "## 6.3. Filtrowanie danych cz. 2"
   ]
  },
  {
   "cell_type": "code",
   "execution_count": null,
   "id": "acf0568f-7039-45e5-9948-fe903cddfc02",
   "metadata": {},
   "outputs": [],
   "source": []
  }
 ],
 "metadata": {
  "kernelspec": {
   "display_name": "Python 3 (ipykernel)",
   "language": "python",
   "name": "python3"
  },
  "language_info": {
   "codemirror_mode": {
    "name": "ipython",
    "version": 3
   },
   "file_extension": ".py",
   "mimetype": "text/x-python",
   "name": "python",
   "nbconvert_exporter": "python",
   "pygments_lexer": "ipython3",
   "version": "3.11.6"
  }
 },
 "nbformat": 4,
 "nbformat_minor": 5
}
